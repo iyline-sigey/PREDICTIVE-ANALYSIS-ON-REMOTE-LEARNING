{
  "nbformat": 4,
  "nbformat_minor": 0,
  "metadata": {
    "colab": {
      "name": "Final Tweet Scrapping.ipynb",
      "provenance": [],
      "include_colab_link": true
    },
    "kernelspec": {
      "name": "python3",
      "display_name": "Python 3"
    },
    "language_info": {
      "name": "python"
    }
  },
  "cells": [
    {
      "cell_type": "markdown",
      "metadata": {
        "id": "view-in-github",
        "colab_type": "text"
      },
      "source": [
        "<a href=\"https://colab.research.google.com/github/iyline-sigey/PREDICTIVE-ANALYSIS-ON-REMOTE-LEARNING/blob/Data-Scrapping/Final_Tweet_Scrapping.ipynb\" target=\"_parent\"><img src=\"https://colab.research.google.com/assets/colab-badge.svg\" alt=\"Open In Colab\"/></a>"
      ]
    },
    {
      "cell_type": "code",
      "metadata": {
        "colab": {
          "base_uri": "https://localhost:8080/"
        },
        "id": "yLJ195sQOjZA",
        "outputId": "617bcd37-79ac-4abc-ba24-407e0063434a"
      },
      "source": [
        "!pip install tweepy"
      ],
      "execution_count": 1,
      "outputs": [
        {
          "output_type": "stream",
          "text": [
            "Requirement already satisfied: tweepy in /usr/local/lib/python3.7/dist-packages (3.10.0)\n",
            "Requirement already satisfied: requests-oauthlib>=0.7.0 in /usr/local/lib/python3.7/dist-packages (from tweepy) (1.3.0)\n",
            "Requirement already satisfied: requests[socks]>=2.11.1 in /usr/local/lib/python3.7/dist-packages (from tweepy) (2.23.0)\n",
            "Requirement already satisfied: six>=1.10.0 in /usr/local/lib/python3.7/dist-packages (from tweepy) (1.15.0)\n",
            "Requirement already satisfied: oauthlib>=3.0.0 in /usr/local/lib/python3.7/dist-packages (from requests-oauthlib>=0.7.0->tweepy) (3.1.1)\n",
            "Requirement already satisfied: chardet<4,>=3.0.2 in /usr/local/lib/python3.7/dist-packages (from requests[socks]>=2.11.1->tweepy) (3.0.4)\n",
            "Requirement already satisfied: idna<3,>=2.5 in /usr/local/lib/python3.7/dist-packages (from requests[socks]>=2.11.1->tweepy) (2.10)\n",
            "Requirement already satisfied: urllib3!=1.25.0,!=1.25.1,<1.26,>=1.21.1 in /usr/local/lib/python3.7/dist-packages (from requests[socks]>=2.11.1->tweepy) (1.24.3)\n",
            "Requirement already satisfied: certifi>=2017.4.17 in /usr/local/lib/python3.7/dist-packages (from requests[socks]>=2.11.1->tweepy) (2021.5.30)\n",
            "Requirement already satisfied: PySocks!=1.5.7,>=1.5.6 in /usr/local/lib/python3.7/dist-packages (from requests[socks]>=2.11.1->tweepy) (1.7.1)\n"
          ],
          "name": "stdout"
        }
      ]
    },
    {
      "cell_type": "code",
      "metadata": {
        "id": "JJGCWcF5OtCf"
      },
      "source": [
        "#Libraries\n",
        "import os\n",
        "import tweepy as tw\n",
        "import pandas as pd\n",
        "import tweepy\n",
        "from tweepy import OAuthHandler\n",
        "from tweepy.streaming import StreamListener\n",
        "import json\n",
        "#from unidecode import unidecode\n",
        "import time\n",
        "import datetime\n",
        "from tqdm import tqdm\n",
        "import pandas as pd\n",
        "import numpy as np"
      ],
      "execution_count": 2,
      "outputs": []
    },
    {
      "cell_type": "code",
      "metadata": {
        "id": "FLKit-edPfhr"
      },
      "source": [
        "#define the tokens and keys\n",
        "consumer_key = 'yvlt89Aw5JmuPGfEYGmynRkXv'\n",
        "consumer_secret = 'ITQIvSmIVkPC0e9xHe6mCDz6Q0MDDOXvupw9HS5BadlCPvgDCF'\n",
        "access_token = '1425821844204969997-vuRcuUegyA55yyv0M2mpuT2jRTskrX'\n",
        "access_token_secret = 'CJVjj76V4uyTlaACmgXebQLV8EMOgAsyTzK5lJnOIxSxF'\n",
        "\n",
        "\n",
        "auth = tw.OAuthHandler(consumer_key, consumer_secret)\n",
        "auth.set_access_token(access_token, access_token_secret)\n",
        "api = tw.API(auth,wait_on_rate_limit=True)"
      ],
      "execution_count": 3,
      "outputs": []
    },
    {
      "cell_type": "code",
      "metadata": {
        "id": "S0ndDWqrhe5l"
      },
      "source": [
        "def tweetSearch(query, limit):\n",
        "  geo = '-0.023559,37.906193,600km'\n",
        "  tweets = []\n",
        "  for page in tweepy.Cursor(api.search, q=query, geocode=geo, count=limit, tweet_mode=\"extended\").pages(limit):\n",
        "    for tweet in page:\n",
        "      tweets.append(tweet)\n",
        "  return tweets"
      ],
      "execution_count": 4,
      "outputs": []
    },
    {
      "cell_type": "code",
      "metadata": {
        "id": "oUnJjprnig9V"
      },
      "source": [
        "def tweets_to_data_frame(tweets):\n",
        "  df = pd.DataFrame(data=[tweet.full_text.encode('utf-8') for tweet in tweets], columns=[\"Tweets\"])\n",
        "  df[\"user\"] = np.array([tweet.user.screen_name for tweet in tweets])\n",
        "  df[\"location\"] = np.array([tweet.user.location for tweet in tweets])\n",
        "  df[\"id\"] = np.array([tweet.id for tweet in tweets])\n",
        "  df[\"lens\"] = np.array([len(tweet.full_text) for tweet in tweets])\n",
        "  df[\"date\"] = np.array([tweet.created_at for tweet in tweets])\n",
        "  df[\"place\"] = np.array([tweet.place for tweet in tweets])\n",
        "  df[\"coordinates\"] = np.array([tweet.coordinates for tweet in tweets])\n",
        "  df[\"lang\"] = np.array([tweet.lang for tweet in tweets])\n",
        "  df[\"source\"] = np.array([tweet.source for tweet in tweets])\n",
        "  df[\"likes\"] = np.array([tweet.favorite_count for tweet in tweets])\n",
        "  df[\"retweets\"] = np.array([tweet.retweet_count for tweet in tweets])\n",
        "  return df"
      ],
      "execution_count": 5,
      "outputs": []
    },
    {
      "cell_type": "code",
      "metadata": {
        "id": "TbE13HZeiamG"
      },
      "source": [
        "# add hashtags in the following list\n",
        "hashtags = ['#onlinelearning']"
      ],
      "execution_count": 41,
      "outputs": []
    },
    {
      "cell_type": "code",
      "metadata": {
        "colab": {
          "base_uri": "https://localhost:8080/"
        },
        "id": "K5S6UfYZioZ6",
        "outputId": "ce5010b7-634c-4c4f-8fa5-2398df70e38b"
      },
      "source": [
        "total_tweets = 0\n",
        "\"\"\"\n",
        "The following for loop will collect a tweets that have the hashtags\n",
        "mentioned in the list and save the tweets into csv file\n",
        "\"\"\"\n",
        "for n in tqdm(hashtags):\n",
        "  # first we fetch all tweets that have specific hashtag\n",
        "  hash_tweets = tweetSearch(query=n,limit=7000)\n",
        "  total_tweets += int(len(hash_tweets))\n",
        "  # second we convert our tweets into datarame\n",
        "  df = tweets_to_data_frame(hash_tweets)\n",
        "  #third we save the dataframe into csv file\n",
        "  df.to_csv(\"data.csv\".format(n))\n",
        "# show total number of tweets collected\n",
        "print(\"total_tweets: {}\".format(total_tweets))"
      ],
      "execution_count": 49,
      "outputs": [
        {
          "output_type": "stream",
          "text": [
            "100%|██████████| 1/1 [00:01<00:00,  1.00s/it]"
          ],
          "name": "stderr"
        },
        {
          "output_type": "stream",
          "text": [
            "total_tweets: 39\n"
          ],
          "name": "stdout"
        },
        {
          "output_type": "stream",
          "text": [
            "\n"
          ],
          "name": "stderr"
        }
      ]
    },
    {
      "cell_type": "markdown",
      "metadata": {
        "id": "s_mwmu6DtfnL"
      },
      "source": [
        "## Loading the data"
      ]
    },
    {
      "cell_type": "code",
      "metadata": {
        "id": "h3qyy9ZHSRAv",
        "colab": {
          "base_uri": "https://localhost:8080/",
          "height": 442
        },
        "outputId": "4265679a-ec24-43e3-9c03-e5e1316cce43"
      },
      "source": [
        "#Reading the data\n",
        "digital=pd.read_csv('digital.csv')\n",
        "digital.head(5)"
      ],
      "execution_count": 52,
      "outputs": [
        {
          "output_type": "execute_result",
          "data": {
            "text/html": [
              "<div>\n",
              "<style scoped>\n",
              "    .dataframe tbody tr th:only-of-type {\n",
              "        vertical-align: middle;\n",
              "    }\n",
              "\n",
              "    .dataframe tbody tr th {\n",
              "        vertical-align: top;\n",
              "    }\n",
              "\n",
              "    .dataframe thead th {\n",
              "        text-align: right;\n",
              "    }\n",
              "</style>\n",
              "<table border=\"1\" class=\"dataframe\">\n",
              "  <thead>\n",
              "    <tr style=\"text-align: right;\">\n",
              "      <th></th>\n",
              "      <th>Unnamed: 0</th>\n",
              "      <th>Tweets</th>\n",
              "      <th>user</th>\n",
              "      <th>location</th>\n",
              "      <th>id</th>\n",
              "      <th>lens</th>\n",
              "      <th>date</th>\n",
              "      <th>place</th>\n",
              "      <th>coordinates</th>\n",
              "      <th>lang</th>\n",
              "      <th>source</th>\n",
              "      <th>likes</th>\n",
              "      <th>retweets</th>\n",
              "    </tr>\n",
              "  </thead>\n",
              "  <tbody>\n",
              "    <tr>\n",
              "      <th>0</th>\n",
              "      <td>0</td>\n",
              "      <td>b\"@UNHABITAT @UNHABITAT_ROAF @UNHabitat_Som @U...</td>\n",
              "      <td>MaimunahSharif</td>\n",
              "      <td>Nairobi, Kenya</td>\n",
              "      <td>1427572732150132736</td>\n",
              "      <td>367</td>\n",
              "      <td>2021-08-17 10:07:17</td>\n",
              "      <td>NaN</td>\n",
              "      <td>NaN</td>\n",
              "      <td>en</td>\n",
              "      <td>Twitter for Android</td>\n",
              "      <td>1</td>\n",
              "      <td>0</td>\n",
              "    </tr>\n",
              "    <tr>\n",
              "      <th>1</th>\n",
              "      <td>1</td>\n",
              "      <td>b'Want to learn more about genre as well as st...</td>\n",
              "      <td>WANTMofficial</td>\n",
              "      <td>Kenya</td>\n",
              "      <td>1427496748075954208</td>\n",
              "      <td>195</td>\n",
              "      <td>2021-08-17 05:05:21</td>\n",
              "      <td>NaN</td>\n",
              "      <td>NaN</td>\n",
              "      <td>en</td>\n",
              "      <td>Twitter Web App</td>\n",
              "      <td>1</td>\n",
              "      <td>0</td>\n",
              "    </tr>\n",
              "    <tr>\n",
              "      <th>2</th>\n",
              "      <td>2</td>\n",
              "      <td>b'One of the greatest gifts I have had is to l...</td>\n",
              "      <td>TomLeeOsborn</td>\n",
              "      <td>Nairobi, Kenya</td>\n",
              "      <td>1427481638364123138</td>\n",
              "      <td>301</td>\n",
              "      <td>2021-08-17 04:05:18</td>\n",
              "      <td>Place(_api=&lt;tweepy.api.API object at 0x7fb294a...</td>\n",
              "      <td>NaN</td>\n",
              "      <td>en</td>\n",
              "      <td>Twitter for iPhone</td>\n",
              "      <td>15</td>\n",
              "      <td>0</td>\n",
              "    </tr>\n",
              "    <tr>\n",
              "      <th>3</th>\n",
              "      <td>3</td>\n",
              "      <td>b'Akello Launches Digital Learning Opportuniti...</td>\n",
              "      <td>rookello</td>\n",
              "      <td>Kenya</td>\n",
              "      <td>1427225551387901955</td>\n",
              "      <td>93</td>\n",
              "      <td>2021-08-16 11:07:42</td>\n",
              "      <td>NaN</td>\n",
              "      <td>NaN</td>\n",
              "      <td>en</td>\n",
              "      <td>Twitter Web App</td>\n",
              "      <td>0</td>\n",
              "      <td>0</td>\n",
              "    </tr>\n",
              "    <tr>\n",
              "      <th>4</th>\n",
              "      <td>4</td>\n",
              "      <td>b'a)Digital Education and Learning platforms\\n...</td>\n",
              "      <td>_DigitalEconomy</td>\n",
              "      <td>Rwanda</td>\n",
              "      <td>1427179959391506432</td>\n",
              "      <td>265</td>\n",
              "      <td>2021-08-16 08:06:32</td>\n",
              "      <td>NaN</td>\n",
              "      <td>NaN</td>\n",
              "      <td>en</td>\n",
              "      <td>Twitter Web App</td>\n",
              "      <td>0</td>\n",
              "      <td>0</td>\n",
              "    </tr>\n",
              "  </tbody>\n",
              "</table>\n",
              "</div>"
            ],
            "text/plain": [
              "   Unnamed: 0  ... retweets\n",
              "0           0  ...        0\n",
              "1           1  ...        0\n",
              "2           2  ...        0\n",
              "3           3  ...        0\n",
              "4           4  ...        0\n",
              "\n",
              "[5 rows x 13 columns]"
            ]
          },
          "metadata": {
            "tags": []
          },
          "execution_count": 52
        }
      ]
    },
    {
      "cell_type": "code",
      "metadata": {
        "colab": {
          "base_uri": "https://localhost:8080/",
          "height": 405
        },
        "id": "EwCG_SWtqb3Y",
        "outputId": "5a7efb29-9b44-4d35-8e22-6a666af5e1d3"
      },
      "source": [
        "online=pd.read_csv('online.csv')\n",
        "online.head()"
      ],
      "execution_count": 54,
      "outputs": [
        {
          "output_type": "execute_result",
          "data": {
            "text/html": [
              "<div>\n",
              "<style scoped>\n",
              "    .dataframe tbody tr th:only-of-type {\n",
              "        vertical-align: middle;\n",
              "    }\n",
              "\n",
              "    .dataframe tbody tr th {\n",
              "        vertical-align: top;\n",
              "    }\n",
              "\n",
              "    .dataframe thead th {\n",
              "        text-align: right;\n",
              "    }\n",
              "</style>\n",
              "<table border=\"1\" class=\"dataframe\">\n",
              "  <thead>\n",
              "    <tr style=\"text-align: right;\">\n",
              "      <th></th>\n",
              "      <th>Unnamed: 0</th>\n",
              "      <th>Tweets</th>\n",
              "      <th>user</th>\n",
              "      <th>location</th>\n",
              "      <th>id</th>\n",
              "      <th>lens</th>\n",
              "      <th>date</th>\n",
              "      <th>place</th>\n",
              "      <th>coordinates</th>\n",
              "      <th>lang</th>\n",
              "      <th>source</th>\n",
              "      <th>likes</th>\n",
              "      <th>retweets</th>\n",
              "    </tr>\n",
              "  </thead>\n",
              "  <tbody>\n",
              "    <tr>\n",
              "      <th>0</th>\n",
              "      <td>0</td>\n",
              "      <td>b'ONLINE LEARNING |\\nBen Troy Njue hosts Prof....</td>\n",
              "      <td>KBCTelevision</td>\n",
              "      <td>Nairobi, Kenya</td>\n",
              "      <td>1427541371418783761</td>\n",
              "      <td>190</td>\n",
              "      <td>2021-08-17 08:02:40</td>\n",
              "      <td>NaN</td>\n",
              "      <td>NaN</td>\n",
              "      <td>en</td>\n",
              "      <td>TweetDeck</td>\n",
              "      <td>0</td>\n",
              "      <td>1</td>\n",
              "    </tr>\n",
              "    <tr>\n",
              "      <th>1</th>\n",
              "      <td>1</td>\n",
              "      <td>b\"Virtual school is back at Jinja city's educa...</td>\n",
              "      <td>felixadvise</td>\n",
              "      <td>Jinja, Uganda</td>\n",
              "      <td>1427539081316216853</td>\n",
              "      <td>299</td>\n",
              "      <td>2021-08-17 07:53:34</td>\n",
              "      <td>NaN</td>\n",
              "      <td>NaN</td>\n",
              "      <td>en</td>\n",
              "      <td>Twitter Web App</td>\n",
              "      <td>6</td>\n",
              "      <td>3</td>\n",
              "    </tr>\n",
              "    <tr>\n",
              "      <th>2</th>\n",
              "      <td>2</td>\n",
              "      <td>b\"@KBCChannel1 @ManagementUNI  the best in onl...</td>\n",
              "      <td>Daisywanga2</td>\n",
              "      <td>Nairobi, Kenya</td>\n",
              "      <td>1427533647549247494</td>\n",
              "      <td>89</td>\n",
              "      <td>2021-08-17 07:31:58</td>\n",
              "      <td>NaN</td>\n",
              "      <td>NaN</td>\n",
              "      <td>en</td>\n",
              "      <td>Twitter for Android</td>\n",
              "      <td>2</td>\n",
              "      <td>0</td>\n",
              "    </tr>\n",
              "    <tr>\n",
              "      <th>3</th>\n",
              "      <td>3</td>\n",
              "      <td>b'Check out this course on TinyML (https://t.c...</td>\n",
              "      <td>VickTheGeek</td>\n",
              "      <td>Nairobi, Kenya</td>\n",
              "      <td>1427516048178393106</td>\n",
              "      <td>192</td>\n",
              "      <td>2021-08-17 06:22:02</td>\n",
              "      <td>NaN</td>\n",
              "      <td>NaN</td>\n",
              "      <td>en</td>\n",
              "      <td>Twitter for Android</td>\n",
              "      <td>0</td>\n",
              "      <td>0</td>\n",
              "    </tr>\n",
              "    <tr>\n",
              "      <th>4</th>\n",
              "      <td>4</td>\n",
              "      <td>b'Want to learn more about genre as well as st...</td>\n",
              "      <td>WANTMofficial</td>\n",
              "      <td>Kenya</td>\n",
              "      <td>1427496748075954208</td>\n",
              "      <td>195</td>\n",
              "      <td>2021-08-17 05:05:21</td>\n",
              "      <td>NaN</td>\n",
              "      <td>NaN</td>\n",
              "      <td>en</td>\n",
              "      <td>Twitter Web App</td>\n",
              "      <td>1</td>\n",
              "      <td>0</td>\n",
              "    </tr>\n",
              "  </tbody>\n",
              "</table>\n",
              "</div>"
            ],
            "text/plain": [
              "   Unnamed: 0  ... retweets\n",
              "0           0  ...        1\n",
              "1           1  ...        3\n",
              "2           2  ...        0\n",
              "3           3  ...        0\n",
              "4           4  ...        0\n",
              "\n",
              "[5 rows x 13 columns]"
            ]
          },
          "metadata": {
            "tags": []
          },
          "execution_count": 54
        }
      ]
    },
    {
      "cell_type": "code",
      "metadata": {
        "colab": {
          "base_uri": "https://localhost:8080/",
          "height": 408
        },
        "id": "WAs9KjF6lyoZ",
        "outputId": "99db7288-04a5-4e48-ccb6-323501eb3689"
      },
      "source": [
        "e_learn=pd.read_csv('e_learning.csv')\n",
        "e_learn.head()"
      ],
      "execution_count": 55,
      "outputs": [
        {
          "output_type": "execute_result",
          "data": {
            "text/html": [
              "<div>\n",
              "<style scoped>\n",
              "    .dataframe tbody tr th:only-of-type {\n",
              "        vertical-align: middle;\n",
              "    }\n",
              "\n",
              "    .dataframe tbody tr th {\n",
              "        vertical-align: top;\n",
              "    }\n",
              "\n",
              "    .dataframe thead th {\n",
              "        text-align: right;\n",
              "    }\n",
              "</style>\n",
              "<table border=\"1\" class=\"dataframe\">\n",
              "  <thead>\n",
              "    <tr style=\"text-align: right;\">\n",
              "      <th></th>\n",
              "      <th>Unnamed: 0</th>\n",
              "      <th>Tweets</th>\n",
              "      <th>user</th>\n",
              "      <th>location</th>\n",
              "      <th>id</th>\n",
              "      <th>lens</th>\n",
              "      <th>date</th>\n",
              "      <th>place</th>\n",
              "      <th>coordinates</th>\n",
              "      <th>lang</th>\n",
              "      <th>source</th>\n",
              "      <th>likes</th>\n",
              "      <th>retweets</th>\n",
              "    </tr>\n",
              "  </thead>\n",
              "  <tbody>\n",
              "    <tr>\n",
              "      <th>0</th>\n",
              "      <td>0</td>\n",
              "      <td>b\"Worrying about where and how to study since ...</td>\n",
              "      <td>BIT_InstituteUg</td>\n",
              "      <td>Kampala, Uganda</td>\n",
              "      <td>1427556445097185281</td>\n",
              "      <td>303</td>\n",
              "      <td>2021-08-17 09:02:33</td>\n",
              "      <td>NaN</td>\n",
              "      <td>NaN</td>\n",
              "      <td>en</td>\n",
              "      <td>Twitter for Android</td>\n",
              "      <td>2</td>\n",
              "      <td>1</td>\n",
              "    </tr>\n",
              "    <tr>\n",
              "      <th>1</th>\n",
              "      <td>1</td>\n",
              "      <td>b'@ManagementUNI has the best E-learning and o...</td>\n",
              "      <td>MukamiWaEmbu</td>\n",
              "      <td>Nairobi, Kenya</td>\n",
              "      <td>1427549015982419975</td>\n",
              "      <td>74</td>\n",
              "      <td>2021-08-17 08:33:02</td>\n",
              "      <td>NaN</td>\n",
              "      <td>NaN</td>\n",
              "      <td>en</td>\n",
              "      <td>Twitter for Android</td>\n",
              "      <td>0</td>\n",
              "      <td>0</td>\n",
              "    </tr>\n",
              "    <tr>\n",
              "      <th>2</th>\n",
              "      <td>2</td>\n",
              "      <td>b'Road infrastructure is vulnerable to geohaza...</td>\n",
              "      <td>WorldBankKenya</td>\n",
              "      <td>Nairobi, Kenya</td>\n",
              "      <td>1427548316334764046</td>\n",
              "      <td>243</td>\n",
              "      <td>2021-08-17 08:30:15</td>\n",
              "      <td>NaN</td>\n",
              "      <td>NaN</td>\n",
              "      <td>en</td>\n",
              "      <td>Hootsuite Inc.</td>\n",
              "      <td>6</td>\n",
              "      <td>5</td>\n",
              "    </tr>\n",
              "    <tr>\n",
              "      <th>3</th>\n",
              "      <td>3</td>\n",
              "      <td>b'https://t.co/jvaL724nTo catch the interview ...</td>\n",
              "      <td>ManagementUNI</td>\n",
              "      <td>Nairobi, Kenya</td>\n",
              "      <td>1427535353175547906</td>\n",
              "      <td>116</td>\n",
              "      <td>2021-08-17 07:38:45</td>\n",
              "      <td>NaN</td>\n",
              "      <td>NaN</td>\n",
              "      <td>en</td>\n",
              "      <td>Hootsuite Inc.</td>\n",
              "      <td>1</td>\n",
              "      <td>2</td>\n",
              "    </tr>\n",
              "    <tr>\n",
              "      <th>4</th>\n",
              "      <td>4</td>\n",
              "      <td>b\"State Min Of Educ talking about e- learning ...</td>\n",
              "      <td>claudi256</td>\n",
              "      <td>KAMPALA</td>\n",
              "      <td>1427515928921579524</td>\n",
              "      <td>303</td>\n",
              "      <td>2021-08-17 06:21:34</td>\n",
              "      <td>NaN</td>\n",
              "      <td>NaN</td>\n",
              "      <td>en</td>\n",
              "      <td>Twitter for Android</td>\n",
              "      <td>0</td>\n",
              "      <td>0</td>\n",
              "    </tr>\n",
              "  </tbody>\n",
              "</table>\n",
              "</div>"
            ],
            "text/plain": [
              "   Unnamed: 0  ... retweets\n",
              "0           0  ...        1\n",
              "1           1  ...        0\n",
              "2           2  ...        5\n",
              "3           3  ...        2\n",
              "4           4  ...        0\n",
              "\n",
              "[5 rows x 13 columns]"
            ]
          },
          "metadata": {
            "tags": []
          },
          "execution_count": 55
        }
      ]
    },
    {
      "cell_type": "code",
      "metadata": {
        "colab": {
          "base_uri": "https://localhost:8080/",
          "height": 408
        },
        "id": "a5Es6JOHt41x",
        "outputId": "1bd8591e-22c7-44a3-bc74-eb4a2f1a7e58"
      },
      "source": [
        "online_classes=pd.read_csv('online_classes.csv')\n",
        "online_classes.head()"
      ],
      "execution_count": 56,
      "outputs": [
        {
          "output_type": "execute_result",
          "data": {
            "text/html": [
              "<div>\n",
              "<style scoped>\n",
              "    .dataframe tbody tr th:only-of-type {\n",
              "        vertical-align: middle;\n",
              "    }\n",
              "\n",
              "    .dataframe tbody tr th {\n",
              "        vertical-align: top;\n",
              "    }\n",
              "\n",
              "    .dataframe thead th {\n",
              "        text-align: right;\n",
              "    }\n",
              "</style>\n",
              "<table border=\"1\" class=\"dataframe\">\n",
              "  <thead>\n",
              "    <tr style=\"text-align: right;\">\n",
              "      <th></th>\n",
              "      <th>Unnamed: 0</th>\n",
              "      <th>Tweets</th>\n",
              "      <th>user</th>\n",
              "      <th>location</th>\n",
              "      <th>id</th>\n",
              "      <th>lens</th>\n",
              "      <th>date</th>\n",
              "      <th>place</th>\n",
              "      <th>coordinates</th>\n",
              "      <th>lang</th>\n",
              "      <th>source</th>\n",
              "      <th>likes</th>\n",
              "      <th>retweets</th>\n",
              "    </tr>\n",
              "  </thead>\n",
              "  <tbody>\n",
              "    <tr>\n",
              "      <th>0</th>\n",
              "      <td>0</td>\n",
              "      <td>b\"Worrying about where and how to study since ...</td>\n",
              "      <td>BIT_InstituteUg</td>\n",
              "      <td>Kampala, Uganda</td>\n",
              "      <td>1427556445097185281</td>\n",
              "      <td>303</td>\n",
              "      <td>2021-08-17 09:02:33</td>\n",
              "      <td>NaN</td>\n",
              "      <td>NaN</td>\n",
              "      <td>en</td>\n",
              "      <td>Twitter for Android</td>\n",
              "      <td>2</td>\n",
              "      <td>1</td>\n",
              "    </tr>\n",
              "    <tr>\n",
              "      <th>1</th>\n",
              "      <td>1</td>\n",
              "      <td>b'@ManagementUNI has the best E-learning and o...</td>\n",
              "      <td>MukamiWaEmbu</td>\n",
              "      <td>Nairobi, Kenya</td>\n",
              "      <td>1427549015982419975</td>\n",
              "      <td>74</td>\n",
              "      <td>2021-08-17 08:33:02</td>\n",
              "      <td>NaN</td>\n",
              "      <td>NaN</td>\n",
              "      <td>en</td>\n",
              "      <td>Twitter for Android</td>\n",
              "      <td>0</td>\n",
              "      <td>0</td>\n",
              "    </tr>\n",
              "    <tr>\n",
              "      <th>2</th>\n",
              "      <td>2</td>\n",
              "      <td>b'Road infrastructure is vulnerable to geohaza...</td>\n",
              "      <td>WorldBankKenya</td>\n",
              "      <td>Nairobi, Kenya</td>\n",
              "      <td>1427548316334764046</td>\n",
              "      <td>243</td>\n",
              "      <td>2021-08-17 08:30:15</td>\n",
              "      <td>NaN</td>\n",
              "      <td>NaN</td>\n",
              "      <td>en</td>\n",
              "      <td>Hootsuite Inc.</td>\n",
              "      <td>6</td>\n",
              "      <td>5</td>\n",
              "    </tr>\n",
              "    <tr>\n",
              "      <th>3</th>\n",
              "      <td>3</td>\n",
              "      <td>b'https://t.co/jvaL724nTo catch the interview ...</td>\n",
              "      <td>ManagementUNI</td>\n",
              "      <td>Nairobi, Kenya</td>\n",
              "      <td>1427535353175547906</td>\n",
              "      <td>116</td>\n",
              "      <td>2021-08-17 07:38:45</td>\n",
              "      <td>NaN</td>\n",
              "      <td>NaN</td>\n",
              "      <td>en</td>\n",
              "      <td>Hootsuite Inc.</td>\n",
              "      <td>1</td>\n",
              "      <td>2</td>\n",
              "    </tr>\n",
              "    <tr>\n",
              "      <th>4</th>\n",
              "      <td>4</td>\n",
              "      <td>b\"State Min Of Educ talking about e- learning ...</td>\n",
              "      <td>claudi256</td>\n",
              "      <td>KAMPALA</td>\n",
              "      <td>1427515928921579524</td>\n",
              "      <td>303</td>\n",
              "      <td>2021-08-17 06:21:34</td>\n",
              "      <td>NaN</td>\n",
              "      <td>NaN</td>\n",
              "      <td>en</td>\n",
              "      <td>Twitter for Android</td>\n",
              "      <td>0</td>\n",
              "      <td>0</td>\n",
              "    </tr>\n",
              "  </tbody>\n",
              "</table>\n",
              "</div>"
            ],
            "text/plain": [
              "   Unnamed: 0  ... retweets\n",
              "0           0  ...        1\n",
              "1           1  ...        0\n",
              "2           2  ...        5\n",
              "3           3  ...        2\n",
              "4           4  ...        0\n",
              "\n",
              "[5 rows x 13 columns]"
            ]
          },
          "metadata": {
            "tags": []
          },
          "execution_count": 56
        }
      ]
    },
    {
      "cell_type": "code",
      "metadata": {
        "colab": {
          "base_uri": "https://localhost:8080/",
          "height": 323
        },
        "id": "BmGjpDImt_6-",
        "outputId": "f98fd340-0207-4cec-acd4-c86fe2bc193f"
      },
      "source": [
        "remote=pd.read_csv('tweets.csv')\n",
        "remote.head()"
      ],
      "execution_count": 57,
      "outputs": [
        {
          "output_type": "execute_result",
          "data": {
            "text/html": [
              "<div>\n",
              "<style scoped>\n",
              "    .dataframe tbody tr th:only-of-type {\n",
              "        vertical-align: middle;\n",
              "    }\n",
              "\n",
              "    .dataframe tbody tr th {\n",
              "        vertical-align: top;\n",
              "    }\n",
              "\n",
              "    .dataframe thead th {\n",
              "        text-align: right;\n",
              "    }\n",
              "</style>\n",
              "<table border=\"1\" class=\"dataframe\">\n",
              "  <thead>\n",
              "    <tr style=\"text-align: right;\">\n",
              "      <th></th>\n",
              "      <th>Unnamed: 0</th>\n",
              "      <th>Tweets</th>\n",
              "      <th>user</th>\n",
              "      <th>location</th>\n",
              "      <th>id</th>\n",
              "      <th>lens</th>\n",
              "      <th>date</th>\n",
              "      <th>place</th>\n",
              "      <th>coordinates</th>\n",
              "      <th>lang</th>\n",
              "      <th>source</th>\n",
              "      <th>likes</th>\n",
              "      <th>retweets</th>\n",
              "    </tr>\n",
              "  </thead>\n",
              "  <tbody>\n",
              "    <tr>\n",
              "      <th>0</th>\n",
              "      <td>0</td>\n",
              "      <td>b\"Access to remote learning facilities is not ...</td>\n",
              "      <td>anan_prisca</td>\n",
              "      <td>Kampala, Uganda</td>\n",
              "      <td>1427506234958262292</td>\n",
              "      <td>311</td>\n",
              "      <td>2021-08-17 05:43:02</td>\n",
              "      <td>NaN</td>\n",
              "      <td>NaN</td>\n",
              "      <td>en</td>\n",
              "      <td>Twitter for Android</td>\n",
              "      <td>0</td>\n",
              "      <td>0</td>\n",
              "    </tr>\n",
              "    <tr>\n",
              "      <th>1</th>\n",
              "      <td>1</td>\n",
              "      <td>b'@KelvinMurungi @global_uganda \\xf0\\x9f\\x92\\x...</td>\n",
              "      <td>anan_prisca</td>\n",
              "      <td>Kampala, Uganda</td>\n",
              "      <td>1427195434729189376</td>\n",
              "      <td>189</td>\n",
              "      <td>2021-08-16 09:08:02</td>\n",
              "      <td>NaN</td>\n",
              "      <td>NaN</td>\n",
              "      <td>en</td>\n",
              "      <td>Twitter for Android</td>\n",
              "      <td>1</td>\n",
              "      <td>0</td>\n",
              "    </tr>\n",
              "    <tr>\n",
              "      <th>2</th>\n",
              "      <td>2</td>\n",
              "      <td>b'Need insights on how to do virtual facilitat...</td>\n",
              "      <td>SPARC_Africa</td>\n",
              "      <td>Nairobi, Kenya</td>\n",
              "      <td>1425343977411301383</td>\n",
              "      <td>228</td>\n",
              "      <td>2021-08-11 06:31:00</td>\n",
              "      <td>NaN</td>\n",
              "      <td>NaN</td>\n",
              "      <td>en</td>\n",
              "      <td>Twitter Web App</td>\n",
              "      <td>6</td>\n",
              "      <td>2</td>\n",
              "    </tr>\n",
              "    <tr>\n",
              "      <th>3</th>\n",
              "      <td>3</td>\n",
              "      <td>b'Electricity is critically important in the a...</td>\n",
              "      <td>tuhaMozert</td>\n",
              "      <td>Kampala-Uganda</td>\n",
              "      <td>1425001298462715904</td>\n",
              "      <td>156</td>\n",
              "      <td>2021-08-10 07:49:19</td>\n",
              "      <td>NaN</td>\n",
              "      <td>NaN</td>\n",
              "      <td>en</td>\n",
              "      <td>Twitter for iPhone</td>\n",
              "      <td>3</td>\n",
              "      <td>2</td>\n",
              "    </tr>\n",
              "  </tbody>\n",
              "</table>\n",
              "</div>"
            ],
            "text/plain": [
              "   Unnamed: 0  ... retweets\n",
              "0           0  ...        0\n",
              "1           1  ...        0\n",
              "2           2  ...        2\n",
              "3           3  ...        2\n",
              "\n",
              "[4 rows x 13 columns]"
            ]
          },
          "metadata": {
            "tags": []
          },
          "execution_count": 57
        }
      ]
    },
    {
      "cell_type": "code",
      "metadata": {
        "colab": {
          "base_uri": "https://localhost:8080/",
          "height": 408
        },
        "id": "pRbxvkYGu_kb",
        "outputId": "784e85a4-6521-4d9c-add4-9b0dd8de9c5c"
      },
      "source": [
        "data=pd.read_csv('data.csv')\n",
        "data.head()"
      ],
      "execution_count": 58,
      "outputs": [
        {
          "output_type": "execute_result",
          "data": {
            "text/html": [
              "<div>\n",
              "<style scoped>\n",
              "    .dataframe tbody tr th:only-of-type {\n",
              "        vertical-align: middle;\n",
              "    }\n",
              "\n",
              "    .dataframe tbody tr th {\n",
              "        vertical-align: top;\n",
              "    }\n",
              "\n",
              "    .dataframe thead th {\n",
              "        text-align: right;\n",
              "    }\n",
              "</style>\n",
              "<table border=\"1\" class=\"dataframe\">\n",
              "  <thead>\n",
              "    <tr style=\"text-align: right;\">\n",
              "      <th></th>\n",
              "      <th>Unnamed: 0</th>\n",
              "      <th>Tweets</th>\n",
              "      <th>user</th>\n",
              "      <th>location</th>\n",
              "      <th>id</th>\n",
              "      <th>lens</th>\n",
              "      <th>date</th>\n",
              "      <th>place</th>\n",
              "      <th>coordinates</th>\n",
              "      <th>lang</th>\n",
              "      <th>source</th>\n",
              "      <th>likes</th>\n",
              "      <th>retweets</th>\n",
              "    </tr>\n",
              "  </thead>\n",
              "  <tbody>\n",
              "    <tr>\n",
              "      <th>0</th>\n",
              "      <td>0</td>\n",
              "      <td>b\"Worrying about where and how to study since ...</td>\n",
              "      <td>BIT_InstituteUg</td>\n",
              "      <td>Kampala, Uganda</td>\n",
              "      <td>1427556445097185281</td>\n",
              "      <td>303</td>\n",
              "      <td>2021-08-17 09:02:33</td>\n",
              "      <td>NaN</td>\n",
              "      <td>NaN</td>\n",
              "      <td>en</td>\n",
              "      <td>Twitter for Android</td>\n",
              "      <td>2</td>\n",
              "      <td>1</td>\n",
              "    </tr>\n",
              "    <tr>\n",
              "      <th>1</th>\n",
              "      <td>1</td>\n",
              "      <td>b'@ManagementUNI has the best E-learning and o...</td>\n",
              "      <td>MukamiWaEmbu</td>\n",
              "      <td>Nairobi, Kenya</td>\n",
              "      <td>1427549015982419975</td>\n",
              "      <td>74</td>\n",
              "      <td>2021-08-17 08:33:02</td>\n",
              "      <td>NaN</td>\n",
              "      <td>NaN</td>\n",
              "      <td>en</td>\n",
              "      <td>Twitter for Android</td>\n",
              "      <td>0</td>\n",
              "      <td>0</td>\n",
              "    </tr>\n",
              "    <tr>\n",
              "      <th>2</th>\n",
              "      <td>2</td>\n",
              "      <td>b'Road infrastructure is vulnerable to geohaza...</td>\n",
              "      <td>WorldBankKenya</td>\n",
              "      <td>Nairobi, Kenya</td>\n",
              "      <td>1427548316334764046</td>\n",
              "      <td>243</td>\n",
              "      <td>2021-08-17 08:30:15</td>\n",
              "      <td>NaN</td>\n",
              "      <td>NaN</td>\n",
              "      <td>en</td>\n",
              "      <td>Hootsuite Inc.</td>\n",
              "      <td>6</td>\n",
              "      <td>5</td>\n",
              "    </tr>\n",
              "    <tr>\n",
              "      <th>3</th>\n",
              "      <td>3</td>\n",
              "      <td>b'https://t.co/jvaL724nTo catch the interview ...</td>\n",
              "      <td>ManagementUNI</td>\n",
              "      <td>Nairobi, Kenya</td>\n",
              "      <td>1427535353175547906</td>\n",
              "      <td>116</td>\n",
              "      <td>2021-08-17 07:38:45</td>\n",
              "      <td>NaN</td>\n",
              "      <td>NaN</td>\n",
              "      <td>en</td>\n",
              "      <td>Hootsuite Inc.</td>\n",
              "      <td>1</td>\n",
              "      <td>2</td>\n",
              "    </tr>\n",
              "    <tr>\n",
              "      <th>4</th>\n",
              "      <td>4</td>\n",
              "      <td>b\"State Min Of Educ talking about e- learning ...</td>\n",
              "      <td>claudi256</td>\n",
              "      <td>KAMPALA</td>\n",
              "      <td>1427515928921579524</td>\n",
              "      <td>303</td>\n",
              "      <td>2021-08-17 06:21:34</td>\n",
              "      <td>NaN</td>\n",
              "      <td>NaN</td>\n",
              "      <td>en</td>\n",
              "      <td>Twitter for Android</td>\n",
              "      <td>0</td>\n",
              "      <td>0</td>\n",
              "    </tr>\n",
              "  </tbody>\n",
              "</table>\n",
              "</div>"
            ],
            "text/plain": [
              "   Unnamed: 0  ... retweets\n",
              "0           0  ...        1\n",
              "1           1  ...        0\n",
              "2           2  ...        5\n",
              "3           3  ...        2\n",
              "4           4  ...        0\n",
              "\n",
              "[5 rows x 13 columns]"
            ]
          },
          "metadata": {
            "tags": []
          },
          "execution_count": 58
        }
      ]
    },
    {
      "cell_type": "markdown",
      "metadata": {
        "id": "4WwOUuthuMLd"
      },
      "source": [
        "Concantinate"
      ]
    },
    {
      "cell_type": "code",
      "metadata": {
        "colab": {
          "base_uri": "https://localhost:8080/",
          "height": 405
        },
        "id": "u4jVJQ8IuLYD",
        "outputId": "aff3b773-4df7-4abb-af6f-8d91d62836a1"
      },
      "source": [
        "remote_df = pd.concat([online, remote, digital, e_learn, data, online_classes], axis = 0)\n",
        "remote_df.head()"
      ],
      "execution_count": 59,
      "outputs": [
        {
          "output_type": "execute_result",
          "data": {
            "text/html": [
              "<div>\n",
              "<style scoped>\n",
              "    .dataframe tbody tr th:only-of-type {\n",
              "        vertical-align: middle;\n",
              "    }\n",
              "\n",
              "    .dataframe tbody tr th {\n",
              "        vertical-align: top;\n",
              "    }\n",
              "\n",
              "    .dataframe thead th {\n",
              "        text-align: right;\n",
              "    }\n",
              "</style>\n",
              "<table border=\"1\" class=\"dataframe\">\n",
              "  <thead>\n",
              "    <tr style=\"text-align: right;\">\n",
              "      <th></th>\n",
              "      <th>Unnamed: 0</th>\n",
              "      <th>Tweets</th>\n",
              "      <th>user</th>\n",
              "      <th>location</th>\n",
              "      <th>id</th>\n",
              "      <th>lens</th>\n",
              "      <th>date</th>\n",
              "      <th>place</th>\n",
              "      <th>coordinates</th>\n",
              "      <th>lang</th>\n",
              "      <th>source</th>\n",
              "      <th>likes</th>\n",
              "      <th>retweets</th>\n",
              "    </tr>\n",
              "  </thead>\n",
              "  <tbody>\n",
              "    <tr>\n",
              "      <th>0</th>\n",
              "      <td>0</td>\n",
              "      <td>b'ONLINE LEARNING |\\nBen Troy Njue hosts Prof....</td>\n",
              "      <td>KBCTelevision</td>\n",
              "      <td>Nairobi, Kenya</td>\n",
              "      <td>1427541371418783761</td>\n",
              "      <td>190</td>\n",
              "      <td>2021-08-17 08:02:40</td>\n",
              "      <td>NaN</td>\n",
              "      <td>NaN</td>\n",
              "      <td>en</td>\n",
              "      <td>TweetDeck</td>\n",
              "      <td>0</td>\n",
              "      <td>1</td>\n",
              "    </tr>\n",
              "    <tr>\n",
              "      <th>1</th>\n",
              "      <td>1</td>\n",
              "      <td>b\"Virtual school is back at Jinja city's educa...</td>\n",
              "      <td>felixadvise</td>\n",
              "      <td>Jinja, Uganda</td>\n",
              "      <td>1427539081316216853</td>\n",
              "      <td>299</td>\n",
              "      <td>2021-08-17 07:53:34</td>\n",
              "      <td>NaN</td>\n",
              "      <td>NaN</td>\n",
              "      <td>en</td>\n",
              "      <td>Twitter Web App</td>\n",
              "      <td>6</td>\n",
              "      <td>3</td>\n",
              "    </tr>\n",
              "    <tr>\n",
              "      <th>2</th>\n",
              "      <td>2</td>\n",
              "      <td>b\"@KBCChannel1 @ManagementUNI  the best in onl...</td>\n",
              "      <td>Daisywanga2</td>\n",
              "      <td>Nairobi, Kenya</td>\n",
              "      <td>1427533647549247494</td>\n",
              "      <td>89</td>\n",
              "      <td>2021-08-17 07:31:58</td>\n",
              "      <td>NaN</td>\n",
              "      <td>NaN</td>\n",
              "      <td>en</td>\n",
              "      <td>Twitter for Android</td>\n",
              "      <td>2</td>\n",
              "      <td>0</td>\n",
              "    </tr>\n",
              "    <tr>\n",
              "      <th>3</th>\n",
              "      <td>3</td>\n",
              "      <td>b'Check out this course on TinyML (https://t.c...</td>\n",
              "      <td>VickTheGeek</td>\n",
              "      <td>Nairobi, Kenya</td>\n",
              "      <td>1427516048178393106</td>\n",
              "      <td>192</td>\n",
              "      <td>2021-08-17 06:22:02</td>\n",
              "      <td>NaN</td>\n",
              "      <td>NaN</td>\n",
              "      <td>en</td>\n",
              "      <td>Twitter for Android</td>\n",
              "      <td>0</td>\n",
              "      <td>0</td>\n",
              "    </tr>\n",
              "    <tr>\n",
              "      <th>4</th>\n",
              "      <td>4</td>\n",
              "      <td>b'Want to learn more about genre as well as st...</td>\n",
              "      <td>WANTMofficial</td>\n",
              "      <td>Kenya</td>\n",
              "      <td>1427496748075954208</td>\n",
              "      <td>195</td>\n",
              "      <td>2021-08-17 05:05:21</td>\n",
              "      <td>NaN</td>\n",
              "      <td>NaN</td>\n",
              "      <td>en</td>\n",
              "      <td>Twitter Web App</td>\n",
              "      <td>1</td>\n",
              "      <td>0</td>\n",
              "    </tr>\n",
              "  </tbody>\n",
              "</table>\n",
              "</div>"
            ],
            "text/plain": [
              "   Unnamed: 0  ... retweets\n",
              "0           0  ...        1\n",
              "1           1  ...        3\n",
              "2           2  ...        0\n",
              "3           3  ...        0\n",
              "4           4  ...        0\n",
              "\n",
              "[5 rows x 13 columns]"
            ]
          },
          "metadata": {
            "tags": []
          },
          "execution_count": 59
        }
      ]
    },
    {
      "cell_type": "code",
      "metadata": {
        "colab": {
          "base_uri": "https://localhost:8080/"
        },
        "id": "LbG8BdT3vRXR",
        "outputId": "275cf9f9-51fc-4509-f83f-36b2d2405a65"
      },
      "source": [
        "remote_df.shape"
      ],
      "execution_count": 60,
      "outputs": [
        {
          "output_type": "execute_result",
          "data": {
            "text/plain": [
              "(228, 13)"
            ]
          },
          "metadata": {
            "tags": []
          },
          "execution_count": 60
        }
      ]
    },
    {
      "cell_type": "markdown",
      "metadata": {
        "id": "_i_7RL1jw4Gk"
      },
      "source": [
        "**Export the data**"
      ]
    },
    {
      "cell_type": "code",
      "metadata": {
        "id": "EWTTB00cp8vz"
      },
      "source": [
        "remote_df.to_csv ('remote_learning.csv')"
      ],
      "execution_count": 64,
      "outputs": []
    },
    {
      "cell_type": "code",
      "metadata": {
        "colab": {
          "base_uri": "https://localhost:8080/"
        },
        "id": "1y8RdBiWw_03",
        "outputId": "ea11a2db-e43a-40ef-98f6-20609921189b"
      },
      "source": [
        "remote_df.place.unique()"
      ],
      "execution_count": 66,
      "outputs": [
        {
          "output_type": "execute_result",
          "data": {
            "text/plain": [
              "array([nan,\n",
              "       \"Place(_api=<tweepy.api.API object at 0x7fb294ad7e10>, id='000c69ad123213a8', url='https://api.twitter.com/1.1/geo/id/000c69ad123213a8.json', place_type='admin', name='Kampala', full_name='Kampala, Uganda', country_code='UG', country='Uganda', contained_within=[], bounding_box=BoundingBox(_api=<tweepy.api.API object at 0x7fb294ad7e10>, type='Polygon', coordinates=[[[32.4166234, 0.1648531], [32.7216969, 0.1648531], [32.7216969, 0.4136818], [32.4166234, 0.4136818]]]), attributes={})\",\n",
              "       \"Place(_api=<tweepy.api.API object at 0x7fb294ad7e10>, id='009e2ab435d6d6de', url='https://api.twitter.com/1.1/geo/id/009e2ab435d6d6de.json', place_type='city', name='Ruiru', full_name='Ruiru, Kenya', country_code='KE', country='Kenya', contained_within=[], bounding_box=BoundingBox(_api=<tweepy.api.API object at 0x7fb294ad7e10>, type='Polygon', coordinates=[[[36.8815837, -1.2298783], [37.0823672, -1.2298783], [37.0823672, -1.1262708], [36.8815837, -1.1262708]]]), attributes={})\",\n",
              "       \"Place(_api=<tweepy.api.API object at 0x7fb294ad7e10>, id='01e215db7136a37e', url='https://api.twitter.com/1.1/geo/id/01e215db7136a37e.json', place_type='city', name='Nairobi', full_name='Nairobi, Kenya', country_code='KE', country='Kenya', contained_within=[], bounding_box=BoundingBox(_api=<tweepy.api.API object at 0x7fb294ad7e10>, type='Polygon', coordinates=[[[36.6645733, -1.3890532], [37.0626672, -1.3890532], [37.0626672, -1.1606735], [36.6645733, -1.1606735]]]), attributes={})\",\n",
              "       \"Place(_api=<tweepy.api.API object at 0x7fb294ad7e10>, id='01c1626a6a25156a', url='https://api.twitter.com/1.1/geo/id/01c1626a6a25156a.json', place_type='admin', name='Mbale', full_name='Mbale, Uganda', country_code='UG', country='Uganda', contained_within=[], bounding_box=BoundingBox(_api=<tweepy.api.API object at 0x7fb294ad7e10>, type='Polygon', coordinates=[[[34.0807269, 0.8291179], [34.3733635, 0.8291179], [34.3733635, 1.174493], [34.0807269, 1.174493]]]), attributes={})\",\n",
              "       \"Place(_api=<tweepy.api.API object at 0x7fb294ad7e10>, id='003266cc20278fb7', url='https://api.twitter.com/1.1/geo/id/003266cc20278fb7.json', place_type='admin', name='Mbarara', full_name='Mbarara, Uganda', country_code='UG', country='Uganda', contained_within=[], bounding_box=BoundingBox(_api=<tweepy.api.API object at 0x7fb294ad7e10>, type='Polygon', coordinates=[[[30.3141825, -0.8454063], [30.81947, -0.8454063], [30.81947, -0.194628], [30.3141825, -0.194628]]]), attributes={})\",\n",
              "       \"Place(_api=<tweepy.api.API object at 0x7fb294ad7e10>, id='01939687169f3384', url='https://api.twitter.com/1.1/geo/id/01939687169f3384.json', place_type='admin', name='Gulu', full_name='Gulu, Uganda', country_code='UG', country='Uganda', contained_within=[], bounding_box=BoundingBox(_api=<tweepy.api.API object at 0x7fb294ad7e10>, type='Polygon', coordinates=[[[32.1251757, 2.4457346], [32.8294398, 2.4457346], [32.8294398, 3.3008154], [32.1251757, 3.3008154]]]), attributes={})\"],\n",
              "      dtype=object)"
            ]
          },
          "metadata": {
            "tags": []
          },
          "execution_count": 66
        }
      ]
    },
    {
      "cell_type": "code",
      "metadata": {
        "id": "cvUciGO8yY4a"
      },
      "source": [
        ""
      ],
      "execution_count": null,
      "outputs": []
    }
  ]
}