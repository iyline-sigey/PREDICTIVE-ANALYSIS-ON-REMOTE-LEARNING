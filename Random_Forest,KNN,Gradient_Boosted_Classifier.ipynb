{
  "nbformat": 4,
  "nbformat_minor": 0,
  "metadata": {
    "colab": {
      "name": "Random Forest,KNN,Gradient Boosted Classifier.ipynb",
      "provenance": [],
      "toc_visible": true,
      "authorship_tag": "ABX9TyMpTPr1iXsGSHVaFakhIyWC",
      "include_colab_link": true
    },
    "kernelspec": {
      "name": "python3",
      "display_name": "Python 3"
    },
    "language_info": {
      "name": "python"
    }
  },
  "cells": [
    {
      "cell_type": "markdown",
      "metadata": {
        "id": "view-in-github",
        "colab_type": "text"
      },
      "source": [
        "<a href=\"https://colab.research.google.com/github/iyline-sigey/PREDICTIVE-ANALYSIS-ON-REMOTE-LEARNING/blob/Modelling/Random_Forest%2CKNN%2CGradient_Boosted_Classifier.ipynb\" target=\"_parent\"><img src=\"https://colab.research.google.com/assets/colab-badge.svg\" alt=\"Open In Colab\"/></a>"
      ]
    },
    {
      "cell_type": "code",
      "metadata": {
        "id": "o86XdG7nKIph"
      },
      "source": [
        "#Importing libraries\n",
        "import pandas as pd\n",
        "import numpy as np\n",
        "#for metrics\n",
        "from sklearn.model_selection import train_test_split\n",
        "from sklearn.metrics import accuracy_score, confusion_matrix, classification_report, f1_score\n",
        "import tensorflow as tf\n",
        "from tensorflow.keras.preprocessing.text import Tokenizer\n",
        "from tensorflow.keras.preprocessing.sequence import pad_sequences\n",
        "from tensorflow.keras.models import Sequential\n",
        "from tensorflow.keras.layers import LSTM,Dense, Dropout, SpatialDropout1D\n",
        "from tensorflow.keras.layers import Embedding\n",
        "df_clean = pd.read_csv('/content/modeling_data.csv')"
      ],
      "execution_count": 24,
      "outputs": []
    },
    {
      "cell_type": "markdown",
      "metadata": {
        "id": "ls1LvYSDfrz2"
      },
      "source": [
        "# **Random Forest**"
      ]
    },
    {
      "cell_type": "code",
      "metadata": {
        "id": "MRlfvVoss9Iu"
      },
      "source": [
        "# Separating the target from our data\n",
        "ft = (df_clean.drop(['class'],axis=1)).columns\n",
        "X = df_clean['clean_tweet'].values\n",
        "y = df_clean['class'].values\n",
        "\n",
        "#  Split the data into train and test set\n",
        "X_train, X_test, y_train, y_test = train_test_split(X, y, test_size = 0.2, random_state = 0)"
      ],
      "execution_count": 25,
      "outputs": []
    },
    {
      "cell_type": "code",
      "metadata": {
        "id": "HWOCUVoXzd4C"
      },
      "source": [
        "# set a vocabulary size. This is the maximum number of words that can be used.\n",
        "vocabulary_size = 10000\n",
        "\n",
        "# create the tokenizer that comes with Keras.\n",
        "tokenizer = Tokenizer(num_words=vocabulary_size)\n",
        "tokenizer.fit_on_texts(X_train)\n",
        "\n",
        "# convert the texts to sequences.\n",
        "X_train_seq = tokenizer.texts_to_sequences(X_train)\n",
        "X_val_seq = tokenizer.texts_to_sequences(X_test)\n",
        "\n",
        "max_words = 5000\n",
        "max_len = 200\n",
        "\n",
        "X_train_seq_padded = pad_sequences(X_train_seq, maxlen=200)\n",
        "X_val_seq_padded  = pad_sequences(X_val_seq, maxlen=200)"
      ],
      "execution_count": 26,
      "outputs": []
    },
    {
      "cell_type": "code",
      "metadata": {
        "colab": {
          "base_uri": "https://localhost:8080/"
        },
        "id": "LE7MEBs3s-1Q",
        "outputId": "bb5f38c8-ce42-4533-e356-84fd76de4796"
      },
      "source": [
        "#instantiate the model \n",
        "from sklearn import metrics\n",
        "from sklearn.ensemble import RandomForestClassifier\n",
        "from sklearn.metrics import mean_absolute_error,mean_squared_error, accuracy_score, classification_report, f1_score,r2_score\n",
        "\n",
        "forest = RandomForestClassifier(random_state=0)\n",
        "\n",
        "# Train it on our training set.\n",
        "forest.fit(X_train_seq_padded , y_train)\n",
        "\n",
        "# Predict based on the model we've trained\n",
        "y_pred_ftrain = forest.predict(X_train_seq_padded)\n",
        "y_pred = forest.predict(X_val_seq_padded)\n",
        "\n",
        "\n",
        "print(\"Accuracy Score test: \",accuracy_score(y_test, y_pred))\n",
        "print('R-squared test:',r2_score(y_test, y_pred))  \n",
        "print('Mean Squared Error test:', mean_squared_error(y_test, y_pred))\n",
        "print('\\n')\n",
        "print(classification_report(y_test,y_pred))\n"
      ],
      "execution_count": 27,
      "outputs": [
        {
          "output_type": "stream",
          "text": [
            "Accuracy Score test:  0.9354838709677419\n",
            "R-squared test: 0.7119628339140535\n",
            "Mean Squared Error test: 0.06451612903225806\n",
            "\n",
            "\n",
            "              precision    recall  f1-score   support\n",
            "\n",
            "           0       0.95      0.86      0.90        21\n",
            "           1       0.93      0.98      0.95        41\n",
            "\n",
            "    accuracy                           0.94        62\n",
            "   macro avg       0.94      0.92      0.93        62\n",
            "weighted avg       0.94      0.94      0.93        62\n",
            "\n"
          ],
          "name": "stdout"
        }
      ]
    },
    {
      "cell_type": "markdown",
      "metadata": {
        "id": "ofzLAfdmRCdy"
      },
      "source": [
        "# **KNN**"
      ]
    },
    {
      "cell_type": "code",
      "metadata": {
        "id": "Fm1bb9jjXpbX"
      },
      "source": [
        "#we are going to use k of 5\n",
        "from sklearn.neighbors import KNeighborsClassifier\n",
        "cl=KNeighborsClassifier(n_neighbors=5)\n",
        "cl.fit(X_train_seq_padded,y_train)\n",
        "#we will predict our model\n",
        "y_pred =cl.predict(X_val_seq_padded)"
      ],
      "execution_count": 41,
      "outputs": []
    },
    {
      "cell_type": "code",
      "metadata": {
        "colab": {
          "base_uri": "https://localhost:8080/"
        },
        "id": "N7nTt2EtX-Nk",
        "outputId": "dde113da-fb69-49d5-e0f9-4d0ac31ccdda"
      },
      "source": [
        "#checking metrics for accuracy\n",
        "from sklearn.metrics import classification_report, confusion_matrix\n",
        "print(confusion_matrix(y_test, y_pred))\n",
        "print(classification_report(y_test, y_pred))"
      ],
      "execution_count": 42,
      "outputs": [
        {
          "output_type": "stream",
          "text": [
            "[[13  8]\n",
            " [10 31]]\n",
            "              precision    recall  f1-score   support\n",
            "\n",
            "           0       0.57      0.62      0.59        21\n",
            "           1       0.79      0.76      0.77        41\n",
            "\n",
            "    accuracy                           0.71        62\n",
            "   macro avg       0.68      0.69      0.68        62\n",
            "weighted avg       0.72      0.71      0.71        62\n",
            "\n"
          ],
          "name": "stdout"
        }
      ]
    },
    {
      "cell_type": "code",
      "metadata": {
        "colab": {
          "base_uri": "https://localhost:8080/"
        },
        "id": "Qm_HJTskYCOP",
        "outputId": "7450dde6-5535-43a5-836f-673308aa08ea"
      },
      "source": [
        "#we will tune our parameter using gridsearch\n",
        "from sklearn.model_selection import GridSearchCV\n",
        "from sklearn import neighbors\n",
        "params = {'n_neighbors':[2,3,4,5,6,7,8,9]}\n",
        "\n",
        "knn = neighbors.KNeighborsClassifier()\n",
        "\n",
        "cl_g = GridSearchCV(knn, params, cv=5)\n",
        "cl_g.fit(X_train_seq_padded,y_train)\n",
        "cl_g.best_params_\n",
        "#the best parameter for our model is 9"
      ],
      "execution_count": 43,
      "outputs": [
        {
          "output_type": "execute_result",
          "data": {
            "text/plain": [
              "{'n_neighbors': 9}"
            ]
          },
          "metadata": {
            "tags": []
          },
          "execution_count": 43
        }
      ]
    },
    {
      "cell_type": "code",
      "metadata": {
        "colab": {
          "base_uri": "https://localhost:8080/"
        },
        "id": "1b3qG-E8d8cg",
        "outputId": "e41b2478-8b16-42d9-e0c9-dfa775e30bd0"
      },
      "source": [
        "knn"
      ],
      "execution_count": 48,
      "outputs": [
        {
          "output_type": "execute_result",
          "data": {
            "text/plain": [
              "KNeighborsClassifier(algorithm='auto', leaf_size=30, metric='minkowski',\n",
              "                     metric_params=None, n_jobs=None, n_neighbors=5, p=2,\n",
              "                     weights='uniform')"
            ]
          },
          "metadata": {
            "tags": []
          },
          "execution_count": 48
        }
      ]
    },
    {
      "cell_type": "code",
      "metadata": {
        "id": "7U5Re4P2YFWU"
      },
      "source": [
        "#training our model using k as 9\n",
        "\n",
        "from sklearn.neighbors import KNeighborsClassifier\n",
        "cl_gs=KNeighborsClassifier(n_neighbors=9)\n",
        "cl_gs.fit(X_train_seq_padded,y_train)\n",
        "\n",
        "#predicting our model\n",
        "y_pred_gs=cl_gs.predict(X_val_seq_padded)"
      ],
      "execution_count": 46,
      "outputs": []
    },
    {
      "cell_type": "code",
      "metadata": {
        "colab": {
          "base_uri": "https://localhost:8080/"
        },
        "id": "fxCEuzwiYIL2",
        "outputId": "15e339e4-2fc0-4990-c814-2064883e5cae"
      },
      "source": [
        "#checking metrics for our models accuracy\n",
        "from sklearn.metrics import classification_report, confusion_matrix\n",
        "print(confusion_matrix(y_test, y_pred_gs))\n",
        "print(classification_report(y_test, y_pred_gs))"
      ],
      "execution_count": 47,
      "outputs": [
        {
          "output_type": "stream",
          "text": [
            "[[16  5]\n",
            " [14 27]]\n",
            "              precision    recall  f1-score   support\n",
            "\n",
            "           0       0.53      0.76      0.63        21\n",
            "           1       0.84      0.66      0.74        41\n",
            "\n",
            "    accuracy                           0.69        62\n",
            "   macro avg       0.69      0.71      0.68        62\n",
            "weighted avg       0.74      0.69      0.70        62\n",
            "\n"
          ],
          "name": "stdout"
        }
      ]
    },
    {
      "cell_type": "markdown",
      "metadata": {
        "id": "bBhmTWyEkutR"
      },
      "source": [
        "# **Gradient Boost Classifier**"
      ]
    },
    {
      "cell_type": "code",
      "metadata": {
        "id": "yjsrfavVkH40"
      },
      "source": [
        "from sklearn.ensemble import GradientBoostingClassifier\n",
        "\n",
        "\n",
        "gbr = GradientBoostingClassifier(n_estimators=200, learning_rate=0.4, max_depth=2)\n",
        "\n",
        "#training our model.\n",
        "gbr = gbr.fit(X_train_seq_padded,y_train)\n",
        "\n",
        "#predicting.\n",
        "y_pred_gbr = gbr.predict(X_val_seq_padded)"
      ],
      "execution_count": 50,
      "outputs": []
    },
    {
      "cell_type": "code",
      "metadata": {
        "colab": {
          "base_uri": "https://localhost:8080/"
        },
        "id": "7RsEtEQQk7u9",
        "outputId": "aa78afd2-dc4b-47fd-b62b-9222fb3cb03c"
      },
      "source": [
        "#checking metrics for our models accuracy\n",
        "from sklearn.metrics import classification_report, confusion_matrix\n",
        "print(confusion_matrix(y_test, y_pred))\n",
        "print(classification_report(y_test, y_pred))"
      ],
      "execution_count": 51,
      "outputs": [
        {
          "output_type": "stream",
          "text": [
            "[[13  8]\n",
            " [10 31]]\n",
            "              precision    recall  f1-score   support\n",
            "\n",
            "           0       0.57      0.62      0.59        21\n",
            "           1       0.79      0.76      0.77        41\n",
            "\n",
            "    accuracy                           0.71        62\n",
            "   macro avg       0.68      0.69      0.68        62\n",
            "weighted avg       0.72      0.71      0.71        62\n",
            "\n"
          ],
          "name": "stdout"
        }
      ]
    }
  ]
}