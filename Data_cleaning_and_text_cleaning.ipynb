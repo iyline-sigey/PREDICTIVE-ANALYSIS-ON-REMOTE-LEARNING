{
  "nbformat": 4,
  "nbformat_minor": 0,
  "metadata": {
    "colab": {
      "name": "Data cleaning and text cleaning.ipynb",
      "provenance": [],
      "collapsed_sections": [],
      "toc_visible": true
    },
    "kernelspec": {
      "name": "python3",
      "display_name": "Python 3"
    },
    "language_info": {
      "name": "python"
    }
  },
  "cells": [
    {
      "cell_type": "markdown",
      "metadata": {
        "id": "oKiTrkhU9r9X"
      },
      "source": [
        "# Data Understanding"
      ]
    },
    {
      "cell_type": "markdown",
      "metadata": {
        "id": "EH9qHKon9qyx"
      },
      "source": [
        "a).Specifying the Question"
      ]
    },
    {
      "cell_type": "markdown",
      "metadata": {
        "id": "Gkg30g729f3u"
      },
      "source": [
        "Performing sentiment Analysis on people's views towards Remote learning in Kenya using Machine Learning Models."
      ]
    },
    {
      "cell_type": "markdown",
      "metadata": {
        "id": "ADI55ohq-kqi"
      },
      "source": [
        "b).Defining the Metric for Success"
      ]
    },
    {
      "cell_type": "markdown",
      "metadata": {
        "id": "t3VenDlc-wAh"
      },
      "source": [
        "Our project will be considered successful if we can effectively build a model that can give an accuracy of more than 80%."
      ]
    },
    {
      "cell_type": "markdown",
      "metadata": {
        "id": "Ij80Lcbp_AE7"
      },
      "source": [
        "c).Understanding the Context"
      ]
    },
    {
      "cell_type": "markdown",
      "metadata": {
        "id": "2P_CptLF_K0e"
      },
      "source": [
        ""
      ]
    },
    {
      "cell_type": "markdown",
      "metadata": {
        "id": "rk7zUWr6Anx7"
      },
      "source": [
        "## Importing our libraries"
      ]
    },
    {
      "cell_type": "code",
      "metadata": {
        "colab": {
          "base_uri": "https://localhost:8080/"
        },
        "id": "h-Agf9R53c_m",
        "outputId": "b1b8078a-e344-46bd-925f-facee59148b4"
      },
      "source": [
        "#For data exploration\n",
        "import pandas as pd\n",
        "import numpy as np\n",
        "import matplotlib.pyplot as plt\n",
        "import seaborn as sns\n",
        "\n",
        "# modelling\n",
        "from sklearn.base import BaseEstimator, TransformerMixin\n",
        "from sklearn.feature_extraction.text import CountVectorizer\n",
        "from sklearn.feature_extraction.text import TfidfVectorizer\n",
        "\n",
        "import tensorflow as tf\n",
        "from tensorflow.keras.preprocessing.text import Tokenizer\n",
        "from tensorflow.keras.preprocessing.sequence import pad_sequences\n",
        "from tensorflow.keras.models import Sequential\n",
        "from tensorflow.keras.layers import LSTM,Dense, Dropout, SpatialDropout1D\n",
        "from tensorflow.keras.layers import Embedding\n",
        "\n",
        "#For cleaning the tweets\n",
        "import re\n",
        "import string\n",
        "import nltk\n",
        "nltk.download('stopwords')\n",
        "\n",
        "from nltk.corpus import stopwords\n",
        "from nltk.tokenize import TweetTokenizer\n",
        "from nltk.stem.lancaster import LancasterStemmer\n",
        "from nltk.corpus import stopwords\n",
        "from nltk.stem import PorterStemmer\n",
        "from nltk.tokenize import word_tokenize\n",
        "\n",
        "#for metrics\n",
        "from sklearn.metrics import accuracy_score, confusion_matrix, classification_report, f1_score\n",
        "\n",
        "import nltk\n",
        "nltk.download('punkt')\n",
        "\n",
        "#warnings\n",
        "import warnings\n",
        "warnings.filterwarnings('ignore') "
      ],
      "execution_count": null,
      "outputs": [
        {
          "output_type": "stream",
          "text": [
            "[nltk_data] Downloading package stopwords to /root/nltk_data...\n",
            "[nltk_data]   Package stopwords is already up-to-date!\n",
            "[nltk_data] Downloading package punkt to /root/nltk_data...\n",
            "[nltk_data]   Package punkt is already up-to-date!\n"
          ],
          "name": "stdout"
        }
      ]
    },
    {
      "cell_type": "markdown",
      "metadata": {
        "id": "A1xFeBIHAyd_"
      },
      "source": [
        "## Loading our datasets"
      ]
    },
    {
      "cell_type": "code",
      "metadata": {
        "id": "tWMJ67xg35ZP"
      },
      "source": [
        "#Load the dataset\n",
        "data = pd.read_csv('/content/Final-Remote-Learning-csv')"
      ],
      "execution_count": null,
      "outputs": []
    },
    {
      "cell_type": "markdown",
      "metadata": {
        "id": "xD-pqh-LA82t"
      },
      "source": [
        "Previewing our data"
      ]
    },
    {
      "cell_type": "code",
      "metadata": {
        "colab": {
          "base_uri": "https://localhost:8080/",
          "height": 786
        },
        "id": "xnwtnv6I4hHF",
        "outputId": "ca047b6d-b3cf-4ca2-dc7a-04fa061b1abd"
      },
      "source": [
        "#Previewing the first ten records in our dataset\n",
        "data.head(10)"
      ],
      "execution_count": null,
      "outputs": [
        {
          "output_type": "execute_result",
          "data": {
            "text/html": [
              "<div>\n",
              "<style scoped>\n",
              "    .dataframe tbody tr th:only-of-type {\n",
              "        vertical-align: middle;\n",
              "    }\n",
              "\n",
              "    .dataframe tbody tr th {\n",
              "        vertical-align: top;\n",
              "    }\n",
              "\n",
              "    .dataframe thead th {\n",
              "        text-align: right;\n",
              "    }\n",
              "</style>\n",
              "<table border=\"1\" class=\"dataframe\">\n",
              "  <thead>\n",
              "    <tr style=\"text-align: right;\">\n",
              "      <th></th>\n",
              "      <th>Unnamed: 0</th>\n",
              "      <th>Unnamed: 0.1</th>\n",
              "      <th>Tweets</th>\n",
              "      <th>user</th>\n",
              "      <th>location</th>\n",
              "      <th>id</th>\n",
              "      <th>lens</th>\n",
              "      <th>date</th>\n",
              "      <th>place</th>\n",
              "      <th>coordinates</th>\n",
              "      <th>lang</th>\n",
              "      <th>source</th>\n",
              "      <th>likes</th>\n",
              "      <th>retweets</th>\n",
              "    </tr>\n",
              "  </thead>\n",
              "  <tbody>\n",
              "    <tr>\n",
              "      <th>0</th>\n",
              "      <td>0</td>\n",
              "      <td>0</td>\n",
              "      <td>b'ONLINE LEARNING |\\nBen Troy Njue hosts Prof....</td>\n",
              "      <td>KBCTelevision</td>\n",
              "      <td>Nairobi, Kenya</td>\n",
              "      <td>1427541371418783761</td>\n",
              "      <td>190</td>\n",
              "      <td>2021-08-17 08:02:40</td>\n",
              "      <td>NaN</td>\n",
              "      <td>NaN</td>\n",
              "      <td>en</td>\n",
              "      <td>TweetDeck</td>\n",
              "      <td>0</td>\n",
              "      <td>1</td>\n",
              "    </tr>\n",
              "    <tr>\n",
              "      <th>1</th>\n",
              "      <td>1</td>\n",
              "      <td>1</td>\n",
              "      <td>b\"Virtual school is back at Jinja city's educa...</td>\n",
              "      <td>felixadvise</td>\n",
              "      <td>Jinja, Uganda</td>\n",
              "      <td>1427539081316216853</td>\n",
              "      <td>299</td>\n",
              "      <td>2021-08-17 07:53:34</td>\n",
              "      <td>NaN</td>\n",
              "      <td>NaN</td>\n",
              "      <td>en</td>\n",
              "      <td>Twitter Web App</td>\n",
              "      <td>6</td>\n",
              "      <td>3</td>\n",
              "    </tr>\n",
              "    <tr>\n",
              "      <th>2</th>\n",
              "      <td>2</td>\n",
              "      <td>2</td>\n",
              "      <td>b\"@KBCChannel1 @ManagementUNI  the best in onl...</td>\n",
              "      <td>Daisywanga2</td>\n",
              "      <td>Nairobi, Kenya</td>\n",
              "      <td>1427533647549247494</td>\n",
              "      <td>89</td>\n",
              "      <td>2021-08-17 07:31:58</td>\n",
              "      <td>NaN</td>\n",
              "      <td>NaN</td>\n",
              "      <td>en</td>\n",
              "      <td>Twitter for Android</td>\n",
              "      <td>2</td>\n",
              "      <td>0</td>\n",
              "    </tr>\n",
              "    <tr>\n",
              "      <th>3</th>\n",
              "      <td>3</td>\n",
              "      <td>3</td>\n",
              "      <td>b'Check out this course on TinyML (https://t.c...</td>\n",
              "      <td>VickTheGeek</td>\n",
              "      <td>Nairobi, Kenya</td>\n",
              "      <td>1427516048178393106</td>\n",
              "      <td>192</td>\n",
              "      <td>2021-08-17 06:22:02</td>\n",
              "      <td>NaN</td>\n",
              "      <td>NaN</td>\n",
              "      <td>en</td>\n",
              "      <td>Twitter for Android</td>\n",
              "      <td>0</td>\n",
              "      <td>0</td>\n",
              "    </tr>\n",
              "    <tr>\n",
              "      <th>4</th>\n",
              "      <td>4</td>\n",
              "      <td>4</td>\n",
              "      <td>b'Want to learn more about genre as well as st...</td>\n",
              "      <td>WANTMofficial</td>\n",
              "      <td>Kenya</td>\n",
              "      <td>1427496748075954208</td>\n",
              "      <td>195</td>\n",
              "      <td>2021-08-17 05:05:21</td>\n",
              "      <td>NaN</td>\n",
              "      <td>NaN</td>\n",
              "      <td>en</td>\n",
              "      <td>Twitter Web App</td>\n",
              "      <td>1</td>\n",
              "      <td>0</td>\n",
              "    </tr>\n",
              "    <tr>\n",
              "      <th>5</th>\n",
              "      <td>5</td>\n",
              "      <td>5</td>\n",
              "      <td>b'Why #PedaLAfrica Online?\\nIt has been design...</td>\n",
              "      <td>PASGR_</td>\n",
              "      <td>Nairobi, Kenya</td>\n",
              "      <td>1427210497947021320</td>\n",
              "      <td>282</td>\n",
              "      <td>2021-08-16 10:07:53</td>\n",
              "      <td>NaN</td>\n",
              "      <td>NaN</td>\n",
              "      <td>en</td>\n",
              "      <td>Hootsuite Inc.</td>\n",
              "      <td>6</td>\n",
              "      <td>7</td>\n",
              "    </tr>\n",
              "    <tr>\n",
              "      <th>6</th>\n",
              "      <td>6</td>\n",
              "      <td>6</td>\n",
              "      <td>b'Group 6: Postgraduate learners embraced onli...</td>\n",
              "      <td>ciryan_nelson</td>\n",
              "      <td>Nairobi</td>\n",
              "      <td>1427202024886706176</td>\n",
              "      <td>239</td>\n",
              "      <td>2021-08-16 09:34:13</td>\n",
              "      <td>NaN</td>\n",
              "      <td>NaN</td>\n",
              "      <td>en</td>\n",
              "      <td>Twitter for iPhone</td>\n",
              "      <td>4</td>\n",
              "      <td>5</td>\n",
              "    </tr>\n",
              "    <tr>\n",
              "      <th>7</th>\n",
              "      <td>7</td>\n",
              "      <td>7</td>\n",
              "      <td>b'Micro- teaching as one of the online teachin...</td>\n",
              "      <td>stellah_kaviti</td>\n",
              "      <td>Nairobi, Kenya</td>\n",
              "      <td>1427194709974396935</td>\n",
              "      <td>244</td>\n",
              "      <td>2021-08-16 09:05:09</td>\n",
              "      <td>NaN</td>\n",
              "      <td>NaN</td>\n",
              "      <td>en</td>\n",
              "      <td>Twitter for Android</td>\n",
              "      <td>5</td>\n",
              "      <td>7</td>\n",
              "    </tr>\n",
              "    <tr>\n",
              "      <th>8</th>\n",
              "      <td>8</td>\n",
              "      <td>8</td>\n",
              "      <td>b'PedaL online innovations offers better oppor...</td>\n",
              "      <td>PASGR_</td>\n",
              "      <td>Nairobi, Kenya</td>\n",
              "      <td>1427176471144062988</td>\n",
              "      <td>260</td>\n",
              "      <td>2021-08-16 07:52:41</td>\n",
              "      <td>NaN</td>\n",
              "      <td>NaN</td>\n",
              "      <td>en</td>\n",
              "      <td>Hootsuite Inc.</td>\n",
              "      <td>9</td>\n",
              "      <td>11</td>\n",
              "    </tr>\n",
              "    <tr>\n",
              "      <th>9</th>\n",
              "      <td>9</td>\n",
              "      <td>9</td>\n",
              "      <td>b'Although learning from home has become more ...</td>\n",
              "      <td>alubusiness</td>\n",
              "      <td>Rwanda</td>\n",
              "      <td>1427171276267921410</td>\n",
              "      <td>272</td>\n",
              "      <td>2021-08-16 07:32:02</td>\n",
              "      <td>NaN</td>\n",
              "      <td>NaN</td>\n",
              "      <td>en</td>\n",
              "      <td>Sprout Social</td>\n",
              "      <td>8</td>\n",
              "      <td>1</td>\n",
              "    </tr>\n",
              "  </tbody>\n",
              "</table>\n",
              "</div>"
            ],
            "text/plain": [
              "   Unnamed: 0  Unnamed: 0.1  ... likes retweets\n",
              "0           0             0  ...     0        1\n",
              "1           1             1  ...     6        3\n",
              "2           2             2  ...     2        0\n",
              "3           3             3  ...     0        0\n",
              "4           4             4  ...     1        0\n",
              "5           5             5  ...     6        7\n",
              "6           6             6  ...     4        5\n",
              "7           7             7  ...     5        7\n",
              "8           8             8  ...     9       11\n",
              "9           9             9  ...     8        1\n",
              "\n",
              "[10 rows x 14 columns]"
            ]
          },
          "metadata": {
            "tags": []
          },
          "execution_count": 3
        }
      ]
    },
    {
      "cell_type": "code",
      "metadata": {
        "colab": {
          "base_uri": "https://localhost:8080/",
          "height": 752
        },
        "id": "RXmYeRMhBKE7",
        "outputId": "c3d1203e-8edd-4f79-f331-2a9056c84bdf"
      },
      "source": [
        "#Previewing the last ten records in our dataset\n",
        "data.tail(10)"
      ],
      "execution_count": null,
      "outputs": [
        {
          "output_type": "execute_result",
          "data": {
            "text/html": [
              "<div>\n",
              "<style scoped>\n",
              "    .dataframe tbody tr th:only-of-type {\n",
              "        vertical-align: middle;\n",
              "    }\n",
              "\n",
              "    .dataframe tbody tr th {\n",
              "        vertical-align: top;\n",
              "    }\n",
              "\n",
              "    .dataframe thead th {\n",
              "        text-align: right;\n",
              "    }\n",
              "</style>\n",
              "<table border=\"1\" class=\"dataframe\">\n",
              "  <thead>\n",
              "    <tr style=\"text-align: right;\">\n",
              "      <th></th>\n",
              "      <th>Unnamed: 0</th>\n",
              "      <th>Unnamed: 0.1</th>\n",
              "      <th>Tweets</th>\n",
              "      <th>user</th>\n",
              "      <th>location</th>\n",
              "      <th>id</th>\n",
              "      <th>lens</th>\n",
              "      <th>date</th>\n",
              "      <th>place</th>\n",
              "      <th>coordinates</th>\n",
              "      <th>lang</th>\n",
              "      <th>source</th>\n",
              "      <th>likes</th>\n",
              "      <th>retweets</th>\n",
              "    </tr>\n",
              "  </thead>\n",
              "  <tbody>\n",
              "    <tr>\n",
              "      <th>218</th>\n",
              "      <td>29</td>\n",
              "      <td>29</td>\n",
              "      <td>b'\"Education today is more expensive than it w...</td>\n",
              "      <td>FarajaDTv</td>\n",
              "      <td>Kampala, Uganda</td>\n",
              "      <td>1425028145187540993</td>\n",
              "      <td>244</td>\n",
              "      <td>2021-08-10 09:36:00</td>\n",
              "      <td>NaN</td>\n",
              "      <td>NaN</td>\n",
              "      <td>en</td>\n",
              "      <td>Twitter for Android</td>\n",
              "      <td>14</td>\n",
              "      <td>9</td>\n",
              "    </tr>\n",
              "    <tr>\n",
              "      <th>219</th>\n",
              "      <td>30</td>\n",
              "      <td>30</td>\n",
              "      <td>b'Every Ugandan child will have coverage in th...</td>\n",
              "      <td>ota1978</td>\n",
              "      <td>Kampala, Uganda</td>\n",
              "      <td>1425023561933148161</td>\n",
              "      <td>296</td>\n",
              "      <td>2021-08-10 09:17:47</td>\n",
              "      <td>NaN</td>\n",
              "      <td>NaN</td>\n",
              "      <td>en</td>\n",
              "      <td>Twitter for Android</td>\n",
              "      <td>3</td>\n",
              "      <td>3</td>\n",
              "    </tr>\n",
              "    <tr>\n",
              "      <th>220</th>\n",
              "      <td>31</td>\n",
              "      <td>31</td>\n",
              "      <td>b'Covid 19 has genuinely affected the educatio...</td>\n",
              "      <td>FarajaDTv</td>\n",
              "      <td>Kampala, Uganda</td>\n",
              "      <td>1425022166056243201</td>\n",
              "      <td>302</td>\n",
              "      <td>2021-08-10 09:12:14</td>\n",
              "      <td>NaN</td>\n",
              "      <td>NaN</td>\n",
              "      <td>en</td>\n",
              "      <td>Twitter for Android</td>\n",
              "      <td>1</td>\n",
              "      <td>1</td>\n",
              "    </tr>\n",
              "    <tr>\n",
              "      <th>221</th>\n",
              "      <td>32</td>\n",
              "      <td>32</td>\n",
              "      <td>b'@EliKatunguka Indeed lack of e-learning infr...</td>\n",
              "      <td>allan_pincus</td>\n",
              "      <td>Kampala</td>\n",
              "      <td>1424977965012692999</td>\n",
              "      <td>255</td>\n",
              "      <td>2021-08-10 06:16:36</td>\n",
              "      <td>NaN</td>\n",
              "      <td>NaN</td>\n",
              "      <td>en</td>\n",
              "      <td>Twitter for iPhone</td>\n",
              "      <td>0</td>\n",
              "      <td>0</td>\n",
              "    </tr>\n",
              "    <tr>\n",
              "      <th>222</th>\n",
              "      <td>33</td>\n",
              "      <td>33</td>\n",
              "      <td>b'Whenever I open e-learning https://t.co/2R4C...</td>\n",
              "      <td>Theebenga</td>\n",
              "      <td>Nairobi, Kenya</td>\n",
              "      <td>1424806252291534856</td>\n",
              "      <td>50</td>\n",
              "      <td>2021-08-09 18:54:16</td>\n",
              "      <td>NaN</td>\n",
              "      <td>NaN</td>\n",
              "      <td>en</td>\n",
              "      <td>Twitter for iPhone</td>\n",
              "      <td>0</td>\n",
              "      <td>0</td>\n",
              "    </tr>\n",
              "    <tr>\n",
              "      <th>223</th>\n",
              "      <td>34</td>\n",
              "      <td>34</td>\n",
              "      <td>b\"@nbstv But at times, Bill's are passed in ra...</td>\n",
              "      <td>mutrody</td>\n",
              "      <td>Kampala, Uganda</td>\n",
              "      <td>1424801513734647814</td>\n",
              "      <td>271</td>\n",
              "      <td>2021-08-09 18:35:27</td>\n",
              "      <td>NaN</td>\n",
              "      <td>NaN</td>\n",
              "      <td>en</td>\n",
              "      <td>Twitter for Android</td>\n",
              "      <td>1</td>\n",
              "      <td>0</td>\n",
              "    </tr>\n",
              "    <tr>\n",
              "      <th>224</th>\n",
              "      <td>35</td>\n",
              "      <td>35</td>\n",
              "      <td>b\"@ntvuganda The teeth that can not move in un...</td>\n",
              "      <td>KansiimeGreens2</td>\n",
              "      <td>NaN</td>\n",
              "      <td>1424794370759290885</td>\n",
              "      <td>220</td>\n",
              "      <td>2021-08-09 18:07:04</td>\n",
              "      <td>Place(_api=&lt;tweepy.api.API object at 0x7fb294a...</td>\n",
              "      <td>NaN</td>\n",
              "      <td>en</td>\n",
              "      <td>Twitter for Android</td>\n",
              "      <td>0</td>\n",
              "      <td>0</td>\n",
              "    </tr>\n",
              "    <tr>\n",
              "      <th>225</th>\n",
              "      <td>36</td>\n",
              "      <td>36</td>\n",
              "      <td>b'Magut, H &amp;amp; Mulinge, A. (2021). Impact of...</td>\n",
              "      <td>MauriceAmutabi</td>\n",
              "      <td>Kenya</td>\n",
              "      <td>1424722319705055232</td>\n",
              "      <td>232</td>\n",
              "      <td>2021-08-09 13:20:45</td>\n",
              "      <td>NaN</td>\n",
              "      <td>NaN</td>\n",
              "      <td>en</td>\n",
              "      <td>WordPress.com</td>\n",
              "      <td>1</td>\n",
              "      <td>1</td>\n",
              "    </tr>\n",
              "    <tr>\n",
              "      <th>226</th>\n",
              "      <td>37</td>\n",
              "      <td>37</td>\n",
              "      <td>b\"@isaacfuture001 \\xf0\\x9f\\x94\\x85Covid period...</td>\n",
              "      <td>Marvin_Myco</td>\n",
              "      <td>Kampala, Uganda</td>\n",
              "      <td>1424721171774377988</td>\n",
              "      <td>245</td>\n",
              "      <td>2021-08-09 13:16:12</td>\n",
              "      <td>NaN</td>\n",
              "      <td>NaN</td>\n",
              "      <td>en</td>\n",
              "      <td>Twitter for Android</td>\n",
              "      <td>1</td>\n",
              "      <td>0</td>\n",
              "    </tr>\n",
              "    <tr>\n",
              "      <th>227</th>\n",
              "      <td>38</td>\n",
              "      <td>38</td>\n",
              "      <td>b'The polices, that were developed using an or...</td>\n",
              "      <td>SEAD_Rwanda</td>\n",
              "      <td>Kigali, Rwanda</td>\n",
              "      <td>1424641552945750016</td>\n",
              "      <td>285</td>\n",
              "      <td>2021-08-09 07:59:49</td>\n",
              "      <td>NaN</td>\n",
              "      <td>NaN</td>\n",
              "      <td>en</td>\n",
              "      <td>Twitter for iPhone</td>\n",
              "      <td>3</td>\n",
              "      <td>0</td>\n",
              "    </tr>\n",
              "  </tbody>\n",
              "</table>\n",
              "</div>"
            ],
            "text/plain": [
              "     Unnamed: 0  Unnamed: 0.1  ... likes retweets\n",
              "218          29            29  ...    14        9\n",
              "219          30            30  ...     3        3\n",
              "220          31            31  ...     1        1\n",
              "221          32            32  ...     0        0\n",
              "222          33            33  ...     0        0\n",
              "223          34            34  ...     1        0\n",
              "224          35            35  ...     0        0\n",
              "225          36            36  ...     1        1\n",
              "226          37            37  ...     1        0\n",
              "227          38            38  ...     3        0\n",
              "\n",
              "[10 rows x 14 columns]"
            ]
          },
          "metadata": {
            "tags": []
          },
          "execution_count": 4
        }
      ]
    },
    {
      "cell_type": "markdown",
      "metadata": {
        "id": "1civlp1GBeNL"
      },
      "source": [
        "**Accessing basic information about our dataset**"
      ]
    },
    {
      "cell_type": "code",
      "metadata": {
        "colab": {
          "base_uri": "https://localhost:8080/"
        },
        "id": "DmB3DZYbBkYv",
        "outputId": "a0462b65-e48c-424a-ab75-7101059c0b38"
      },
      "source": [
        "data.info()"
      ],
      "execution_count": null,
      "outputs": [
        {
          "output_type": "stream",
          "text": [
            "<class 'pandas.core.frame.DataFrame'>\n",
            "RangeIndex: 228 entries, 0 to 227\n",
            "Data columns (total 14 columns):\n",
            " #   Column        Non-Null Count  Dtype  \n",
            "---  ------        --------------  -----  \n",
            " 0   Unnamed: 0    228 non-null    int64  \n",
            " 1   Unnamed: 0.1  228 non-null    int64  \n",
            " 2   Tweets        228 non-null    object \n",
            " 3   user          228 non-null    object \n",
            " 4   location      222 non-null    object \n",
            " 5   id            228 non-null    int64  \n",
            " 6   lens          228 non-null    int64  \n",
            " 7   date          228 non-null    object \n",
            " 8   place         15 non-null     object \n",
            " 9   coordinates   0 non-null      float64\n",
            " 10  lang          228 non-null    object \n",
            " 11  source        228 non-null    object \n",
            " 12  likes         228 non-null    int64  \n",
            " 13  retweets      228 non-null    int64  \n",
            "dtypes: float64(1), int64(6), object(7)\n",
            "memory usage: 25.1+ KB\n"
          ],
          "name": "stdout"
        }
      ]
    },
    {
      "cell_type": "code",
      "metadata": {
        "colab": {
          "base_uri": "https://localhost:8080/"
        },
        "id": "3ciBSUbRBpiT",
        "outputId": "c2bb383f-f5b7-4d4f-9dc8-04522083b94f"
      },
      "source": [
        "#Checking the shape of our dataset\n",
        "print('This dataset has ' + str(data.shape[0]) + ' rows, and ' + str(data.shape[1]) + ' columns')"
      ],
      "execution_count": null,
      "outputs": [
        {
          "output_type": "stream",
          "text": [
            "This dataset has 228 rows, and 14 columns\n"
          ],
          "name": "stdout"
        }
      ]
    },
    {
      "cell_type": "markdown",
      "metadata": {
        "id": "KPtOKqYsB-xT"
      },
      "source": [
        "#**Data Cleaning**"
      ]
    },
    {
      "cell_type": "markdown",
      "metadata": {
        "id": "3hv6NURSDMMJ"
      },
      "source": [
        "**Validity**"
      ]
    },
    {
      "cell_type": "code",
      "metadata": {
        "id": "eHat4rwxDAH7"
      },
      "source": [
        "#We need to drop columns that will not be in use\n",
        "data.drop(['Unnamed: 0', 'Unnamed: 0.1','place','lens', 'coordinates',\n",
        "           'lang','retweets'], inplace= True, axis = 1)"
      ],
      "execution_count": null,
      "outputs": []
    },
    {
      "cell_type": "markdown",
      "metadata": {
        "id": "N5RX_t9mDj2p"
      },
      "source": [
        "**Consistency**"
      ]
    },
    {
      "cell_type": "code",
      "metadata": {
        "colab": {
          "base_uri": "https://localhost:8080/"
        },
        "id": "rmfFzshz4t6C",
        "outputId": "833d5161-cc6d-41e4-f807-e7998cc91263"
      },
      "source": [
        "#we will look for the number of rows with duplicate records\n",
        "print('Number of rows with duplicated values',data.duplicated().sum())\n",
        "\n",
        "#we then drop the rows with duplicated records\n",
        "data.drop_duplicates(inplace=True)\n",
        "print('After dropping there are',data.duplicated().sum(), \"Duplicated rows\")\n",
        "\n",
        "print('Shape of dataframe after dropping duplicated rows', data.shape)"
      ],
      "execution_count": null,
      "outputs": [
        {
          "output_type": "stream",
          "text": [
            "Number of rows with duplicated values 87\n",
            "After dropping there are 0 Duplicated rows\n",
            "Shape of dataframe after dropping duplicated rows (141, 7)\n"
          ],
          "name": "stdout"
        }
      ]
    },
    {
      "cell_type": "markdown",
      "metadata": {
        "id": "JOZlbs5bCDV1"
      },
      "source": [
        "**Completeness**"
      ]
    },
    {
      "cell_type": "code",
      "metadata": {
        "colab": {
          "base_uri": "https://localhost:8080/"
        },
        "id": "G1CRBUga4ltm",
        "outputId": "517ba5ee-7e49-46f2-d499-8baf3409d0e8"
      },
      "source": [
        "#We shall drop the null values\n",
        "data.isnull().sum()"
      ],
      "execution_count": null,
      "outputs": [
        {
          "output_type": "execute_result",
          "data": {
            "text/plain": [
              "Tweets      0\n",
              "user        0\n",
              "location    3\n",
              "id          0\n",
              "date        0\n",
              "source      0\n",
              "likes       0\n",
              "dtype: int64"
            ]
          },
          "metadata": {
            "tags": []
          },
          "execution_count": 9
        }
      ]
    },
    {
      "cell_type": "code",
      "metadata": {
        "id": "yZ-CWPm-CwUZ"
      },
      "source": [
        "#We shall drop the null values \n",
        "data= data.dropna()"
      ],
      "execution_count": null,
      "outputs": []
    },
    {
      "cell_type": "code",
      "metadata": {
        "colab": {
          "base_uri": "https://localhost:8080/"
        },
        "id": "HkCcP-wRC4Rp",
        "outputId": "022f6a1f-75bd-4be8-a20c-887672f432fc"
      },
      "source": [
        "#Confirming that our dataset has no null values\n",
        "data.isnull().sum()"
      ],
      "execution_count": null,
      "outputs": [
        {
          "output_type": "execute_result",
          "data": {
            "text/plain": [
              "Tweets      0\n",
              "user        0\n",
              "location    0\n",
              "id          0\n",
              "date        0\n",
              "source      0\n",
              "likes       0\n",
              "dtype: int64"
            ]
          },
          "metadata": {
            "tags": []
          },
          "execution_count": 11
        }
      ]
    },
    {
      "cell_type": "markdown",
      "metadata": {
        "id": "ueQ3JaH75XWQ"
      },
      "source": [
        "**Uniformity**"
      ]
    },
    {
      "cell_type": "code",
      "metadata": {
        "colab": {
          "base_uri": "https://localhost:8080/"
        },
        "id": "XLuw90Kj5W8D",
        "outputId": "cf16ce7f-cdd8-4f23-b5d2-d4668a3ee073"
      },
      "source": [
        "data.columns=data.columns.str.strip().str.lower().str.replace(' ','_').str.replace('(','').str.replace(')','')\n",
        "data.columns"
      ],
      "execution_count": null,
      "outputs": [
        {
          "output_type": "execute_result",
          "data": {
            "text/plain": [
              "Index(['tweets', 'user', 'location', 'id', 'date', 'source', 'likes'], dtype='object')"
            ]
          },
          "metadata": {
            "tags": []
          },
          "execution_count": 12
        }
      ]
    },
    {
      "cell_type": "markdown",
      "metadata": {
        "id": "ZyqBcwU740H1"
      },
      "source": [
        "# Text Preprocessing"
      ]
    },
    {
      "cell_type": "code",
      "metadata": {
        "id": "zKB_v5Nifnsk"
      },
      "source": [
        "#Create a class with all function to clean our tweets\n",
        "class CleanText(BaseEstimator, TransformerMixin):\n",
        "    def remove_mentions(self, input_text):\n",
        "        return re.sub(r'@\\w+', '', input_text)\n",
        "    \n",
        "    def remove_urls(self, input_text):\n",
        "        return re.sub(r'http.?://[^\\s]+[\\s]?', '', input_text)\n",
        "    \n",
        "    def emoji_oneword(self, input_text):\n",
        "        # By compressing the underscore, the emoji is kept as one word\n",
        "        return input_text.replace('_','')\n",
        "    def remove_emoji(self, input_text):\n",
        "      #data['clean_tweet']=data['clean_tweet'].apply(nfx.remove_emojis,nfx.remove_stopwords)\n",
        "      return input_text()\n",
        "    \n",
        "    def remove_punctuation(self, input_text):\n",
        "        # Make translation table\n",
        "        punct = string.punctuation\n",
        "        trantab = str.maketrans(punct, len(punct)*' ')  # Every punctuation symbol will be replaced by a space\n",
        "        return input_text.translate(trantab)\n",
        "    def remove_digits(self, input_text):\n",
        "        return re.sub('\\d+', '', input_text)\n",
        "    \n",
        "    def to_lower(self, input_text):\n",
        "        return input_text.lower()\n",
        "    \n",
        "    def remove_stopwords(self, input_text):\n",
        "        stopwords_list = stopwords.words('english')\n",
        "        # Some words which might indicate a certain sentiment are kept via a whitelist\n",
        "        whitelist = [\"n't\", \"not\", \"no\"]\n",
        "        words = input_text.split() \n",
        "        clean_words = [word for word in words if (word not in stopwords_list or word in whitelist) and len(word) > 1] \n",
        "        return \" \".join(clean_words) \n",
        "    \n",
        "    def stemming(self, input_text):\n",
        "        porter = PorterStemmer()\n",
        "        words = input_text.split() \n",
        "        stemmed_words = [porter.stem(word) for word in words]\n",
        "        return \" \".join(stemmed_words)\n",
        "    \n",
        "    def fit(self, X, y=None, **fit_params):\n",
        "        return self\n",
        "    \n",
        "    def transform(self, X, **transform_params):\n",
        "        clean_X = X.apply(self.remove_mentions).apply(self.remove_urls).apply(self.emoji_oneword).apply(self.remove_punctuation).apply(self.remove_digits).apply(self.to_lower).apply(self.remove_stopwords).apply(self.stemming)\n",
        "        return clean_X"
      ],
      "execution_count": null,
      "outputs": []
    },
    {
      "cell_type": "code",
      "metadata": {
        "colab": {
          "base_uri": "https://localhost:8080/",
          "height": 373
        },
        "id": "rInx4Wy441ih",
        "outputId": "a703e275-2cfe-4536-c371-cc57ee49e1cf"
      },
      "source": [
        "data.head()"
      ],
      "execution_count": null,
      "outputs": [
        {
          "output_type": "execute_result",
          "data": {
            "text/html": [
              "<div>\n",
              "<style scoped>\n",
              "    .dataframe tbody tr th:only-of-type {\n",
              "        vertical-align: middle;\n",
              "    }\n",
              "\n",
              "    .dataframe tbody tr th {\n",
              "        vertical-align: top;\n",
              "    }\n",
              "\n",
              "    .dataframe thead th {\n",
              "        text-align: right;\n",
              "    }\n",
              "</style>\n",
              "<table border=\"1\" class=\"dataframe\">\n",
              "  <thead>\n",
              "    <tr style=\"text-align: right;\">\n",
              "      <th></th>\n",
              "      <th>tweets</th>\n",
              "      <th>user</th>\n",
              "      <th>location</th>\n",
              "      <th>id</th>\n",
              "      <th>date</th>\n",
              "      <th>source</th>\n",
              "      <th>likes</th>\n",
              "    </tr>\n",
              "  </thead>\n",
              "  <tbody>\n",
              "    <tr>\n",
              "      <th>0</th>\n",
              "      <td>b'ONLINE LEARNING |\\nBen Troy Njue hosts Prof....</td>\n",
              "      <td>KBCTelevision</td>\n",
              "      <td>Nairobi, Kenya</td>\n",
              "      <td>1427541371418783761</td>\n",
              "      <td>2021-08-17 08:02:40</td>\n",
              "      <td>TweetDeck</td>\n",
              "      <td>0</td>\n",
              "    </tr>\n",
              "    <tr>\n",
              "      <th>1</th>\n",
              "      <td>b\"Virtual school is back at Jinja city's educa...</td>\n",
              "      <td>felixadvise</td>\n",
              "      <td>Jinja, Uganda</td>\n",
              "      <td>1427539081316216853</td>\n",
              "      <td>2021-08-17 07:53:34</td>\n",
              "      <td>Twitter Web App</td>\n",
              "      <td>6</td>\n",
              "    </tr>\n",
              "    <tr>\n",
              "      <th>2</th>\n",
              "      <td>b\"@KBCChannel1 @ManagementUNI  the best in onl...</td>\n",
              "      <td>Daisywanga2</td>\n",
              "      <td>Nairobi, Kenya</td>\n",
              "      <td>1427533647549247494</td>\n",
              "      <td>2021-08-17 07:31:58</td>\n",
              "      <td>Twitter for Android</td>\n",
              "      <td>2</td>\n",
              "    </tr>\n",
              "    <tr>\n",
              "      <th>3</th>\n",
              "      <td>b'Check out this course on TinyML (https://t.c...</td>\n",
              "      <td>VickTheGeek</td>\n",
              "      <td>Nairobi, Kenya</td>\n",
              "      <td>1427516048178393106</td>\n",
              "      <td>2021-08-17 06:22:02</td>\n",
              "      <td>Twitter for Android</td>\n",
              "      <td>0</td>\n",
              "    </tr>\n",
              "    <tr>\n",
              "      <th>4</th>\n",
              "      <td>b'Want to learn more about genre as well as st...</td>\n",
              "      <td>WANTMofficial</td>\n",
              "      <td>Kenya</td>\n",
              "      <td>1427496748075954208</td>\n",
              "      <td>2021-08-17 05:05:21</td>\n",
              "      <td>Twitter Web App</td>\n",
              "      <td>1</td>\n",
              "    </tr>\n",
              "  </tbody>\n",
              "</table>\n",
              "</div>"
            ],
            "text/plain": [
              "                                              tweets  ... likes\n",
              "0  b'ONLINE LEARNING |\\nBen Troy Njue hosts Prof....  ...     0\n",
              "1  b\"Virtual school is back at Jinja city's educa...  ...     6\n",
              "2  b\"@KBCChannel1 @ManagementUNI  the best in onl...  ...     2\n",
              "3  b'Check out this course on TinyML (https://t.c...  ...     0\n",
              "4  b'Want to learn more about genre as well as st...  ...     1\n",
              "\n",
              "[5 rows x 7 columns]"
            ]
          },
          "metadata": {
            "tags": []
          },
          "execution_count": 14
        }
      ]
    },
    {
      "cell_type": "code",
      "metadata": {
        "id": "Um56O8GWBE0i"
      },
      "source": [
        "#Removing emojis\n",
        "# This code snippet encodes all the data into ASCII (American Standard Code for Information Interchange) values and ignore if the \n",
        "# data can not be encoded. After encoding it tries to decode them all again because all the emojis were ignored in the encoding \n",
        "# process. So now we have all the data without emojis.\n",
        "data['tweets'] = data['tweets'].apply(lambda x: x.encode('ascii', 'ignore').decode('ascii'))"
      ],
      "execution_count": null,
      "outputs": []
    },
    {
      "cell_type": "code",
      "metadata": {
        "colab": {
          "base_uri": "https://localhost:8080/"
        },
        "id": "QRryrSnfgIHt",
        "outputId": "39ef99be-28bb-46e9-a7d7-825ed991ef17"
      },
      "source": [
        "#Intialize and call the class and taking a sample to confirm that the tweets have been cleaned\n",
        "clean= CleanText()\n",
        "sr_clean = clean.fit_transform(data.tweets)\n",
        "sr_clean.sample(5)"
      ],
      "execution_count": null,
      "outputs": [
        {
          "output_type": "execute_result",
          "data": {
            "text/plain": [
              "112                 best learn onlin exam platform kenya\n",
              "19                                      onlin learn baba\n",
              "118    youthvib nna kenneth nchristoph niwagira richa...\n",
              "136    kyambogo univers parent buy key learn gadget c...\n",
              "0      onlin learn nben troy njue host prof washingto...\n",
              "Name: tweets, dtype: object"
            ]
          },
          "metadata": {
            "tags": []
          },
          "execution_count": 16
        }
      ]
    },
    {
      "cell_type": "code",
      "metadata": {
        "colab": {
          "base_uri": "https://localhost:8080/"
        },
        "id": "5Xsn8EwehRI7",
        "outputId": "d8e67896-53e1-4dcc-eefb-d17d527168ab"
      },
      "source": [
        "#Imputing null values\n",
        "empty_clean = sr_clean == ''\n",
        "print('{} records have no words left after text cleaning'.format(sr_clean[empty_clean].count()))\n",
        "sr_clean.loc[empty_clean] = '[no_text]'"
      ],
      "execution_count": null,
      "outputs": [
        {
          "output_type": "stream",
          "text": [
            "0 records have no words left after text cleaning\n"
          ],
          "name": "stdout"
        }
      ]
    },
    {
      "cell_type": "code",
      "metadata": {
        "colab": {
          "base_uri": "https://localhost:8080/",
          "height": 529
        },
        "id": "0mxYMnOigOb4",
        "outputId": "f439b3f5-deec-4420-97f5-ec39979bb786"
      },
      "source": [
        "#Convert to df\n",
        "data['clean_tweet'] = sr_clean\n",
        "data.head()"
      ],
      "execution_count": null,
      "outputs": [
        {
          "output_type": "execute_result",
          "data": {
            "text/html": [
              "<div>\n",
              "<style scoped>\n",
              "    .dataframe tbody tr th:only-of-type {\n",
              "        vertical-align: middle;\n",
              "    }\n",
              "\n",
              "    .dataframe tbody tr th {\n",
              "        vertical-align: top;\n",
              "    }\n",
              "\n",
              "    .dataframe thead th {\n",
              "        text-align: right;\n",
              "    }\n",
              "</style>\n",
              "<table border=\"1\" class=\"dataframe\">\n",
              "  <thead>\n",
              "    <tr style=\"text-align: right;\">\n",
              "      <th></th>\n",
              "      <th>tweets</th>\n",
              "      <th>user</th>\n",
              "      <th>location</th>\n",
              "      <th>id</th>\n",
              "      <th>date</th>\n",
              "      <th>source</th>\n",
              "      <th>likes</th>\n",
              "      <th>clean_tweet</th>\n",
              "    </tr>\n",
              "  </thead>\n",
              "  <tbody>\n",
              "    <tr>\n",
              "      <th>0</th>\n",
              "      <td>b'ONLINE LEARNING |\\nBen Troy Njue hosts Prof....</td>\n",
              "      <td>KBCTelevision</td>\n",
              "      <td>Nairobi, Kenya</td>\n",
              "      <td>1427541371418783761</td>\n",
              "      <td>2021-08-17 08:02:40</td>\n",
              "      <td>TweetDeck</td>\n",
              "      <td>0</td>\n",
              "      <td>onlin learn nben troy njue host prof washingto...</td>\n",
              "    </tr>\n",
              "    <tr>\n",
              "      <th>1</th>\n",
              "      <td>b\"Virtual school is back at Jinja city's educa...</td>\n",
              "      <td>felixadvise</td>\n",
              "      <td>Jinja, Uganda</td>\n",
              "      <td>1427539081316216853</td>\n",
              "      <td>2021-08-17 07:53:34</td>\n",
              "      <td>Twitter Web App</td>\n",
              "      <td>6</td>\n",
              "      <td>virtual school back jinja citi educ hub academ...</td>\n",
              "    </tr>\n",
              "    <tr>\n",
              "      <th>2</th>\n",
              "      <td>b\"@KBCChannel1 @ManagementUNI  the best in onl...</td>\n",
              "      <td>Daisywanga2</td>\n",
              "      <td>Nairobi, Kenya</td>\n",
              "      <td>1427533647549247494</td>\n",
              "      <td>2021-08-17 07:31:58</td>\n",
              "      <td>Twitter for Android</td>\n",
              "      <td>2</td>\n",
              "      <td>best onlin learn research carriculum</td>\n",
              "    </tr>\n",
              "    <tr>\n",
              "      <th>3</th>\n",
              "      <td>b'Check out this course on TinyML (https://t.c...</td>\n",
              "      <td>VickTheGeek</td>\n",
              "      <td>Nairobi, Kenya</td>\n",
              "      <td>1427516048178393106</td>\n",
              "      <td>2021-08-17 06:22:02</td>\n",
              "      <td>Twitter for Android</td>\n",
              "      <td>0</td>\n",
              "      <td>check cours tinyml read infer microcontrol ten...</td>\n",
              "    </tr>\n",
              "    <tr>\n",
              "      <th>4</th>\n",
              "      <td>b'Want to learn more about genre as well as st...</td>\n",
              "      <td>WANTMofficial</td>\n",
              "      <td>Kenya</td>\n",
              "      <td>1427496748075954208</td>\n",
              "      <td>2021-08-17 05:05:21</td>\n",
              "      <td>Twitter Web App</td>\n",
              "      <td>1</td>\n",
              "      <td>want learn genr well studi win exampl check do...</td>\n",
              "    </tr>\n",
              "  </tbody>\n",
              "</table>\n",
              "</div>"
            ],
            "text/plain": [
              "                                              tweets  ...                                        clean_tweet\n",
              "0  b'ONLINE LEARNING |\\nBen Troy Njue hosts Prof....  ...  onlin learn nben troy njue host prof washingto...\n",
              "1  b\"Virtual school is back at Jinja city's educa...  ...  virtual school back jinja citi educ hub academ...\n",
              "2  b\"@KBCChannel1 @ManagementUNI  the best in onl...  ...               best onlin learn research carriculum\n",
              "3  b'Check out this course on TinyML (https://t.c...  ...  check cours tinyml read infer microcontrol ten...\n",
              "4  b'Want to learn more about genre as well as st...  ...  want learn genr well studi win exampl check do...\n",
              "\n",
              "[5 rows x 8 columns]"
            ]
          },
          "metadata": {
            "tags": []
          },
          "execution_count": 18
        }
      ]
    },
    {
      "cell_type": "code",
      "metadata": {
        "colab": {
          "base_uri": "https://localhost:8080/",
          "height": 203
        },
        "id": "ceeH-LEGho-H",
        "outputId": "dc844694-9771-4b82-aa5f-10c87253b635"
      },
      "source": [
        "#Checking the most frequent word\n",
        "a = data['clean_tweet'].str.cat(sep=' ')\n",
        "words = nltk.tokenize.word_tokenize(a)\n",
        "word_dist = nltk.FreqDist(words)\n",
        "dff = pd.DataFrame(word_dist.most_common(), \n",
        "                    columns=['Word', 'Frequency'])\n",
        "dff['Word_Count'] = dff.Word.apply(len)\n",
        "dff[:5]"
      ],
      "execution_count": null,
      "outputs": [
        {
          "output_type": "execute_result",
          "data": {
            "text/html": [
              "<div>\n",
              "<style scoped>\n",
              "    .dataframe tbody tr th:only-of-type {\n",
              "        vertical-align: middle;\n",
              "    }\n",
              "\n",
              "    .dataframe tbody tr th {\n",
              "        vertical-align: top;\n",
              "    }\n",
              "\n",
              "    .dataframe thead th {\n",
              "        text-align: right;\n",
              "    }\n",
              "</style>\n",
              "<table border=\"1\" class=\"dataframe\">\n",
              "  <thead>\n",
              "    <tr style=\"text-align: right;\">\n",
              "      <th></th>\n",
              "      <th>Word</th>\n",
              "      <th>Frequency</th>\n",
              "      <th>Word_Count</th>\n",
              "    </tr>\n",
              "  </thead>\n",
              "  <tbody>\n",
              "    <tr>\n",
              "      <th>0</th>\n",
              "      <td>learn</td>\n",
              "      <td>166</td>\n",
              "      <td>5</td>\n",
              "    </tr>\n",
              "    <tr>\n",
              "      <th>1</th>\n",
              "      <td>onlin</td>\n",
              "      <td>83</td>\n",
              "      <td>5</td>\n",
              "    </tr>\n",
              "    <tr>\n",
              "      <th>2</th>\n",
              "      <td>xf</td>\n",
              "      <td>80</td>\n",
              "      <td>2</td>\n",
              "    </tr>\n",
              "    <tr>\n",
              "      <th>3</th>\n",
              "      <td>digit</td>\n",
              "      <td>37</td>\n",
              "      <td>5</td>\n",
              "    </tr>\n",
              "    <tr>\n",
              "      <th>4</th>\n",
              "      <td>educ</td>\n",
              "      <td>28</td>\n",
              "      <td>4</td>\n",
              "    </tr>\n",
              "  </tbody>\n",
              "</table>\n",
              "</div>"
            ],
            "text/plain": [
              "    Word  Frequency  Word_Count\n",
              "0  learn        166           5\n",
              "1  onlin         83           5\n",
              "2     xf         80           2\n",
              "3  digit         37           5\n",
              "4   educ         28           4"
            ]
          },
          "metadata": {
            "tags": []
          },
          "execution_count": 19
        }
      ]
    }
  ]
}