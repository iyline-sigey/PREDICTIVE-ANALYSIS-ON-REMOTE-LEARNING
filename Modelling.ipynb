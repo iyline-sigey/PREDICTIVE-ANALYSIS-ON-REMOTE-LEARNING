{
  "nbformat": 4,
  "nbformat_minor": 0,
  "metadata": {
    "colab": {
      "name": "Modelling.ipynb",
      "provenance": [],
      "collapsed_sections": [
        "NoRWM3l5PH-B"
      ]
    },
    "kernelspec": {
      "display_name": "Python 3",
      "name": "python3"
    },
    "language_info": {
      "name": "python"
    },
    "widgets": {
      "application/vnd.jupyter.widget-state+json": {
        "2ab5c67ad55d4d33b40f829060d3c5ea": {
          "model_module": "@jupyter-widgets/controls",
          "model_name": "VBoxModel",
          "model_module_version": "1.5.0",
          "state": {
            "_view_name": "VBoxView",
            "_dom_classes": [],
            "_model_name": "VBoxModel",
            "_view_module": "@jupyter-widgets/controls",
            "_model_module_version": "1.5.0",
            "_view_count": null,
            "_view_module_version": "1.5.0",
            "box_style": "",
            "layout": "IPY_MODEL_bacc513ecd3540449fe69badc1270ce5",
            "_model_module": "@jupyter-widgets/controls",
            "children": [
              "IPY_MODEL_0d66fd597e224275b9d06e36dbfa1990",
              "IPY_MODEL_dd2d31dc091e4b099809ac7075228185"
            ]
          }
        },
        "bacc513ecd3540449fe69badc1270ce5": {
          "model_module": "@jupyter-widgets/base",
          "model_name": "LayoutModel",
          "model_module_version": "1.2.0",
          "state": {
            "_view_name": "LayoutView",
            "grid_template_rows": null,
            "right": null,
            "justify_content": null,
            "_view_module": "@jupyter-widgets/base",
            "overflow": null,
            "_model_module_version": "1.2.0",
            "_view_count": null,
            "flex_flow": null,
            "width": null,
            "min_width": null,
            "border": null,
            "align_items": null,
            "bottom": null,
            "_model_module": "@jupyter-widgets/base",
            "top": null,
            "grid_column": null,
            "overflow_y": null,
            "overflow_x": null,
            "grid_auto_flow": null,
            "grid_area": null,
            "grid_template_columns": null,
            "flex": null,
            "_model_name": "LayoutModel",
            "justify_items": null,
            "grid_row": null,
            "max_height": null,
            "align_content": null,
            "visibility": null,
            "align_self": null,
            "height": null,
            "min_height": null,
            "padding": null,
            "grid_auto_rows": null,
            "grid_gap": null,
            "max_width": null,
            "order": null,
            "_view_module_version": "1.2.0",
            "grid_template_areas": null,
            "object_position": null,
            "object_fit": null,
            "grid_auto_columns": null,
            "margin": null,
            "display": null,
            "left": null
          }
        },
        "0d66fd597e224275b9d06e36dbfa1990": {
          "model_module": "@jupyter-widgets/controls",
          "model_name": "LabelModel",
          "model_module_version": "1.5.0",
          "state": {
            "_view_name": "LabelView",
            "style": "IPY_MODEL_87d7a5181e934eeda6c83fb4035ff877",
            "_dom_classes": [],
            "description": "",
            "_model_name": "LabelModel",
            "placeholder": "​",
            "_view_module": "@jupyter-widgets/controls",
            "_model_module_version": "1.5.0",
            "value": " 0.77MB of 0.77MB uploaded (0.00MB deduped)\r",
            "_view_count": null,
            "_view_module_version": "1.5.0",
            "description_tooltip": null,
            "_model_module": "@jupyter-widgets/controls",
            "layout": "IPY_MODEL_fdd51dad0c1c49afaa62959544f090e7"
          }
        },
        "dd2d31dc091e4b099809ac7075228185": {
          "model_module": "@jupyter-widgets/controls",
          "model_name": "FloatProgressModel",
          "model_module_version": "1.5.0",
          "state": {
            "_view_name": "ProgressView",
            "style": "IPY_MODEL_6ba3b2e1e5194e4bab2754fc30f234d8",
            "_dom_classes": [],
            "description": "",
            "_model_name": "FloatProgressModel",
            "bar_style": "",
            "max": 1,
            "_view_module": "@jupyter-widgets/controls",
            "_model_module_version": "1.5.0",
            "value": 1,
            "_view_count": null,
            "_view_module_version": "1.5.0",
            "orientation": "horizontal",
            "min": 0,
            "description_tooltip": null,
            "_model_module": "@jupyter-widgets/controls",
            "layout": "IPY_MODEL_d2c41f4ccc1c4c588a9ee9b01ac5238a"
          }
        },
        "87d7a5181e934eeda6c83fb4035ff877": {
          "model_module": "@jupyter-widgets/controls",
          "model_name": "DescriptionStyleModel",
          "model_module_version": "1.5.0",
          "state": {
            "_view_name": "StyleView",
            "_model_name": "DescriptionStyleModel",
            "description_width": "",
            "_view_module": "@jupyter-widgets/base",
            "_model_module_version": "1.5.0",
            "_view_count": null,
            "_view_module_version": "1.2.0",
            "_model_module": "@jupyter-widgets/controls"
          }
        },
        "fdd51dad0c1c49afaa62959544f090e7": {
          "model_module": "@jupyter-widgets/base",
          "model_name": "LayoutModel",
          "model_module_version": "1.2.0",
          "state": {
            "_view_name": "LayoutView",
            "grid_template_rows": null,
            "right": null,
            "justify_content": null,
            "_view_module": "@jupyter-widgets/base",
            "overflow": null,
            "_model_module_version": "1.2.0",
            "_view_count": null,
            "flex_flow": null,
            "width": null,
            "min_width": null,
            "border": null,
            "align_items": null,
            "bottom": null,
            "_model_module": "@jupyter-widgets/base",
            "top": null,
            "grid_column": null,
            "overflow_y": null,
            "overflow_x": null,
            "grid_auto_flow": null,
            "grid_area": null,
            "grid_template_columns": null,
            "flex": null,
            "_model_name": "LayoutModel",
            "justify_items": null,
            "grid_row": null,
            "max_height": null,
            "align_content": null,
            "visibility": null,
            "align_self": null,
            "height": null,
            "min_height": null,
            "padding": null,
            "grid_auto_rows": null,
            "grid_gap": null,
            "max_width": null,
            "order": null,
            "_view_module_version": "1.2.0",
            "grid_template_areas": null,
            "object_position": null,
            "object_fit": null,
            "grid_auto_columns": null,
            "margin": null,
            "display": null,
            "left": null
          }
        },
        "6ba3b2e1e5194e4bab2754fc30f234d8": {
          "model_module": "@jupyter-widgets/controls",
          "model_name": "ProgressStyleModel",
          "model_module_version": "1.5.0",
          "state": {
            "_view_name": "StyleView",
            "_model_name": "ProgressStyleModel",
            "description_width": "",
            "_view_module": "@jupyter-widgets/base",
            "_model_module_version": "1.5.0",
            "_view_count": null,
            "_view_module_version": "1.2.0",
            "bar_color": null,
            "_model_module": "@jupyter-widgets/controls"
          }
        },
        "d2c41f4ccc1c4c588a9ee9b01ac5238a": {
          "model_module": "@jupyter-widgets/base",
          "model_name": "LayoutModel",
          "model_module_version": "1.2.0",
          "state": {
            "_view_name": "LayoutView",
            "grid_template_rows": null,
            "right": null,
            "justify_content": null,
            "_view_module": "@jupyter-widgets/base",
            "overflow": null,
            "_model_module_version": "1.2.0",
            "_view_count": null,
            "flex_flow": null,
            "width": null,
            "min_width": null,
            "border": null,
            "align_items": null,
            "bottom": null,
            "_model_module": "@jupyter-widgets/base",
            "top": null,
            "grid_column": null,
            "overflow_y": null,
            "overflow_x": null,
            "grid_auto_flow": null,
            "grid_area": null,
            "grid_template_columns": null,
            "flex": null,
            "_model_name": "LayoutModel",
            "justify_items": null,
            "grid_row": null,
            "max_height": null,
            "align_content": null,
            "visibility": null,
            "align_self": null,
            "height": null,
            "min_height": null,
            "padding": null,
            "grid_auto_rows": null,
            "grid_gap": null,
            "max_width": null,
            "order": null,
            "_view_module_version": "1.2.0",
            "grid_template_areas": null,
            "object_position": null,
            "object_fit": null,
            "grid_auto_columns": null,
            "margin": null,
            "display": null,
            "left": null
          }
        },
        "fdfb83a8649f49928a19bd64daca0894": {
          "model_module": "@jupyter-widgets/controls",
          "model_name": "VBoxModel",
          "model_module_version": "1.5.0",
          "state": {
            "_view_name": "VBoxView",
            "_dom_classes": [],
            "_model_name": "VBoxModel",
            "_view_module": "@jupyter-widgets/controls",
            "_model_module_version": "1.5.0",
            "_view_count": null,
            "_view_module_version": "1.5.0",
            "box_style": "",
            "layout": "IPY_MODEL_8064eb03f3f34745b278561f1b1ffd5c",
            "_model_module": "@jupyter-widgets/controls",
            "children": [
              "IPY_MODEL_ec2d94faabbe4cf28c93ea1878b139ef",
              "IPY_MODEL_bc08e7a453924bf4b153ea08d1b5ce65"
            ]
          }
        },
        "8064eb03f3f34745b278561f1b1ffd5c": {
          "model_module": "@jupyter-widgets/base",
          "model_name": "LayoutModel",
          "model_module_version": "1.2.0",
          "state": {
            "_view_name": "LayoutView",
            "grid_template_rows": null,
            "right": null,
            "justify_content": null,
            "_view_module": "@jupyter-widgets/base",
            "overflow": null,
            "_model_module_version": "1.2.0",
            "_view_count": null,
            "flex_flow": null,
            "width": null,
            "min_width": null,
            "border": null,
            "align_items": null,
            "bottom": null,
            "_model_module": "@jupyter-widgets/base",
            "top": null,
            "grid_column": null,
            "overflow_y": null,
            "overflow_x": null,
            "grid_auto_flow": null,
            "grid_area": null,
            "grid_template_columns": null,
            "flex": null,
            "_model_name": "LayoutModel",
            "justify_items": null,
            "grid_row": null,
            "max_height": null,
            "align_content": null,
            "visibility": null,
            "align_self": null,
            "height": null,
            "min_height": null,
            "padding": null,
            "grid_auto_rows": null,
            "grid_gap": null,
            "max_width": null,
            "order": null,
            "_view_module_version": "1.2.0",
            "grid_template_areas": null,
            "object_position": null,
            "object_fit": null,
            "grid_auto_columns": null,
            "margin": null,
            "display": null,
            "left": null
          }
        },
        "ec2d94faabbe4cf28c93ea1878b139ef": {
          "model_module": "@jupyter-widgets/controls",
          "model_name": "LabelModel",
          "model_module_version": "1.5.0",
          "state": {
            "_view_name": "LabelView",
            "style": "IPY_MODEL_20117dd74a4c432fb65ed255bf4ef2b9",
            "_dom_classes": [],
            "description": "",
            "_model_name": "LabelModel",
            "placeholder": "​",
            "_view_module": "@jupyter-widgets/controls",
            "_model_module_version": "1.5.0",
            "value": " 1.80MB of 1.80MB uploaded (0.00MB deduped)\r",
            "_view_count": null,
            "_view_module_version": "1.5.0",
            "description_tooltip": null,
            "_model_module": "@jupyter-widgets/controls",
            "layout": "IPY_MODEL_8c307d77bd1741e3bcd291998cdeadfc"
          }
        },
        "bc08e7a453924bf4b153ea08d1b5ce65": {
          "model_module": "@jupyter-widgets/controls",
          "model_name": "FloatProgressModel",
          "model_module_version": "1.5.0",
          "state": {
            "_view_name": "ProgressView",
            "style": "IPY_MODEL_508857ab7ed04eed8172a667229d2314",
            "_dom_classes": [],
            "description": "",
            "_model_name": "FloatProgressModel",
            "bar_style": "",
            "max": 1,
            "_view_module": "@jupyter-widgets/controls",
            "_model_module_version": "1.5.0",
            "value": 1,
            "_view_count": null,
            "_view_module_version": "1.5.0",
            "orientation": "horizontal",
            "min": 0,
            "description_tooltip": null,
            "_model_module": "@jupyter-widgets/controls",
            "layout": "IPY_MODEL_c0ec2c88be13474c89bea82a4634d533"
          }
        },
        "20117dd74a4c432fb65ed255bf4ef2b9": {
          "model_module": "@jupyter-widgets/controls",
          "model_name": "DescriptionStyleModel",
          "model_module_version": "1.5.0",
          "state": {
            "_view_name": "StyleView",
            "_model_name": "DescriptionStyleModel",
            "description_width": "",
            "_view_module": "@jupyter-widgets/base",
            "_model_module_version": "1.5.0",
            "_view_count": null,
            "_view_module_version": "1.2.0",
            "_model_module": "@jupyter-widgets/controls"
          }
        },
        "8c307d77bd1741e3bcd291998cdeadfc": {
          "model_module": "@jupyter-widgets/base",
          "model_name": "LayoutModel",
          "model_module_version": "1.2.0",
          "state": {
            "_view_name": "LayoutView",
            "grid_template_rows": null,
            "right": null,
            "justify_content": null,
            "_view_module": "@jupyter-widgets/base",
            "overflow": null,
            "_model_module_version": "1.2.0",
            "_view_count": null,
            "flex_flow": null,
            "width": null,
            "min_width": null,
            "border": null,
            "align_items": null,
            "bottom": null,
            "_model_module": "@jupyter-widgets/base",
            "top": null,
            "grid_column": null,
            "overflow_y": null,
            "overflow_x": null,
            "grid_auto_flow": null,
            "grid_area": null,
            "grid_template_columns": null,
            "flex": null,
            "_model_name": "LayoutModel",
            "justify_items": null,
            "grid_row": null,
            "max_height": null,
            "align_content": null,
            "visibility": null,
            "align_self": null,
            "height": null,
            "min_height": null,
            "padding": null,
            "grid_auto_rows": null,
            "grid_gap": null,
            "max_width": null,
            "order": null,
            "_view_module_version": "1.2.0",
            "grid_template_areas": null,
            "object_position": null,
            "object_fit": null,
            "grid_auto_columns": null,
            "margin": null,
            "display": null,
            "left": null
          }
        },
        "508857ab7ed04eed8172a667229d2314": {
          "model_module": "@jupyter-widgets/controls",
          "model_name": "ProgressStyleModel",
          "model_module_version": "1.5.0",
          "state": {
            "_view_name": "StyleView",
            "_model_name": "ProgressStyleModel",
            "description_width": "",
            "_view_module": "@jupyter-widgets/base",
            "_model_module_version": "1.5.0",
            "_view_count": null,
            "_view_module_version": "1.2.0",
            "bar_color": null,
            "_model_module": "@jupyter-widgets/controls"
          }
        },
        "c0ec2c88be13474c89bea82a4634d533": {
          "model_module": "@jupyter-widgets/base",
          "model_name": "LayoutModel",
          "model_module_version": "1.2.0",
          "state": {
            "_view_name": "LayoutView",
            "grid_template_rows": null,
            "right": null,
            "justify_content": null,
            "_view_module": "@jupyter-widgets/base",
            "overflow": null,
            "_model_module_version": "1.2.0",
            "_view_count": null,
            "flex_flow": null,
            "width": null,
            "min_width": null,
            "border": null,
            "align_items": null,
            "bottom": null,
            "_model_module": "@jupyter-widgets/base",
            "top": null,
            "grid_column": null,
            "overflow_y": null,
            "overflow_x": null,
            "grid_auto_flow": null,
            "grid_area": null,
            "grid_template_columns": null,
            "flex": null,
            "_model_name": "LayoutModel",
            "justify_items": null,
            "grid_row": null,
            "max_height": null,
            "align_content": null,
            "visibility": null,
            "align_self": null,
            "height": null,
            "min_height": null,
            "padding": null,
            "grid_auto_rows": null,
            "grid_gap": null,
            "max_width": null,
            "order": null,
            "_view_module_version": "1.2.0",
            "grid_template_areas": null,
            "object_position": null,
            "object_fit": null,
            "grid_auto_columns": null,
            "margin": null,
            "display": null,
            "left": null
          }
        },
        "ecf0082f88c0492eae27b9f0adeac04d": {
          "model_module": "@jupyter-widgets/controls",
          "model_name": "VBoxModel",
          "model_module_version": "1.5.0",
          "state": {
            "_view_name": "VBoxView",
            "_dom_classes": [],
            "_model_name": "VBoxModel",
            "_view_module": "@jupyter-widgets/controls",
            "_model_module_version": "1.5.0",
            "_view_count": null,
            "_view_module_version": "1.5.0",
            "box_style": "",
            "layout": "IPY_MODEL_c03aef7b588a460c8efa280d40734dd0",
            "_model_module": "@jupyter-widgets/controls",
            "children": [
              "IPY_MODEL_a26b3d7c49fb4d0181938cb30536765f",
              "IPY_MODEL_0b105b68f6a347c59b1e672e8db1f4ed"
            ]
          }
        },
        "c03aef7b588a460c8efa280d40734dd0": {
          "model_module": "@jupyter-widgets/base",
          "model_name": "LayoutModel",
          "model_module_version": "1.2.0",
          "state": {
            "_view_name": "LayoutView",
            "grid_template_rows": null,
            "right": null,
            "justify_content": null,
            "_view_module": "@jupyter-widgets/base",
            "overflow": null,
            "_model_module_version": "1.2.0",
            "_view_count": null,
            "flex_flow": null,
            "width": null,
            "min_width": null,
            "border": null,
            "align_items": null,
            "bottom": null,
            "_model_module": "@jupyter-widgets/base",
            "top": null,
            "grid_column": null,
            "overflow_y": null,
            "overflow_x": null,
            "grid_auto_flow": null,
            "grid_area": null,
            "grid_template_columns": null,
            "flex": null,
            "_model_name": "LayoutModel",
            "justify_items": null,
            "grid_row": null,
            "max_height": null,
            "align_content": null,
            "visibility": null,
            "align_self": null,
            "height": null,
            "min_height": null,
            "padding": null,
            "grid_auto_rows": null,
            "grid_gap": null,
            "max_width": null,
            "order": null,
            "_view_module_version": "1.2.0",
            "grid_template_areas": null,
            "object_position": null,
            "object_fit": null,
            "grid_auto_columns": null,
            "margin": null,
            "display": null,
            "left": null
          }
        },
        "a26b3d7c49fb4d0181938cb30536765f": {
          "model_module": "@jupyter-widgets/controls",
          "model_name": "LabelModel",
          "model_module_version": "1.5.0",
          "state": {
            "_view_name": "LabelView",
            "style": "IPY_MODEL_497f221d0c61498ca937e440111a669f",
            "_dom_classes": [],
            "description": "",
            "_model_name": "LabelModel",
            "placeholder": "​",
            "_view_module": "@jupyter-widgets/controls",
            "_model_module_version": "1.5.0",
            "value": " 1.06MB of 1.06MB uploaded (0.00MB deduped)\r",
            "_view_count": null,
            "_view_module_version": "1.5.0",
            "description_tooltip": null,
            "_model_module": "@jupyter-widgets/controls",
            "layout": "IPY_MODEL_02737ce5b94f4f12a68fd8667a56055e"
          }
        },
        "0b105b68f6a347c59b1e672e8db1f4ed": {
          "model_module": "@jupyter-widgets/controls",
          "model_name": "FloatProgressModel",
          "model_module_version": "1.5.0",
          "state": {
            "_view_name": "ProgressView",
            "style": "IPY_MODEL_d8dcfe14b3ed412aa56fd8ffa099c269",
            "_dom_classes": [],
            "description": "",
            "_model_name": "FloatProgressModel",
            "bar_style": "",
            "max": 1,
            "_view_module": "@jupyter-widgets/controls",
            "_model_module_version": "1.5.0",
            "value": 1,
            "_view_count": null,
            "_view_module_version": "1.5.0",
            "orientation": "horizontal",
            "min": 0,
            "description_tooltip": null,
            "_model_module": "@jupyter-widgets/controls",
            "layout": "IPY_MODEL_c4149daf2d16487495d3a0dde07a06d1"
          }
        },
        "497f221d0c61498ca937e440111a669f": {
          "model_module": "@jupyter-widgets/controls",
          "model_name": "DescriptionStyleModel",
          "model_module_version": "1.5.0",
          "state": {
            "_view_name": "StyleView",
            "_model_name": "DescriptionStyleModel",
            "description_width": "",
            "_view_module": "@jupyter-widgets/base",
            "_model_module_version": "1.5.0",
            "_view_count": null,
            "_view_module_version": "1.2.0",
            "_model_module": "@jupyter-widgets/controls"
          }
        },
        "02737ce5b94f4f12a68fd8667a56055e": {
          "model_module": "@jupyter-widgets/base",
          "model_name": "LayoutModel",
          "model_module_version": "1.2.0",
          "state": {
            "_view_name": "LayoutView",
            "grid_template_rows": null,
            "right": null,
            "justify_content": null,
            "_view_module": "@jupyter-widgets/base",
            "overflow": null,
            "_model_module_version": "1.2.0",
            "_view_count": null,
            "flex_flow": null,
            "width": null,
            "min_width": null,
            "border": null,
            "align_items": null,
            "bottom": null,
            "_model_module": "@jupyter-widgets/base",
            "top": null,
            "grid_column": null,
            "overflow_y": null,
            "overflow_x": null,
            "grid_auto_flow": null,
            "grid_area": null,
            "grid_template_columns": null,
            "flex": null,
            "_model_name": "LayoutModel",
            "justify_items": null,
            "grid_row": null,
            "max_height": null,
            "align_content": null,
            "visibility": null,
            "align_self": null,
            "height": null,
            "min_height": null,
            "padding": null,
            "grid_auto_rows": null,
            "grid_gap": null,
            "max_width": null,
            "order": null,
            "_view_module_version": "1.2.0",
            "grid_template_areas": null,
            "object_position": null,
            "object_fit": null,
            "grid_auto_columns": null,
            "margin": null,
            "display": null,
            "left": null
          }
        },
        "d8dcfe14b3ed412aa56fd8ffa099c269": {
          "model_module": "@jupyter-widgets/controls",
          "model_name": "ProgressStyleModel",
          "model_module_version": "1.5.0",
          "state": {
            "_view_name": "StyleView",
            "_model_name": "ProgressStyleModel",
            "description_width": "",
            "_view_module": "@jupyter-widgets/base",
            "_model_module_version": "1.5.0",
            "_view_count": null,
            "_view_module_version": "1.2.0",
            "bar_color": null,
            "_model_module": "@jupyter-widgets/controls"
          }
        },
        "c4149daf2d16487495d3a0dde07a06d1": {
          "model_module": "@jupyter-widgets/base",
          "model_name": "LayoutModel",
          "model_module_version": "1.2.0",
          "state": {
            "_view_name": "LayoutView",
            "grid_template_rows": null,
            "right": null,
            "justify_content": null,
            "_view_module": "@jupyter-widgets/base",
            "overflow": null,
            "_model_module_version": "1.2.0",
            "_view_count": null,
            "flex_flow": null,
            "width": null,
            "min_width": null,
            "border": null,
            "align_items": null,
            "bottom": null,
            "_model_module": "@jupyter-widgets/base",
            "top": null,
            "grid_column": null,
            "overflow_y": null,
            "overflow_x": null,
            "grid_auto_flow": null,
            "grid_area": null,
            "grid_template_columns": null,
            "flex": null,
            "_model_name": "LayoutModel",
            "justify_items": null,
            "grid_row": null,
            "max_height": null,
            "align_content": null,
            "visibility": null,
            "align_self": null,
            "height": null,
            "min_height": null,
            "padding": null,
            "grid_auto_rows": null,
            "grid_gap": null,
            "max_width": null,
            "order": null,
            "_view_module_version": "1.2.0",
            "grid_template_areas": null,
            "object_position": null,
            "object_fit": null,
            "grid_auto_columns": null,
            "margin": null,
            "display": null,
            "left": null
          }
        },
        "7cc930f4dc5841c38c8bcec8c92d44f6": {
          "model_module": "@jupyter-widgets/controls",
          "model_name": "VBoxModel",
          "model_module_version": "1.5.0",
          "state": {
            "_view_name": "VBoxView",
            "_dom_classes": [],
            "_model_name": "VBoxModel",
            "_view_module": "@jupyter-widgets/controls",
            "_model_module_version": "1.5.0",
            "_view_count": null,
            "_view_module_version": "1.5.0",
            "box_style": "",
            "layout": "IPY_MODEL_8450f5dc8dee454ba9789f2387699837",
            "_model_module": "@jupyter-widgets/controls",
            "children": [
              "IPY_MODEL_aa67496dfe314c3dbe37371b07579dd6",
              "IPY_MODEL_1e99b96adcd3457e826ffd732498028a"
            ]
          }
        },
        "8450f5dc8dee454ba9789f2387699837": {
          "model_module": "@jupyter-widgets/base",
          "model_name": "LayoutModel",
          "model_module_version": "1.2.0",
          "state": {
            "_view_name": "LayoutView",
            "grid_template_rows": null,
            "right": null,
            "justify_content": null,
            "_view_module": "@jupyter-widgets/base",
            "overflow": null,
            "_model_module_version": "1.2.0",
            "_view_count": null,
            "flex_flow": null,
            "width": null,
            "min_width": null,
            "border": null,
            "align_items": null,
            "bottom": null,
            "_model_module": "@jupyter-widgets/base",
            "top": null,
            "grid_column": null,
            "overflow_y": null,
            "overflow_x": null,
            "grid_auto_flow": null,
            "grid_area": null,
            "grid_template_columns": null,
            "flex": null,
            "_model_name": "LayoutModel",
            "justify_items": null,
            "grid_row": null,
            "max_height": null,
            "align_content": null,
            "visibility": null,
            "align_self": null,
            "height": null,
            "min_height": null,
            "padding": null,
            "grid_auto_rows": null,
            "grid_gap": null,
            "max_width": null,
            "order": null,
            "_view_module_version": "1.2.0",
            "grid_template_areas": null,
            "object_position": null,
            "object_fit": null,
            "grid_auto_columns": null,
            "margin": null,
            "display": null,
            "left": null
          }
        },
        "aa67496dfe314c3dbe37371b07579dd6": {
          "model_module": "@jupyter-widgets/controls",
          "model_name": "LabelModel",
          "model_module_version": "1.5.0",
          "state": {
            "_view_name": "LabelView",
            "style": "IPY_MODEL_246cc9086141492fbe2387c644b5d983",
            "_dom_classes": [],
            "description": "",
            "_model_name": "LabelModel",
            "placeholder": "​",
            "_view_module": "@jupyter-widgets/controls",
            "_model_module_version": "1.5.0",
            "value": " 1.92MB of 1.92MB uploaded (0.00MB deduped)\r",
            "_view_count": null,
            "_view_module_version": "1.5.0",
            "description_tooltip": null,
            "_model_module": "@jupyter-widgets/controls",
            "layout": "IPY_MODEL_882ca6a979684eecab68efc5b0cfc9f2"
          }
        },
        "1e99b96adcd3457e826ffd732498028a": {
          "model_module": "@jupyter-widgets/controls",
          "model_name": "FloatProgressModel",
          "model_module_version": "1.5.0",
          "state": {
            "_view_name": "ProgressView",
            "style": "IPY_MODEL_fa491b65f0f34880918dd505389bdbb9",
            "_dom_classes": [],
            "description": "",
            "_model_name": "FloatProgressModel",
            "bar_style": "",
            "max": 1,
            "_view_module": "@jupyter-widgets/controls",
            "_model_module_version": "1.5.0",
            "value": 1,
            "_view_count": null,
            "_view_module_version": "1.5.0",
            "orientation": "horizontal",
            "min": 0,
            "description_tooltip": null,
            "_model_module": "@jupyter-widgets/controls",
            "layout": "IPY_MODEL_ba7f3e50f1a945b981933c5e176c6c7e"
          }
        },
        "246cc9086141492fbe2387c644b5d983": {
          "model_module": "@jupyter-widgets/controls",
          "model_name": "DescriptionStyleModel",
          "model_module_version": "1.5.0",
          "state": {
            "_view_name": "StyleView",
            "_model_name": "DescriptionStyleModel",
            "description_width": "",
            "_view_module": "@jupyter-widgets/base",
            "_model_module_version": "1.5.0",
            "_view_count": null,
            "_view_module_version": "1.2.0",
            "_model_module": "@jupyter-widgets/controls"
          }
        },
        "882ca6a979684eecab68efc5b0cfc9f2": {
          "model_module": "@jupyter-widgets/base",
          "model_name": "LayoutModel",
          "model_module_version": "1.2.0",
          "state": {
            "_view_name": "LayoutView",
            "grid_template_rows": null,
            "right": null,
            "justify_content": null,
            "_view_module": "@jupyter-widgets/base",
            "overflow": null,
            "_model_module_version": "1.2.0",
            "_view_count": null,
            "flex_flow": null,
            "width": null,
            "min_width": null,
            "border": null,
            "align_items": null,
            "bottom": null,
            "_model_module": "@jupyter-widgets/base",
            "top": null,
            "grid_column": null,
            "overflow_y": null,
            "overflow_x": null,
            "grid_auto_flow": null,
            "grid_area": null,
            "grid_template_columns": null,
            "flex": null,
            "_model_name": "LayoutModel",
            "justify_items": null,
            "grid_row": null,
            "max_height": null,
            "align_content": null,
            "visibility": null,
            "align_self": null,
            "height": null,
            "min_height": null,
            "padding": null,
            "grid_auto_rows": null,
            "grid_gap": null,
            "max_width": null,
            "order": null,
            "_view_module_version": "1.2.0",
            "grid_template_areas": null,
            "object_position": null,
            "object_fit": null,
            "grid_auto_columns": null,
            "margin": null,
            "display": null,
            "left": null
          }
        },
        "fa491b65f0f34880918dd505389bdbb9": {
          "model_module": "@jupyter-widgets/controls",
          "model_name": "ProgressStyleModel",
          "model_module_version": "1.5.0",
          "state": {
            "_view_name": "StyleView",
            "_model_name": "ProgressStyleModel",
            "description_width": "",
            "_view_module": "@jupyter-widgets/base",
            "_model_module_version": "1.5.0",
            "_view_count": null,
            "_view_module_version": "1.2.0",
            "bar_color": null,
            "_model_module": "@jupyter-widgets/controls"
          }
        },
        "ba7f3e50f1a945b981933c5e176c6c7e": {
          "model_module": "@jupyter-widgets/base",
          "model_name": "LayoutModel",
          "model_module_version": "1.2.0",
          "state": {
            "_view_name": "LayoutView",
            "grid_template_rows": null,
            "right": null,
            "justify_content": null,
            "_view_module": "@jupyter-widgets/base",
            "overflow": null,
            "_model_module_version": "1.2.0",
            "_view_count": null,
            "flex_flow": null,
            "width": null,
            "min_width": null,
            "border": null,
            "align_items": null,
            "bottom": null,
            "_model_module": "@jupyter-widgets/base",
            "top": null,
            "grid_column": null,
            "overflow_y": null,
            "overflow_x": null,
            "grid_auto_flow": null,
            "grid_area": null,
            "grid_template_columns": null,
            "flex": null,
            "_model_name": "LayoutModel",
            "justify_items": null,
            "grid_row": null,
            "max_height": null,
            "align_content": null,
            "visibility": null,
            "align_self": null,
            "height": null,
            "min_height": null,
            "padding": null,
            "grid_auto_rows": null,
            "grid_gap": null,
            "max_width": null,
            "order": null,
            "_view_module_version": "1.2.0",
            "grid_template_areas": null,
            "object_position": null,
            "object_fit": null,
            "grid_auto_columns": null,
            "margin": null,
            "display": null,
            "left": null
          }
        },
        "6d8e1e3be34d4bc187f298edce65447b": {
          "model_module": "@jupyter-widgets/controls",
          "model_name": "VBoxModel",
          "model_module_version": "1.5.0",
          "state": {
            "_view_name": "VBoxView",
            "_dom_classes": [],
            "_model_name": "VBoxModel",
            "_view_module": "@jupyter-widgets/controls",
            "_model_module_version": "1.5.0",
            "_view_count": null,
            "_view_module_version": "1.5.0",
            "box_style": "",
            "layout": "IPY_MODEL_1b0fb280fb4247c9942c0096b3e9731d",
            "_model_module": "@jupyter-widgets/controls",
            "children": [
              "IPY_MODEL_8815e9c8abee48e2914d7454f8d3c533",
              "IPY_MODEL_36f43f2fc4e8492db9c512388fcc74ed"
            ]
          }
        },
        "1b0fb280fb4247c9942c0096b3e9731d": {
          "model_module": "@jupyter-widgets/base",
          "model_name": "LayoutModel",
          "model_module_version": "1.2.0",
          "state": {
            "_view_name": "LayoutView",
            "grid_template_rows": null,
            "right": null,
            "justify_content": null,
            "_view_module": "@jupyter-widgets/base",
            "overflow": null,
            "_model_module_version": "1.2.0",
            "_view_count": null,
            "flex_flow": null,
            "width": null,
            "min_width": null,
            "border": null,
            "align_items": null,
            "bottom": null,
            "_model_module": "@jupyter-widgets/base",
            "top": null,
            "grid_column": null,
            "overflow_y": null,
            "overflow_x": null,
            "grid_auto_flow": null,
            "grid_area": null,
            "grid_template_columns": null,
            "flex": null,
            "_model_name": "LayoutModel",
            "justify_items": null,
            "grid_row": null,
            "max_height": null,
            "align_content": null,
            "visibility": null,
            "align_self": null,
            "height": null,
            "min_height": null,
            "padding": null,
            "grid_auto_rows": null,
            "grid_gap": null,
            "max_width": null,
            "order": null,
            "_view_module_version": "1.2.0",
            "grid_template_areas": null,
            "object_position": null,
            "object_fit": null,
            "grid_auto_columns": null,
            "margin": null,
            "display": null,
            "left": null
          }
        },
        "8815e9c8abee48e2914d7454f8d3c533": {
          "model_module": "@jupyter-widgets/controls",
          "model_name": "LabelModel",
          "model_module_version": "1.5.0",
          "state": {
            "_view_name": "LabelView",
            "style": "IPY_MODEL_680e732af1fc4316a278fbd09e931bce",
            "_dom_classes": [],
            "description": "",
            "_model_name": "LabelModel",
            "placeholder": "​",
            "_view_module": "@jupyter-widgets/controls",
            "_model_module_version": "1.5.0",
            "value": " 0.45MB of 0.45MB uploaded (0.00MB deduped)\r",
            "_view_count": null,
            "_view_module_version": "1.5.0",
            "description_tooltip": null,
            "_model_module": "@jupyter-widgets/controls",
            "layout": "IPY_MODEL_cba7420a806d41f3a80648b54b90cee9"
          }
        },
        "36f43f2fc4e8492db9c512388fcc74ed": {
          "model_module": "@jupyter-widgets/controls",
          "model_name": "FloatProgressModel",
          "model_module_version": "1.5.0",
          "state": {
            "_view_name": "ProgressView",
            "style": "IPY_MODEL_38687a199fe7457a94953721bc27b547",
            "_dom_classes": [],
            "description": "",
            "_model_name": "FloatProgressModel",
            "bar_style": "",
            "max": 1,
            "_view_module": "@jupyter-widgets/controls",
            "_model_module_version": "1.5.0",
            "value": 1,
            "_view_count": null,
            "_view_module_version": "1.5.0",
            "orientation": "horizontal",
            "min": 0,
            "description_tooltip": null,
            "_model_module": "@jupyter-widgets/controls",
            "layout": "IPY_MODEL_73a41561718c41508e3b9d8c074159af"
          }
        },
        "680e732af1fc4316a278fbd09e931bce": {
          "model_module": "@jupyter-widgets/controls",
          "model_name": "DescriptionStyleModel",
          "model_module_version": "1.5.0",
          "state": {
            "_view_name": "StyleView",
            "_model_name": "DescriptionStyleModel",
            "description_width": "",
            "_view_module": "@jupyter-widgets/base",
            "_model_module_version": "1.5.0",
            "_view_count": null,
            "_view_module_version": "1.2.0",
            "_model_module": "@jupyter-widgets/controls"
          }
        },
        "cba7420a806d41f3a80648b54b90cee9": {
          "model_module": "@jupyter-widgets/base",
          "model_name": "LayoutModel",
          "model_module_version": "1.2.0",
          "state": {
            "_view_name": "LayoutView",
            "grid_template_rows": null,
            "right": null,
            "justify_content": null,
            "_view_module": "@jupyter-widgets/base",
            "overflow": null,
            "_model_module_version": "1.2.0",
            "_view_count": null,
            "flex_flow": null,
            "width": null,
            "min_width": null,
            "border": null,
            "align_items": null,
            "bottom": null,
            "_model_module": "@jupyter-widgets/base",
            "top": null,
            "grid_column": null,
            "overflow_y": null,
            "overflow_x": null,
            "grid_auto_flow": null,
            "grid_area": null,
            "grid_template_columns": null,
            "flex": null,
            "_model_name": "LayoutModel",
            "justify_items": null,
            "grid_row": null,
            "max_height": null,
            "align_content": null,
            "visibility": null,
            "align_self": null,
            "height": null,
            "min_height": null,
            "padding": null,
            "grid_auto_rows": null,
            "grid_gap": null,
            "max_width": null,
            "order": null,
            "_view_module_version": "1.2.0",
            "grid_template_areas": null,
            "object_position": null,
            "object_fit": null,
            "grid_auto_columns": null,
            "margin": null,
            "display": null,
            "left": null
          }
        },
        "38687a199fe7457a94953721bc27b547": {
          "model_module": "@jupyter-widgets/controls",
          "model_name": "ProgressStyleModel",
          "model_module_version": "1.5.0",
          "state": {
            "_view_name": "StyleView",
            "_model_name": "ProgressStyleModel",
            "description_width": "",
            "_view_module": "@jupyter-widgets/base",
            "_model_module_version": "1.5.0",
            "_view_count": null,
            "_view_module_version": "1.2.0",
            "bar_color": null,
            "_model_module": "@jupyter-widgets/controls"
          }
        },
        "73a41561718c41508e3b9d8c074159af": {
          "model_module": "@jupyter-widgets/base",
          "model_name": "LayoutModel",
          "model_module_version": "1.2.0",
          "state": {
            "_view_name": "LayoutView",
            "grid_template_rows": null,
            "right": null,
            "justify_content": null,
            "_view_module": "@jupyter-widgets/base",
            "overflow": null,
            "_model_module_version": "1.2.0",
            "_view_count": null,
            "flex_flow": null,
            "width": null,
            "min_width": null,
            "border": null,
            "align_items": null,
            "bottom": null,
            "_model_module": "@jupyter-widgets/base",
            "top": null,
            "grid_column": null,
            "overflow_y": null,
            "overflow_x": null,
            "grid_auto_flow": null,
            "grid_area": null,
            "grid_template_columns": null,
            "flex": null,
            "_model_name": "LayoutModel",
            "justify_items": null,
            "grid_row": null,
            "max_height": null,
            "align_content": null,
            "visibility": null,
            "align_self": null,
            "height": null,
            "min_height": null,
            "padding": null,
            "grid_auto_rows": null,
            "grid_gap": null,
            "max_width": null,
            "order": null,
            "_view_module_version": "1.2.0",
            "grid_template_areas": null,
            "object_position": null,
            "object_fit": null,
            "grid_auto_columns": null,
            "margin": null,
            "display": null,
            "left": null
          }
        }
      }
    }
  },
  "cells": [
    {
      "cell_type": "markdown",
      "metadata": {
        "id": "8BgNEXCMTHMT"
      },
      "source": [
        "# Modelling"
      ]
    },
    {
      "cell_type": "code",
      "metadata": {
        "colab": {
          "base_uri": "https://localhost:8080/"
        },
        "id": "85bAewTUT4MY",
        "outputId": "b88fe9ab-81f1-4f11-8743-de96aab82c7c"
      },
      "source": [
        "!pip install wandb"
      ],
      "execution_count": null,
      "outputs": [
        {
          "output_type": "stream",
          "text": [
            "Requirement already satisfied: wandb in /usr/local/lib/python3.7/dist-packages (0.12.0)\n",
            "Requirement already satisfied: shortuuid>=0.5.0 in /usr/local/lib/python3.7/dist-packages (from wandb) (1.0.1)\n",
            "Requirement already satisfied: docker-pycreds>=0.4.0 in /usr/local/lib/python3.7/dist-packages (from wandb) (0.4.0)\n",
            "Requirement already satisfied: PyYAML in /usr/local/lib/python3.7/dist-packages (from wandb) (5.4.1)\n",
            "Requirement already satisfied: pathtools in /usr/local/lib/python3.7/dist-packages (from wandb) (0.1.2)\n",
            "Requirement already satisfied: Click!=8.0.0,>=7.0 in /usr/local/lib/python3.7/dist-packages (from wandb) (7.1.2)\n",
            "Requirement already satisfied: requests<3,>=2.0.0 in /usr/local/lib/python3.7/dist-packages (from wandb) (2.23.0)\n",
            "Requirement already satisfied: python-dateutil>=2.6.1 in /usr/local/lib/python3.7/dist-packages (from wandb) (2.8.2)\n",
            "Requirement already satisfied: promise<3,>=2.0 in /usr/local/lib/python3.7/dist-packages (from wandb) (2.3)\n",
            "Requirement already satisfied: six>=1.13.0 in /usr/local/lib/python3.7/dist-packages (from wandb) (1.15.0)\n",
            "Requirement already satisfied: psutil>=5.0.0 in /usr/local/lib/python3.7/dist-packages (from wandb) (5.4.8)\n",
            "Requirement already satisfied: sentry-sdk>=1.0.0 in /usr/local/lib/python3.7/dist-packages (from wandb) (1.3.1)\n",
            "Requirement already satisfied: configparser>=3.8.1 in /usr/local/lib/python3.7/dist-packages (from wandb) (5.0.2)\n",
            "Requirement already satisfied: GitPython>=1.0.0 in /usr/local/lib/python3.7/dist-packages (from wandb) (3.1.18)\n",
            "Requirement already satisfied: protobuf>=3.12.0 in /usr/local/lib/python3.7/dist-packages (from wandb) (3.17.3)\n",
            "Requirement already satisfied: subprocess32>=3.5.3 in /usr/local/lib/python3.7/dist-packages (from wandb) (3.5.4)\n",
            "Requirement already satisfied: gitdb<5,>=4.0.1 in /usr/local/lib/python3.7/dist-packages (from GitPython>=1.0.0->wandb) (4.0.7)\n",
            "Requirement already satisfied: typing-extensions>=3.7.4.0 in /usr/local/lib/python3.7/dist-packages (from GitPython>=1.0.0->wandb) (3.7.4.3)\n",
            "Requirement already satisfied: smmap<5,>=3.0.1 in /usr/local/lib/python3.7/dist-packages (from gitdb<5,>=4.0.1->GitPython>=1.0.0->wandb) (4.0.0)\n",
            "Requirement already satisfied: certifi>=2017.4.17 in /usr/local/lib/python3.7/dist-packages (from requests<3,>=2.0.0->wandb) (2021.5.30)\n",
            "Requirement already satisfied: urllib3!=1.25.0,!=1.25.1,<1.26,>=1.21.1 in /usr/local/lib/python3.7/dist-packages (from requests<3,>=2.0.0->wandb) (1.24.3)\n",
            "Requirement already satisfied: chardet<4,>=3.0.2 in /usr/local/lib/python3.7/dist-packages (from requests<3,>=2.0.0->wandb) (3.0.4)\n",
            "Requirement already satisfied: idna<3,>=2.5 in /usr/local/lib/python3.7/dist-packages (from requests<3,>=2.0.0->wandb) (2.10)\n"
          ],
          "name": "stdout"
        }
      ]
    },
    {
      "cell_type": "code",
      "metadata": {
        "id": "-hkCbanvO8dq"
      },
      "source": [
        "from tensorflow.keras.callbacks import Callback\n",
        "from wandb.keras import WandbCallback"
      ],
      "execution_count": null,
      "outputs": []
    },
    {
      "cell_type": "code",
      "metadata": {
        "id": "T48hRTtqPxGf"
      },
      "source": [
        "import pandas as pd\n",
        "df=pd.read_csv('modeling_data.csv')"
      ],
      "execution_count": null,
      "outputs": []
    },
    {
      "cell_type": "markdown",
      "metadata": {
        "id": "PonZsuT8zlFv"
      },
      "source": [
        "#### Dealing with the class imbalance"
      ]
    },
    {
      "cell_type": "code",
      "metadata": {
        "colab": {
          "base_uri": "https://localhost:8080/"
        },
        "id": "slxORJQrzhNk",
        "outputId": "eadebfe6-8456-4f18-f08e-30a22f4e9fb7"
      },
      "source": [
        "#We will use up-sampling to solve the clase imbalance\n",
        "#Up-sampling is the process of randomly duplicating observations from the minority class in order to reinforce its signal\n",
        "\n",
        "from sklearn.utils import resample\n",
        "\n",
        "# Separate majority and minority classes\n",
        "df_majority = df[df['class']==1]\n",
        "df_minority = df[df['class']==0]\n",
        " \n",
        "# Upsample minority class\n",
        "df_minority_upsampled = resample(df_minority, \n",
        "                                 replace=True,     # sample with replacement\n",
        "                                 n_samples=130,    # to match majority class\n",
        "                                 random_state=0) # reproducible results\n",
        " \n",
        "# Combine majority class with upsampled minority class\n",
        "df_upsampled = pd.concat([df_majority, df_minority_upsampled])\n",
        " \n",
        "# Display new class counts\n",
        "df_upsampled['class'].value_counts()"
      ],
      "execution_count": null,
      "outputs": [
        {
          "output_type": "execute_result",
          "data": {
            "text/plain": [
              "0    130\n",
              "1    115\n",
              "Name: class, dtype: int64"
            ]
          },
          "metadata": {},
          "execution_count": 4
        }
      ]
    },
    {
      "cell_type": "code",
      "metadata": {
        "colab": {
          "base_uri": "https://localhost:8080/"
        },
        "id": "fVAxhgPLU76k",
        "outputId": "447d6b82-2fbf-4f7f-e90b-3d7d117feca5"
      },
      "source": [
        "import wandb\n",
        "wandb.login()"
      ],
      "execution_count": null,
      "outputs": [
        {
          "output_type": "stream",
          "text": [
            "\u001b[34m\u001b[1mwandb\u001b[0m: Currently logged in as: \u001b[33mjack-analyst\u001b[0m (use `wandb login --relogin` to force relogin)\n"
          ],
          "name": "stderr"
        },
        {
          "output_type": "execute_result",
          "data": {
            "text/plain": [
              "True"
            ]
          },
          "metadata": {},
          "execution_count": 5
        }
      ]
    },
    {
      "cell_type": "code",
      "metadata": {
        "id": "v41cNt52U5Y2"
      },
      "source": [
        "#config\n",
        "config = wandb.config"
      ],
      "execution_count": null,
      "outputs": []
    },
    {
      "cell_type": "markdown",
      "metadata": {
        "id": "ls1LvYSDfrz2"
      },
      "source": [
        "## **Random Forest**"
      ]
    },
    {
      "cell_type": "code",
      "metadata": {
        "id": "nrHGxCnBL6na"
      },
      "source": [
        "#Importing libraries\n",
        "import pandas as pd\n",
        "import numpy as np\n",
        "#for metrics\n",
        "from sklearn.model_selection import train_test_split\n",
        "from sklearn.metrics import accuracy_score, confusion_matrix, classification_report, f1_score\n",
        "import tensorflow as tf\n",
        "from tensorflow.keras.preprocessing.text import Tokenizer\n",
        "from tensorflow.keras.preprocessing.sequence import pad_sequences\n",
        "from tensorflow.keras.models import Sequential\n",
        "from tensorflow.keras.layers import LSTM,Dense, Dropout, SpatialDropout1D\n",
        "from tensorflow.keras.layers import Embedding\n",
        "df_clean = pd.read_csv('/content/modeling_data.csv')"
      ],
      "execution_count": null,
      "outputs": []
    },
    {
      "cell_type": "code",
      "metadata": {
        "id": "MRlfvVoss9Iu"
      },
      "source": [
        "# Separating the target from our data\n",
        "ft = (df_clean.drop(['class'],axis=1)).columns\n",
        "X = df_clean['clean_tweet'].values\n",
        "y = df_clean['class'].values\n",
        "\n",
        "#  Split the data into train and test set\n",
        "X_train, X_test, y_train, y_test = train_test_split(X, y, test_size = 0.2, random_state = 0)"
      ],
      "execution_count": null,
      "outputs": []
    },
    {
      "cell_type": "code",
      "metadata": {
        "id": "HWOCUVoXzd4C"
      },
      "source": [
        "# set a vocabulary size. This is the maximum number of words that can be used.\n",
        "vocabulary_size = 10000\n",
        "\n",
        "# create the tokenizer that comes with Keras.\n",
        "tokenizer = Tokenizer(num_words=vocabulary_size)\n",
        "tokenizer.fit_on_texts(X_train)\n",
        "\n",
        "# convert the texts to sequences.\n",
        "X_train_seq = tokenizer.texts_to_sequences(X_train)\n",
        "X_val_seq = tokenizer.texts_to_sequences(X_test)\n",
        "\n",
        "max_words = 5000\n",
        "max_len = 200\n",
        "\n",
        "X_train_seq_padded = pad_sequences(X_train_seq, maxlen=200)\n",
        "X_val_seq_padded  = pad_sequences(X_val_seq, maxlen=200)"
      ],
      "execution_count": null,
      "outputs": []
    },
    {
      "cell_type": "code",
      "metadata": {
        "colab": {
          "base_uri": "https://localhost:8080/"
        },
        "id": "LE7MEBs3s-1Q",
        "outputId": "1f6a092c-bc22-4b27-c628-c8bde703ecd4"
      },
      "source": [
        "#instantiate the model \n",
        "from sklearn import metrics\n",
        "from sklearn.ensemble import RandomForestClassifier\n",
        "from sklearn.metrics import mean_absolute_error,mean_squared_error, accuracy_score, classification_report, f1_score,r2_score\n",
        "\n",
        "forest = RandomForestClassifier(random_state=0)\n",
        "\n",
        "# Train it on our training set.\n",
        "forest.fit(X_train_seq_padded , y_train)\n",
        "\n",
        "# Predict based on the model we've trained\n",
        "y_pred_ftrain = forest.predict(X_train_seq_padded)\n",
        "y_pred = forest.predict(X_val_seq_padded)\n",
        "\n",
        "\n",
        "print(\"Accuracy Score test: \",accuracy_score(y_test, y_pred))\n",
        "print('R-squared test:',r2_score(y_test, y_pred))  \n",
        "print('Mean Squared Error test:', mean_squared_error(y_test, y_pred))\n",
        "print('\\n')\n",
        "print(classification_report(y_test,y_pred))\n"
      ],
      "execution_count": null,
      "outputs": [
        {
          "output_type": "stream",
          "text": [
            "Accuracy Score test:  0.8571428571428571\n",
            "R-squared test: 0.02608695652173887\n",
            "Mean Squared Error test: 0.14285714285714285\n",
            "\n",
            "\n",
            "              precision    recall  f1-score   support\n",
            "\n",
            "           0       1.00      0.20      0.33         5\n",
            "           1       0.85      1.00      0.92        23\n",
            "\n",
            "    accuracy                           0.86        28\n",
            "   macro avg       0.93      0.60      0.63        28\n",
            "weighted avg       0.88      0.86      0.82        28\n",
            "\n"
          ],
          "name": "stdout"
        }
      ]
    },
    {
      "cell_type": "markdown",
      "metadata": {
        "id": "ofzLAfdmRCdy"
      },
      "source": [
        "## **KNN**"
      ]
    },
    {
      "cell_type": "code",
      "metadata": {
        "id": "Fm1bb9jjXpbX"
      },
      "source": [
        "#we are going to use k of 5\n",
        "from sklearn.neighbors import KNeighborsClassifier\n",
        "cl=KNeighborsClassifier(n_neighbors=5)\n",
        "cl.fit(X_train_seq_padded,y_train)\n",
        "#we will predict our model\n",
        "y_pred =cl.predict(X_val_seq_padded)"
      ],
      "execution_count": null,
      "outputs": []
    },
    {
      "cell_type": "code",
      "metadata": {
        "colab": {
          "base_uri": "https://localhost:8080/"
        },
        "id": "N7nTt2EtX-Nk",
        "outputId": "bbbc7e54-e15e-418e-986b-33e51305d124"
      },
      "source": [
        "#checking metrics for accuracy\n",
        "from sklearn.metrics import classification_report, confusion_matrix\n",
        "print(confusion_matrix(y_test, y_pred))\n",
        "print(classification_report(y_test, y_pred))"
      ],
      "execution_count": null,
      "outputs": [
        {
          "output_type": "stream",
          "text": [
            "[[ 1  4]\n",
            " [ 2 21]]\n",
            "              precision    recall  f1-score   support\n",
            "\n",
            "           0       0.33      0.20      0.25         5\n",
            "           1       0.84      0.91      0.87        23\n",
            "\n",
            "    accuracy                           0.79        28\n",
            "   macro avg       0.59      0.56      0.56        28\n",
            "weighted avg       0.75      0.79      0.76        28\n",
            "\n"
          ],
          "name": "stdout"
        }
      ]
    },
    {
      "cell_type": "code",
      "metadata": {
        "colab": {
          "base_uri": "https://localhost:8080/"
        },
        "id": "Qm_HJTskYCOP",
        "outputId": "353c7e07-fb55-4f18-e165-125131594278"
      },
      "source": [
        "#we will tune our parameter using gridsearch\n",
        "from sklearn.model_selection import GridSearchCV\n",
        "from sklearn import neighbors\n",
        "params = {'n_neighbors':[2,3,4,5,6,7,8,9]}\n",
        "\n",
        "knn = neighbors.KNeighborsClassifier()\n",
        "\n",
        "cl_g = GridSearchCV(knn, params, cv=5)\n",
        "cl_g.fit(X_train_seq_padded,y_train)\n",
        "cl_g.best_params_\n",
        "#the best parameter for our model is 9"
      ],
      "execution_count": null,
      "outputs": [
        {
          "output_type": "execute_result",
          "data": {
            "text/plain": [
              "{'n_neighbors': 9}"
            ]
          },
          "metadata": {},
          "execution_count": 13
        }
      ]
    },
    {
      "cell_type": "code",
      "metadata": {
        "colab": {
          "base_uri": "https://localhost:8080/"
        },
        "id": "1b3qG-E8d8cg",
        "outputId": "3dbfa8f2-e7e6-41b0-b302-37143c166995"
      },
      "source": [
        "knn"
      ],
      "execution_count": null,
      "outputs": [
        {
          "output_type": "execute_result",
          "data": {
            "text/plain": [
              "KNeighborsClassifier(algorithm='auto', leaf_size=30, metric='minkowski',\n",
              "                     metric_params=None, n_jobs=None, n_neighbors=5, p=2,\n",
              "                     weights='uniform')"
            ]
          },
          "metadata": {},
          "execution_count": 14
        }
      ]
    },
    {
      "cell_type": "code",
      "metadata": {
        "id": "7U5Re4P2YFWU"
      },
      "source": [
        "#training our model using k as 9\n",
        "\n",
        "from sklearn.neighbors import KNeighborsClassifier\n",
        "cl_gs=KNeighborsClassifier(n_neighbors=9)\n",
        "cl_gs.fit(X_train_seq_padded,y_train)\n",
        "\n",
        "#predicting our model\n",
        "y_pred_gs=cl_gs.predict(X_val_seq_padded)"
      ],
      "execution_count": null,
      "outputs": []
    },
    {
      "cell_type": "code",
      "metadata": {
        "colab": {
          "base_uri": "https://localhost:8080/"
        },
        "id": "fxCEuzwiYIL2",
        "outputId": "d0f8017b-a4d4-4811-e418-e9823378ff22"
      },
      "source": [
        "#checking metrics for our models accuracy\n",
        "from sklearn.metrics import classification_report, confusion_matrix\n",
        "print(confusion_matrix(y_test, y_pred_gs))\n",
        "print(classification_report(y_test, y_pred_gs))"
      ],
      "execution_count": null,
      "outputs": [
        {
          "output_type": "stream",
          "text": [
            "[[ 0  5]\n",
            " [ 1 22]]\n",
            "              precision    recall  f1-score   support\n",
            "\n",
            "           0       0.00      0.00      0.00         5\n",
            "           1       0.81      0.96      0.88        23\n",
            "\n",
            "    accuracy                           0.79        28\n",
            "   macro avg       0.41      0.48      0.44        28\n",
            "weighted avg       0.67      0.79      0.72        28\n",
            "\n"
          ],
          "name": "stdout"
        }
      ]
    },
    {
      "cell_type": "markdown",
      "metadata": {
        "id": "bBhmTWyEkutR"
      },
      "source": [
        "## **Gradient Boost Classifier**"
      ]
    },
    {
      "cell_type": "code",
      "metadata": {
        "id": "yjsrfavVkH40"
      },
      "source": [
        "from sklearn.ensemble import GradientBoostingClassifier\n",
        "\n",
        "\n",
        "gbr = GradientBoostingClassifier(n_estimators=200, learning_rate=0.4, max_depth=2)\n",
        "\n",
        "#training our model.\n",
        "gbr = gbr.fit(X_train_seq_padded,y_train)\n",
        "\n",
        "#predicting.\n",
        "y_pred_gbr = gbr.predict(X_val_seq_padded)"
      ],
      "execution_count": null,
      "outputs": []
    },
    {
      "cell_type": "code",
      "metadata": {
        "colab": {
          "base_uri": "https://localhost:8080/"
        },
        "id": "7RsEtEQQk7u9",
        "outputId": "07f73c7d-b5d1-4326-9473-5ff5806dece0"
      },
      "source": [
        "#checking metrics for our models accuracy\n",
        "from sklearn.metrics import classification_report, confusion_matrix\n",
        "print(confusion_matrix(y_test, y_pred))\n",
        "print(classification_report(y_test, y_pred))"
      ],
      "execution_count": null,
      "outputs": [
        {
          "output_type": "stream",
          "text": [
            "[[ 1  4]\n",
            " [ 2 21]]\n",
            "              precision    recall  f1-score   support\n",
            "\n",
            "           0       0.33      0.20      0.25         5\n",
            "           1       0.84      0.91      0.87        23\n",
            "\n",
            "    accuracy                           0.79        28\n",
            "   macro avg       0.59      0.56      0.56        28\n",
            "weighted avg       0.75      0.79      0.76        28\n",
            "\n"
          ],
          "name": "stdout"
        }
      ]
    },
    {
      "cell_type": "markdown",
      "metadata": {
        "id": "eRNsZqa7i4cK"
      },
      "source": [
        "##Naive bayes"
      ]
    },
    {
      "cell_type": "code",
      "metadata": {
        "id": "WRf4jnkRi4cL"
      },
      "source": [
        "#Declaring our X and Y variables\n",
        "X = df_clean.clean_tweet.values\n",
        "y = df_clean['class'].values"
      ],
      "execution_count": null,
      "outputs": []
    },
    {
      "cell_type": "code",
      "metadata": {
        "id": "Dpb35uVti4cM"
      },
      "source": [
        "# Train Test Split \n",
        "from sklearn.model_selection import train_test_split\n",
        "X_train, X_test, y_train, y_test = train_test_split(X, y, test_size=.20, random_state=10)"
      ],
      "execution_count": null,
      "outputs": []
    },
    {
      "cell_type": "code",
      "metadata": {
        "id": "aCuzLh84i4cM"
      },
      "source": [
        "# set a vocabulary size. This is the maximum number of words that can be used.\n",
        "vocabulary_size = 10000\n",
        "\n",
        "# create the tokenizer that comes with Keras.\n",
        "tokenizer = Tokenizer(num_words=vocabulary_size)\n",
        "tokenizer.fit_on_texts(X_train)\n",
        "\n",
        "# convert the texts to sequences.\n",
        "X_train_seq = tokenizer.texts_to_sequences(X_train)\n",
        "X_val_seq = tokenizer.texts_to_sequences(X_test)"
      ],
      "execution_count": null,
      "outputs": []
    },
    {
      "cell_type": "code",
      "metadata": {
        "id": "d54s5G1ti4cN"
      },
      "source": [
        "max_words = 5000\n",
        "max_len = 5000\n",
        "\n",
        "X_train_seq_padded = pad_sequences(X_train_seq, maxlen=200)\n",
        "X_val_seq_padded  = pad_sequences(X_val_seq, maxlen=200)"
      ],
      "execution_count": null,
      "outputs": []
    },
    {
      "cell_type": "code",
      "metadata": {
        "colab": {
          "base_uri": "https://localhost:8080/"
        },
        "id": "LZIbVEksi4cN",
        "outputId": "25dfb47f-8331-45d2-83a6-aa6ee9f28a50"
      },
      "source": [
        "# Training the Model\n",
        "# We will start by splitting our data into training and test sets\n",
        "\n",
        "X_train, X_test, y_train, y_test = train_test_split(X, y, test_size=0.2, random_state=0)\n",
        "\n",
        "# Fitting our model \n",
        "# Then, all that we have to do is initialize the Naive Bayes Classifier and fit the data. \n",
        "# For text classification problems, the Multinomial Naive Bayes Classifier is well-suited\n",
        "# \n",
        "from sklearn.naive_bayes import MultinomialNB\n",
        "\n",
        "model = MultinomialNB().fit(X_train_seq_padded, y_train)\n",
        "\n",
        "# Evaluating the Model\n",
        "# Once we have put together our classifier, we can evaluate its performance in the testing set\n",
        "# \n",
        "predicted = model.predict(X_val_seq_padded)\n",
        "print(np.mean(predicted == y_test))\n",
        "print(confusion_matrix(y_test, predicted))\n",
        "print(classification_report(y_test, predicted))"
      ],
      "execution_count": null,
      "outputs": [
        {
          "output_type": "stream",
          "text": [
            "0.6785714285714286\n",
            "[[ 1  4]\n",
            " [ 5 18]]\n",
            "              precision    recall  f1-score   support\n",
            "\n",
            "           0       0.17      0.20      0.18         5\n",
            "           1       0.82      0.78      0.80        23\n",
            "\n",
            "    accuracy                           0.68        28\n",
            "   macro avg       0.49      0.49      0.49        28\n",
            "weighted avg       0.70      0.68      0.69        28\n",
            "\n"
          ],
          "name": "stdout"
        }
      ]
    },
    {
      "cell_type": "markdown",
      "metadata": {
        "id": "gq2XN6WEhsIC"
      },
      "source": [
        "Hyperparameter Tuning"
      ]
    },
    {
      "cell_type": "code",
      "metadata": {
        "colab": {
          "base_uri": "https://localhost:8080/"
        },
        "id": "to9yJOg7SWFO",
        "outputId": "677e704d-194a-467e-91d2-099da350e946"
      },
      "source": [
        "#Tuning hyperparameters and transforming features to a normal distribution\n",
        "from sklearn.preprocessing import PowerTransformer\n",
        "from sklearn.model_selection import GridSearchCV\n",
        "from sklearn.model_selection import RepeatedStratifiedKFold\n",
        "\n",
        "alphas = [0.1, 0.001, 0.2, 0.3, 0.4, 0.5]\n",
        "p_grid_NB = {'alpha': alphas}\n",
        "\n",
        "NB_cls= MultinomialNB()\n",
        "\n",
        "grid = GridSearchCV(estimator = NB_cls, param_grid = p_grid_NB, cv = 5)\n",
        "model = MultinomialNB().fit(X_train_seq_padded, y_train)\n",
        "grid.fit(X_train_seq_padded, y_train)\n",
        "grid.best_params_"
      ],
      "execution_count": null,
      "outputs": [
        {
          "output_type": "execute_result",
          "data": {
            "text/plain": [
              "{'alpha': 0.1}"
            ]
          },
          "metadata": {},
          "execution_count": 24
        }
      ]
    },
    {
      "cell_type": "code",
      "metadata": {
        "colab": {
          "base_uri": "https://localhost:8080/"
        },
        "id": "EqLXL8bahiYa",
        "outputId": "8a61dd5d-b87f-4f8a-800e-c2d021a92835"
      },
      "source": [
        "y_true, y_pred = y_test , model.predict(X_val_seq_padded)\n",
        "\n",
        "from sklearn.metrics import classification_report\n",
        "print('Results on the test set:')\n",
        "print(classification_report(y_true, y_pred))"
      ],
      "execution_count": null,
      "outputs": [
        {
          "output_type": "stream",
          "text": [
            "Results on the test set:\n",
            "              precision    recall  f1-score   support\n",
            "\n",
            "           0       0.17      0.20      0.18         5\n",
            "           1       0.82      0.78      0.80        23\n",
            "\n",
            "    accuracy                           0.68        28\n",
            "   macro avg       0.49      0.49      0.49        28\n",
            "weighted avg       0.70      0.68      0.69        28\n",
            "\n"
          ],
          "name": "stdout"
        }
      ]
    },
    {
      "cell_type": "markdown",
      "metadata": {
        "id": "IC-U_W9IjHgi"
      },
      "source": [
        "**Trying Gaussian Naive Bayes**"
      ]
    },
    {
      "cell_type": "code",
      "metadata": {
        "colab": {
          "base_uri": "https://localhost:8080/"
        },
        "id": "7sAKOd1ujGZK",
        "outputId": "5aecd82d-5e6c-44de-8eea-2decd10cc656"
      },
      "source": [
        "#  Training our model and printing out metrics\n",
        " \n",
        "from sklearn.naive_bayes import GaussianNB\n",
        "clf = GaussianNB()  \n",
        "model = clf.fit(X_train_seq_padded, y_train) \n",
        "predicted = model.predict(X_val_seq_padded)\n",
        "print(np.mean(predicted == y_test))\n",
        "print(confusion_matrix(y_test, predicted))\n",
        "print(classification_report(y_test, predicted))"
      ],
      "execution_count": null,
      "outputs": [
        {
          "output_type": "stream",
          "text": [
            "0.17857142857142858\n",
            "[[ 5  0]\n",
            " [23  0]]\n",
            "              precision    recall  f1-score   support\n",
            "\n",
            "           0       0.18      1.00      0.30         5\n",
            "           1       0.00      0.00      0.00        23\n",
            "\n",
            "    accuracy                           0.18        28\n",
            "   macro avg       0.09      0.50      0.15        28\n",
            "weighted avg       0.03      0.18      0.05        28\n",
            "\n"
          ],
          "name": "stdout"
        },
        {
          "output_type": "stream",
          "text": [
            "/usr/local/lib/python3.7/dist-packages/sklearn/metrics/_classification.py:1272: UndefinedMetricWarning: Precision and F-score are ill-defined and being set to 0.0 in labels with no predicted samples. Use `zero_division` parameter to control this behavior.\n",
            "  _warn_prf(average, modifier, msg_start, len(result))\n"
          ],
          "name": "stderr"
        }
      ]
    },
    {
      "cell_type": "markdown",
      "metadata": {
        "id": "A83qfpQoiBdM"
      },
      "source": [
        "##Neural Networks MLP"
      ]
    },
    {
      "cell_type": "code",
      "metadata": {
        "id": "Py5OXkOi10RS"
      },
      "source": [
        "import pandas as pd\n",
        "import numpy as np\n",
        "#for metrics\n",
        "from sklearn.metrics import accuracy_score, confusion_matrix, classification_report, f1_score\n",
        "import tensorflow as tf\n",
        "from tensorflow.keras.preprocessing.text import Tokenizer\n",
        "from tensorflow.keras.preprocessing.sequence import pad_sequences\n",
        "from tensorflow.keras.models import Sequential\n",
        "from tensorflow.keras.layers import LSTM,Dense, Dropout, SpatialDropout1D\n",
        "from tensorflow.keras.layers import Embedding\n",
        "\n",
        "from sklearn.neural_network import MLPClassifier\n",
        "\n",
        "from sklearn.metrics import classification_report,confusion_matrix"
      ],
      "execution_count": null,
      "outputs": []
    },
    {
      "cell_type": "code",
      "metadata": {
        "id": "VInc5rW8vnRx"
      },
      "source": [
        "df_clean = pd.read_csv('/content/modeling_data.csv')"
      ],
      "execution_count": null,
      "outputs": []
    },
    {
      "cell_type": "code",
      "metadata": {
        "id": "BeWjfPAlirsa"
      },
      "source": [
        "#Declaring our X and Y variables\n",
        "X = df_clean.clean_tweet.values\n",
        "y = df_clean['class'].values"
      ],
      "execution_count": null,
      "outputs": []
    },
    {
      "cell_type": "code",
      "metadata": {
        "id": "dn6nPGKoirsb"
      },
      "source": [
        "# Train Test Split \n",
        "from sklearn.model_selection import train_test_split\n",
        "X_train, X_test, y_train, y_test = train_test_split(X, y, test_size=.20, random_state=10)"
      ],
      "execution_count": null,
      "outputs": []
    },
    {
      "cell_type": "code",
      "metadata": {
        "id": "NlpsCNBPirsb"
      },
      "source": [
        "# set a vocabulary size. This is the maximum number of words that can be used.\n",
        "vocabulary_size = 10000\n",
        "\n",
        "# create the tokenizer that comes with Keras.\n",
        "tokenizer = Tokenizer(num_words=vocabulary_size)\n",
        "tokenizer.fit_on_texts(X_train)\n",
        "\n",
        "# convert the texts to sequences.\n",
        "X_train_seq = tokenizer.texts_to_sequences(X_train)\n",
        "X_val_seq = tokenizer.texts_to_sequences(X_test)"
      ],
      "execution_count": null,
      "outputs": []
    },
    {
      "cell_type": "code",
      "metadata": {
        "id": "-y6IEQ5kirsc"
      },
      "source": [
        "max_words = 5000\n",
        "max_len = 5000\n",
        "\n",
        "X_train_seq_padded = pad_sequences(X_train_seq, maxlen=200)\n",
        "X_val_seq_padded  = pad_sequences(X_val_seq, maxlen=200)"
      ],
      "execution_count": null,
      "outputs": []
    },
    {
      "cell_type": "code",
      "metadata": {
        "colab": {
          "base_uri": "https://localhost:8080/"
        },
        "id": "dx9ModdYirsc",
        "outputId": "889e32a3-0854-4970-dbbe-29e9b02d54b5"
      },
      "source": [
        "#creating an instamce ofthe model\n",
        "mlp = MLPClassifier(hidden_layer_sizes = (13, 13,13), max_iter = 500)\n",
        "\n",
        "# fitting the data\n",
        "mlp.fit(X_train_seq_padded,y_train)"
      ],
      "execution_count": null,
      "outputs": [
        {
          "output_type": "stream",
          "text": [
            "/usr/local/lib/python3.7/dist-packages/sklearn/neural_network/_multilayer_perceptron.py:571: ConvergenceWarning: Stochastic Optimizer: Maximum iterations (500) reached and the optimization hasn't converged yet.\n",
            "  % self.max_iter, ConvergenceWarning)\n"
          ],
          "name": "stderr"
        },
        {
          "output_type": "execute_result",
          "data": {
            "text/plain": [
              "MLPClassifier(activation='relu', alpha=0.0001, batch_size='auto', beta_1=0.9,\n",
              "              beta_2=0.999, early_stopping=False, epsilon=1e-08,\n",
              "              hidden_layer_sizes=(13, 13, 13), learning_rate='constant',\n",
              "              learning_rate_init=0.001, max_fun=15000, max_iter=500,\n",
              "              momentum=0.9, n_iter_no_change=10, nesterovs_momentum=True,\n",
              "              power_t=0.5, random_state=None, shuffle=True, solver='adam',\n",
              "              tol=0.0001, validation_fraction=0.1, verbose=False,\n",
              "              warm_start=False)"
            ]
          },
          "metadata": {},
          "execution_count": 33
        }
      ]
    },
    {
      "cell_type": "code",
      "metadata": {
        "colab": {
          "base_uri": "https://localhost:8080/"
        },
        "id": "he3JNQ4Birsc",
        "outputId": "85c469e9-9d67-4b87-fa21-60fd9396d46f"
      },
      "source": [
        "# Now that we have our model in place, let's do the prediction\n",
        "from sklearn import metrics\n",
        "pred = mlp.predict(X_val_seq_padded)\n",
        "\n",
        "mlp_nn = metrics.accuracy_score(pred,y_test)*100\n",
        "\n",
        "# Evaluating the performance of ur model\n",
        "\n",
        "print('The accuracy of the model is ',metrics.accuracy_score(y_test, pred))\n",
        "\n",
        "print (confusion_matrix(y_test,pred))\n",
        "\n",
        "print('-----------------------------------------------')\n",
        "\n",
        "print(classification_report(y_test,pred))"
      ],
      "execution_count": null,
      "outputs": [
        {
          "output_type": "stream",
          "text": [
            "The accuracy of the model is  0.6428571428571429\n",
            "[[ 1  4]\n",
            " [ 6 17]]\n",
            "-----------------------------------------------\n",
            "              precision    recall  f1-score   support\n",
            "\n",
            "           0       0.14      0.20      0.17         5\n",
            "           1       0.81      0.74      0.77        23\n",
            "\n",
            "    accuracy                           0.64        28\n",
            "   macro avg       0.48      0.47      0.47        28\n",
            "weighted avg       0.69      0.64      0.66        28\n",
            "\n"
          ],
          "name": "stdout"
        }
      ]
    },
    {
      "cell_type": "code",
      "metadata": {
        "colab": {
          "base_uri": "https://localhost:8080/"
        },
        "id": "SwbEnz9Virsd",
        "outputId": "d54017f3-54c8-436a-fa19-44624544ff84"
      },
      "source": [
        "# Extracting the weights and bias vectors\n",
        "\n",
        "# Checking the number of weights \n",
        "len(mlp.coefs_) \n",
        "\n",
        "# Checking the number of biases \n",
        "len(mlp.intercepts_)"
      ],
      "execution_count": null,
      "outputs": [
        {
          "output_type": "execute_result",
          "data": {
            "text/plain": [
              "4"
            ]
          },
          "metadata": {},
          "execution_count": 35
        }
      ]
    },
    {
      "cell_type": "markdown",
      "metadata": {
        "id": "pnh6B6fIdTPc"
      },
      "source": [
        "**Hyperparameter tune for the MLP**"
      ]
    },
    {
      "cell_type": "code",
      "metadata": {
        "id": "A5jsf-TAacYB"
      },
      "source": [
        "from sklearn.neural_network import MLPClassifier\n",
        "mlp = MLPClassifier(max_iter=100)"
      ],
      "execution_count": null,
      "outputs": []
    },
    {
      "cell_type": "code",
      "metadata": {
        "id": "VU91RcDmakkN"
      },
      "source": [
        "parameter_space = {\n",
        "    'hidden_layer_sizes': [(50,50,50), (50,100,50), (100,)],\n",
        "    'activation': ['tanh', 'relu','sigmoid'],\n",
        "    'solver': ['sgd', 'adam'],\n",
        "    'alpha': [0.0001, 0.05],\n",
        "    'learning_rate': ['constant','adaptive'],\n",
        "}"
      ],
      "execution_count": null,
      "outputs": []
    },
    {
      "cell_type": "code",
      "metadata": {
        "colab": {
          "base_uri": "https://localhost:8080/"
        },
        "id": "nEwXgNY6alSs",
        "outputId": "b5a16dc4-b96b-4666-d1f1-13f103b07d41"
      },
      "source": [
        "from sklearn.model_selection import GridSearchCV\n",
        "\n",
        "clf = GridSearchCV(mlp, parameter_space, n_jobs=-1, cv=3)\n",
        "clf.fit(X_train_seq_padded, y_train)"
      ],
      "execution_count": null,
      "outputs": [
        {
          "output_type": "stream",
          "text": [
            "/usr/local/lib/python3.7/dist-packages/sklearn/neural_network/_multilayer_perceptron.py:571: ConvergenceWarning: Stochastic Optimizer: Maximum iterations (100) reached and the optimization hasn't converged yet.\n",
            "  % self.max_iter, ConvergenceWarning)\n"
          ],
          "name": "stderr"
        },
        {
          "output_type": "execute_result",
          "data": {
            "text/plain": [
              "GridSearchCV(cv=3, error_score=nan,\n",
              "             estimator=MLPClassifier(activation='relu', alpha=0.0001,\n",
              "                                     batch_size='auto', beta_1=0.9,\n",
              "                                     beta_2=0.999, early_stopping=False,\n",
              "                                     epsilon=1e-08, hidden_layer_sizes=(100,),\n",
              "                                     learning_rate='constant',\n",
              "                                     learning_rate_init=0.001, max_fun=15000,\n",
              "                                     max_iter=100, momentum=0.9,\n",
              "                                     n_iter_no_change=10,\n",
              "                                     nesterovs_momentum=True, power_t=0.5,\n",
              "                                     random_state...\n",
              "                                     validation_fraction=0.1, verbose=False,\n",
              "                                     warm_start=False),\n",
              "             iid='deprecated', n_jobs=-1,\n",
              "             param_grid={'activation': ['tanh', 'relu', 'sigmoid'],\n",
              "                         'alpha': [0.0001, 0.05],\n",
              "                         'hidden_layer_sizes': [(50, 50, 50), (50, 100, 50),\n",
              "                                                (100,)],\n",
              "                         'learning_rate': ['constant', 'adaptive'],\n",
              "                         'solver': ['sgd', 'adam']},\n",
              "             pre_dispatch='2*n_jobs', refit=True, return_train_score=False,\n",
              "             scoring=None, verbose=0)"
            ]
          },
          "metadata": {},
          "execution_count": 38
        }
      ]
    },
    {
      "cell_type": "code",
      "metadata": {
        "colab": {
          "base_uri": "https://localhost:8080/"
        },
        "id": "9haDORDxaqKy",
        "outputId": "36779d53-2b10-434a-a2bd-12763bd7b58f"
      },
      "source": [
        "# Best paramete set\n",
        "print('Best parameters found:\\n', clf.best_params_)\n",
        "\n",
        "# All results\n",
        "means = clf.cv_results_['mean_test_score']\n",
        "stds = clf.cv_results_['std_test_score']\n",
        "for mean, std, params in zip(means, stds, clf.cv_results_['params']):\n",
        "    print(\"%0.3f (+/-%0.03f) for %r\" % (mean, std * 2, params))"
      ],
      "execution_count": null,
      "outputs": [
        {
          "output_type": "stream",
          "text": [
            "Best parameters found:\n",
            " {'activation': 'tanh', 'alpha': 0.05, 'hidden_layer_sizes': (100,), 'learning_rate': 'constant', 'solver': 'adam'}\n",
            "0.837 (+/-0.041) for {'activation': 'tanh', 'alpha': 0.0001, 'hidden_layer_sizes': (50, 50, 50), 'learning_rate': 'constant', 'solver': 'sgd'}\n",
            "0.773 (+/-0.054) for {'activation': 'tanh', 'alpha': 0.0001, 'hidden_layer_sizes': (50, 50, 50), 'learning_rate': 'constant', 'solver': 'adam'}\n",
            "0.836 (+/-0.004) for {'activation': 'tanh', 'alpha': 0.0001, 'hidden_layer_sizes': (50, 50, 50), 'learning_rate': 'adaptive', 'solver': 'sgd'}\n",
            "0.727 (+/-0.045) for {'activation': 'tanh', 'alpha': 0.0001, 'hidden_layer_sizes': (50, 50, 50), 'learning_rate': 'adaptive', 'solver': 'adam'}\n",
            "0.827 (+/-0.054) for {'activation': 'tanh', 'alpha': 0.0001, 'hidden_layer_sizes': (50, 100, 50), 'learning_rate': 'constant', 'solver': 'sgd'}\n",
            "0.791 (+/-0.091) for {'activation': 'tanh', 'alpha': 0.0001, 'hidden_layer_sizes': (50, 100, 50), 'learning_rate': 'constant', 'solver': 'adam'}\n",
            "0.818 (+/-0.028) for {'activation': 'tanh', 'alpha': 0.0001, 'hidden_layer_sizes': (50, 100, 50), 'learning_rate': 'adaptive', 'solver': 'sgd'}\n",
            "0.772 (+/-0.074) for {'activation': 'tanh', 'alpha': 0.0001, 'hidden_layer_sizes': (50, 100, 50), 'learning_rate': 'adaptive', 'solver': 'adam'}\n",
            "0.800 (+/-0.054) for {'activation': 'tanh', 'alpha': 0.0001, 'hidden_layer_sizes': (100,), 'learning_rate': 'constant', 'solver': 'sgd'}\n",
            "0.827 (+/-0.024) for {'activation': 'tanh', 'alpha': 0.0001, 'hidden_layer_sizes': (100,), 'learning_rate': 'constant', 'solver': 'adam'}\n",
            "0.791 (+/-0.057) for {'activation': 'tanh', 'alpha': 0.0001, 'hidden_layer_sizes': (100,), 'learning_rate': 'adaptive', 'solver': 'sgd'}\n",
            "0.854 (+/-0.030) for {'activation': 'tanh', 'alpha': 0.0001, 'hidden_layer_sizes': (100,), 'learning_rate': 'adaptive', 'solver': 'adam'}\n",
            "0.818 (+/-0.057) for {'activation': 'tanh', 'alpha': 0.05, 'hidden_layer_sizes': (50, 50, 50), 'learning_rate': 'constant', 'solver': 'sgd'}\n",
            "0.827 (+/-0.024) for {'activation': 'tanh', 'alpha': 0.05, 'hidden_layer_sizes': (50, 50, 50), 'learning_rate': 'constant', 'solver': 'adam'}\n",
            "0.846 (+/-0.022) for {'activation': 'tanh', 'alpha': 0.05, 'hidden_layer_sizes': (50, 50, 50), 'learning_rate': 'adaptive', 'solver': 'sgd'}\n",
            "0.846 (+/-0.065) for {'activation': 'tanh', 'alpha': 0.05, 'hidden_layer_sizes': (50, 50, 50), 'learning_rate': 'adaptive', 'solver': 'adam'}\n",
            "0.818 (+/-0.057) for {'activation': 'tanh', 'alpha': 0.05, 'hidden_layer_sizes': (50, 100, 50), 'learning_rate': 'constant', 'solver': 'sgd'}\n",
            "0.800 (+/-0.067) for {'activation': 'tanh', 'alpha': 0.05, 'hidden_layer_sizes': (50, 100, 50), 'learning_rate': 'constant', 'solver': 'adam'}\n",
            "0.809 (+/-0.083) for {'activation': 'tanh', 'alpha': 0.05, 'hidden_layer_sizes': (50, 100, 50), 'learning_rate': 'adaptive', 'solver': 'sgd'}\n",
            "0.791 (+/-0.029) for {'activation': 'tanh', 'alpha': 0.05, 'hidden_layer_sizes': (50, 100, 50), 'learning_rate': 'adaptive', 'solver': 'adam'}\n",
            "0.790 (+/-0.135) for {'activation': 'tanh', 'alpha': 0.05, 'hidden_layer_sizes': (100,), 'learning_rate': 'constant', 'solver': 'sgd'}\n",
            "0.864 (+/-0.004) for {'activation': 'tanh', 'alpha': 0.05, 'hidden_layer_sizes': (100,), 'learning_rate': 'constant', 'solver': 'adam'}\n",
            "0.800 (+/-0.096) for {'activation': 'tanh', 'alpha': 0.05, 'hidden_layer_sizes': (100,), 'learning_rate': 'adaptive', 'solver': 'sgd'}\n",
            "0.845 (+/-0.028) for {'activation': 'tanh', 'alpha': 0.05, 'hidden_layer_sizes': (100,), 'learning_rate': 'adaptive', 'solver': 'adam'}\n",
            "0.809 (+/-0.049) for {'activation': 'relu', 'alpha': 0.0001, 'hidden_layer_sizes': (50, 50, 50), 'learning_rate': 'constant', 'solver': 'sgd'}\n",
            "0.691 (+/-0.139) for {'activation': 'relu', 'alpha': 0.0001, 'hidden_layer_sizes': (50, 50, 50), 'learning_rate': 'constant', 'solver': 'adam'}\n",
            "0.837 (+/-0.086) for {'activation': 'relu', 'alpha': 0.0001, 'hidden_layer_sizes': (50, 50, 50), 'learning_rate': 'adaptive', 'solver': 'sgd'}\n",
            "0.736 (+/-0.200) for {'activation': 'relu', 'alpha': 0.0001, 'hidden_layer_sizes': (50, 50, 50), 'learning_rate': 'adaptive', 'solver': 'adam'}\n",
            "0.745 (+/-0.136) for {'activation': 'relu', 'alpha': 0.0001, 'hidden_layer_sizes': (50, 100, 50), 'learning_rate': 'constant', 'solver': 'sgd'}\n",
            "0.818 (+/-0.028) for {'activation': 'relu', 'alpha': 0.0001, 'hidden_layer_sizes': (50, 100, 50), 'learning_rate': 'constant', 'solver': 'adam'}\n",
            "0.745 (+/-0.055) for {'activation': 'relu', 'alpha': 0.0001, 'hidden_layer_sizes': (50, 100, 50), 'learning_rate': 'adaptive', 'solver': 'sgd'}\n",
            "0.810 (+/-0.157) for {'activation': 'relu', 'alpha': 0.0001, 'hidden_layer_sizes': (50, 100, 50), 'learning_rate': 'adaptive', 'solver': 'adam'}\n",
            "0.791 (+/-0.063) for {'activation': 'relu', 'alpha': 0.0001, 'hidden_layer_sizes': (100,), 'learning_rate': 'constant', 'solver': 'sgd'}\n",
            "0.800 (+/-0.067) for {'activation': 'relu', 'alpha': 0.0001, 'hidden_layer_sizes': (100,), 'learning_rate': 'constant', 'solver': 'adam'}\n",
            "0.818 (+/-0.098) for {'activation': 'relu', 'alpha': 0.0001, 'hidden_layer_sizes': (100,), 'learning_rate': 'adaptive', 'solver': 'sgd'}\n",
            "0.764 (+/-0.098) for {'activation': 'relu', 'alpha': 0.0001, 'hidden_layer_sizes': (100,), 'learning_rate': 'adaptive', 'solver': 'adam'}\n",
            "0.764 (+/-0.125) for {'activation': 'relu', 'alpha': 0.05, 'hidden_layer_sizes': (50, 50, 50), 'learning_rate': 'constant', 'solver': 'sgd'}\n",
            "0.799 (+/-0.109) for {'activation': 'relu', 'alpha': 0.05, 'hidden_layer_sizes': (50, 50, 50), 'learning_rate': 'constant', 'solver': 'adam'}\n",
            "0.773 (+/-0.088) for {'activation': 'relu', 'alpha': 0.05, 'hidden_layer_sizes': (50, 50, 50), 'learning_rate': 'adaptive', 'solver': 'sgd'}\n",
            "0.846 (+/-0.126) for {'activation': 'relu', 'alpha': 0.05, 'hidden_layer_sizes': (50, 50, 50), 'learning_rate': 'adaptive', 'solver': 'adam'}\n",
            "0.791 (+/-0.125) for {'activation': 'relu', 'alpha': 0.05, 'hidden_layer_sizes': (50, 100, 50), 'learning_rate': 'constant', 'solver': 'sgd'}\n",
            "0.790 (+/-0.099) for {'activation': 'relu', 'alpha': 0.05, 'hidden_layer_sizes': (50, 100, 50), 'learning_rate': 'constant', 'solver': 'adam'}\n",
            "0.819 (+/-0.089) for {'activation': 'relu', 'alpha': 0.05, 'hidden_layer_sizes': (50, 100, 50), 'learning_rate': 'adaptive', 'solver': 'sgd'}\n",
            "0.800 (+/-0.100) for {'activation': 'relu', 'alpha': 0.05, 'hidden_layer_sizes': (50, 100, 50), 'learning_rate': 'adaptive', 'solver': 'adam'}\n",
            "0.745 (+/-0.055) for {'activation': 'relu', 'alpha': 0.05, 'hidden_layer_sizes': (100,), 'learning_rate': 'constant', 'solver': 'sgd'}\n",
            "0.700 (+/-0.083) for {'activation': 'relu', 'alpha': 0.05, 'hidden_layer_sizes': (100,), 'learning_rate': 'constant', 'solver': 'adam'}\n",
            "0.791 (+/-0.069) for {'activation': 'relu', 'alpha': 0.05, 'hidden_layer_sizes': (100,), 'learning_rate': 'adaptive', 'solver': 'sgd'}\n",
            "0.737 (+/-0.088) for {'activation': 'relu', 'alpha': 0.05, 'hidden_layer_sizes': (100,), 'learning_rate': 'adaptive', 'solver': 'adam'}\n",
            "nan (+/-nan) for {'activation': 'sigmoid', 'alpha': 0.0001, 'hidden_layer_sizes': (50, 50, 50), 'learning_rate': 'constant', 'solver': 'sgd'}\n",
            "nan (+/-nan) for {'activation': 'sigmoid', 'alpha': 0.0001, 'hidden_layer_sizes': (50, 50, 50), 'learning_rate': 'constant', 'solver': 'adam'}\n",
            "nan (+/-nan) for {'activation': 'sigmoid', 'alpha': 0.0001, 'hidden_layer_sizes': (50, 50, 50), 'learning_rate': 'adaptive', 'solver': 'sgd'}\n",
            "nan (+/-nan) for {'activation': 'sigmoid', 'alpha': 0.0001, 'hidden_layer_sizes': (50, 50, 50), 'learning_rate': 'adaptive', 'solver': 'adam'}\n",
            "nan (+/-nan) for {'activation': 'sigmoid', 'alpha': 0.0001, 'hidden_layer_sizes': (50, 100, 50), 'learning_rate': 'constant', 'solver': 'sgd'}\n",
            "nan (+/-nan) for {'activation': 'sigmoid', 'alpha': 0.0001, 'hidden_layer_sizes': (50, 100, 50), 'learning_rate': 'constant', 'solver': 'adam'}\n",
            "nan (+/-nan) for {'activation': 'sigmoid', 'alpha': 0.0001, 'hidden_layer_sizes': (50, 100, 50), 'learning_rate': 'adaptive', 'solver': 'sgd'}\n",
            "nan (+/-nan) for {'activation': 'sigmoid', 'alpha': 0.0001, 'hidden_layer_sizes': (50, 100, 50), 'learning_rate': 'adaptive', 'solver': 'adam'}\n",
            "nan (+/-nan) for {'activation': 'sigmoid', 'alpha': 0.0001, 'hidden_layer_sizes': (100,), 'learning_rate': 'constant', 'solver': 'sgd'}\n",
            "nan (+/-nan) for {'activation': 'sigmoid', 'alpha': 0.0001, 'hidden_layer_sizes': (100,), 'learning_rate': 'constant', 'solver': 'adam'}\n",
            "nan (+/-nan) for {'activation': 'sigmoid', 'alpha': 0.0001, 'hidden_layer_sizes': (100,), 'learning_rate': 'adaptive', 'solver': 'sgd'}\n",
            "nan (+/-nan) for {'activation': 'sigmoid', 'alpha': 0.0001, 'hidden_layer_sizes': (100,), 'learning_rate': 'adaptive', 'solver': 'adam'}\n",
            "nan (+/-nan) for {'activation': 'sigmoid', 'alpha': 0.05, 'hidden_layer_sizes': (50, 50, 50), 'learning_rate': 'constant', 'solver': 'sgd'}\n",
            "nan (+/-nan) for {'activation': 'sigmoid', 'alpha': 0.05, 'hidden_layer_sizes': (50, 50, 50), 'learning_rate': 'constant', 'solver': 'adam'}\n",
            "nan (+/-nan) for {'activation': 'sigmoid', 'alpha': 0.05, 'hidden_layer_sizes': (50, 50, 50), 'learning_rate': 'adaptive', 'solver': 'sgd'}\n",
            "nan (+/-nan) for {'activation': 'sigmoid', 'alpha': 0.05, 'hidden_layer_sizes': (50, 50, 50), 'learning_rate': 'adaptive', 'solver': 'adam'}\n",
            "nan (+/-nan) for {'activation': 'sigmoid', 'alpha': 0.05, 'hidden_layer_sizes': (50, 100, 50), 'learning_rate': 'constant', 'solver': 'sgd'}\n",
            "nan (+/-nan) for {'activation': 'sigmoid', 'alpha': 0.05, 'hidden_layer_sizes': (50, 100, 50), 'learning_rate': 'constant', 'solver': 'adam'}\n",
            "nan (+/-nan) for {'activation': 'sigmoid', 'alpha': 0.05, 'hidden_layer_sizes': (50, 100, 50), 'learning_rate': 'adaptive', 'solver': 'sgd'}\n",
            "nan (+/-nan) for {'activation': 'sigmoid', 'alpha': 0.05, 'hidden_layer_sizes': (50, 100, 50), 'learning_rate': 'adaptive', 'solver': 'adam'}\n",
            "nan (+/-nan) for {'activation': 'sigmoid', 'alpha': 0.05, 'hidden_layer_sizes': (100,), 'learning_rate': 'constant', 'solver': 'sgd'}\n",
            "nan (+/-nan) for {'activation': 'sigmoid', 'alpha': 0.05, 'hidden_layer_sizes': (100,), 'learning_rate': 'constant', 'solver': 'adam'}\n",
            "nan (+/-nan) for {'activation': 'sigmoid', 'alpha': 0.05, 'hidden_layer_sizes': (100,), 'learning_rate': 'adaptive', 'solver': 'sgd'}\n",
            "nan (+/-nan) for {'activation': 'sigmoid', 'alpha': 0.05, 'hidden_layer_sizes': (100,), 'learning_rate': 'adaptive', 'solver': 'adam'}\n"
          ],
          "name": "stdout"
        }
      ]
    },
    {
      "cell_type": "code",
      "metadata": {
        "colab": {
          "base_uri": "https://localhost:8080/"
        },
        "id": "uELqHBt3axb-",
        "outputId": "3d4991b3-810d-4229-95f9-846c8a60c41c"
      },
      "source": [
        "y_true, y_pred = y_test , clf.predict(X_val_seq_padded)\n",
        "\n",
        "from sklearn.metrics import classification_report\n",
        "print('Results on the test set:')\n",
        "print(classification_report(y_true, y_pred))"
      ],
      "execution_count": null,
      "outputs": [
        {
          "output_type": "stream",
          "text": [
            "Results on the test set:\n",
            "              precision    recall  f1-score   support\n",
            "\n",
            "           0       0.40      0.40      0.40         5\n",
            "           1       0.87      0.87      0.87        23\n",
            "\n",
            "    accuracy                           0.79        28\n",
            "   macro avg       0.63      0.63      0.63        28\n",
            "weighted avg       0.79      0.79      0.79        28\n",
            "\n"
          ],
          "name": "stdout"
        }
      ]
    },
    {
      "cell_type": "markdown",
      "metadata": {
        "id": "HmLYYtr2O5T-"
      },
      "source": [
        "## Neural Network: ANN and RNN"
      ]
    },
    {
      "cell_type": "markdown",
      "metadata": {
        "id": "nt1k3pWDVsAi"
      },
      "source": [
        "**Splitting the Dataset into Train and Test**"
      ]
    },
    {
      "cell_type": "code",
      "metadata": {
        "colab": {
          "base_uri": "https://localhost:8080/"
        },
        "id": "0ONNqOScVq5-",
        "outputId": "71245fe8-1a24-4c41-d89e-848e4726c2ae"
      },
      "source": [
        "df_train, df_test = train_test_split(df, test_size=0.2, random_state=0)\n",
        "\n",
        "print('df_train shape: {}'.format(df_train.shape))\n",
        "print('df_test shape: {}'.format(df_test.shape))\n",
        "\n",
        "print('df_train: {:.2f}% positive reviews'.format(df_train['class'].mean()*100))\n",
        "print('df_test: {:.2f}% positive reviews'.format(df_test['class'].mean()*100))"
      ],
      "execution_count": null,
      "outputs": [
        {
          "output_type": "stream",
          "text": [
            "df_train shape: (110, 11)\n",
            "df_test shape: (28, 11)\n",
            "df_train: 83.64% positive reviews\n",
            "df_test: 82.14% positive reviews\n"
          ],
          "name": "stdout"
        }
      ]
    },
    {
      "cell_type": "markdown",
      "metadata": {
        "id": "DpT8eu9RWJAJ"
      },
      "source": [
        "**Further Splitting the Train dataset into Train and Validation**"
      ]
    },
    {
      "cell_type": "code",
      "metadata": {
        "id": "94SL8G1dWER7"
      },
      "source": [
        "# Split the data into train and validation set.\n",
        "df0_train, df0_val = train_test_split(df_train, test_size=0.2)"
      ],
      "execution_count": null,
      "outputs": []
    },
    {
      "cell_type": "code",
      "metadata": {
        "id": "v30j_E6VWQHH"
      },
      "source": [
        "#set the target and features\n",
        "X_train = df0_train['clean_tweet'].values\n",
        "y_train = df0_train['class'].values\n",
        "\n",
        "X_val = df0_val['clean_tweet'].values\n",
        "y_val = df0_val['class'].values"
      ],
      "execution_count": null,
      "outputs": []
    },
    {
      "cell_type": "markdown",
      "metadata": {
        "id": "HdzvCnbZWmkv"
      },
      "source": [
        "**Preprocessing the Text: Tokenization and Conversion to Sequences**"
      ]
    },
    {
      "cell_type": "code",
      "metadata": {
        "id": "IGeZQJ8UWQEN"
      },
      "source": [
        "# set a vocabulary size. This is the maximum number of words that can be used.\n",
        "vocabulary_size = 10000\n",
        "\n",
        "# create the tokenizer that comes with Keras.\n",
        "tokenizer = Tokenizer(num_words=vocabulary_size)\n",
        "tokenizer.fit_on_texts(X_train)\n",
        "\n",
        "# convert the texts to sequences.\n",
        "X_train_seq = tokenizer.texts_to_sequences(X_train)\n",
        "X_val_seq = tokenizer.texts_to_sequences(X_val)"
      ],
      "execution_count": null,
      "outputs": []
    },
    {
      "cell_type": "code",
      "metadata": {
        "colab": {
          "base_uri": "https://localhost:8080/"
        },
        "id": "57u-cNuxWPrA",
        "outputId": "f4f6aff2-a71f-4bfa-d7af-694fc88f3497"
      },
      "source": [
        "l = [len(i) for i in X_train_seq]\n",
        "l = np.array(l)\n",
        "print('minimum number of words: {}'.format(l.min()))\n",
        "print('median number of words: {}'.format(np.median(l)))\n",
        "print('average number of words: {}'.format(l.mean()))\n",
        "print('maximum number of words: {}'.format(l.max()))"
      ],
      "execution_count": null,
      "outputs": [
        {
          "output_type": "stream",
          "text": [
            "minimum number of words: 3\n",
            "median number of words: 18.5\n",
            "average number of words: 18.602272727272727\n",
            "maximum number of words: 36\n"
          ],
          "name": "stdout"
        }
      ]
    },
    {
      "cell_type": "code",
      "metadata": {
        "id": "JM3or56EzxIK"
      },
      "source": [
        "X_train_seq_padded = pad_sequences(X_train_seq, maxlen=200)\n",
        "X_val_seq_padded  = pad_sequences(X_val_seq, maxlen=200)"
      ],
      "execution_count": null,
      "outputs": []
    },
    {
      "cell_type": "markdown",
      "metadata": {
        "id": "HpAipZBZyzka"
      },
      "source": [
        "**ANN**"
      ]
    },
    {
      "cell_type": "code",
      "metadata": {
        "colab": {
          "base_uri": "https://localhost:8080/",
          "height": 579
        },
        "id": "NyT3cKoRlsr7",
        "outputId": "5475e169-a9b3-4a06-b62e-a2b43a8cb730"
      },
      "source": [
        "#Intialize\n",
        "wandb.init(project=\"Remote Learning\",config=config)"
      ],
      "execution_count": null,
      "outputs": [
        {
          "output_type": "display_data",
          "data": {
            "text/html": [
              "\n",
              "                Tracking run with wandb version 0.12.0<br/>\n",
              "                Syncing run <strong style=\"color:#cdcd00\">floral-dust-11</strong> to <a href=\"https://wandb.ai\" target=\"_blank\">Weights & Biases</a> <a href=\"https://docs.wandb.com/integrations/jupyter.html\" target=\"_blank\">(Documentation)</a>.<br/>\n",
              "                Project page: <a href=\"https://wandb.ai/jack-analyst/Remote%20Learning\" target=\"_blank\">https://wandb.ai/jack-analyst/Remote%20Learning</a><br/>\n",
              "                Run page: <a href=\"https://wandb.ai/jack-analyst/Remote%20Learning/runs/1ycoherr\" target=\"_blank\">https://wandb.ai/jack-analyst/Remote%20Learning/runs/1ycoherr</a><br/>\n",
              "                Run data is saved locally in <code>/content/wandb/run-20210818_224938-1ycoherr</code><br/><br/>\n",
              "            "
            ],
            "text/plain": [
              "<IPython.core.display.HTML object>"
            ]
          },
          "metadata": {}
        },
        {
          "output_type": "execute_result",
          "data": {
            "text/plain": [
              "<wandb.sdk.wandb_run.Run at 0x7fd8a3063a90>"
            ],
            "text/html": [
              "<h1>Run(1ycoherr)</h1><iframe src=\"https://wandb.ai/jack-analyst/Remote%20Learning/runs/1ycoherr\" style=\"border:none;width:100%;height:400px\"></iframe>"
            ]
          },
          "metadata": {},
          "execution_count": 47
        }
      ]
    },
    {
      "cell_type": "code",
      "metadata": {
        "colab": {
          "base_uri": "https://localhost:8080/"
        },
        "id": "cqTNmNMGxmjb",
        "outputId": "17eaa170-6d61-43fe-f0ee-2a7f58712a0e"
      },
      "source": [
        "import tensorflow as tf\n",
        "\n",
        "#Create a tensorflow model\n",
        "embedding_vector_length = 32\n",
        "vocab_size = len(tokenizer.word_index) + 1\n",
        "model = tf.keras.models.Sequential() \n",
        "model.add(tf.keras.layers.Embedding(vocab_size, embedding_vector_length, input_length=200) )\n",
        "model.add(tf.keras.layers.SpatialDropout1D(0.25))\n",
        "model.add(tf.keras.layers.LSTM(50, dropout=0.5, recurrent_dropout=0.5))\n",
        "model.add(tf.keras.layers.Dropout(0.2))\n",
        "model.add(tf.keras.layers.Dense(1, activation='sigmoid')) \n",
        "model.compile(loss='binary_crossentropy',optimizer='adam', metrics=['accuracy'])  \n",
        "print(model.summary())"
      ],
      "execution_count": null,
      "outputs": [
        {
          "output_type": "stream",
          "text": [
            "Model: \"sequential\"\n",
            "_________________________________________________________________\n",
            "Layer (type)                 Output Shape              Param #   \n",
            "=================================================================\n",
            "embedding (Embedding)        (None, 200, 32)           25888     \n",
            "_________________________________________________________________\n",
            "spatial_dropout1d (SpatialDr (None, 200, 32)           0         \n",
            "_________________________________________________________________\n",
            "lstm (LSTM)                  (None, 50)                16600     \n",
            "_________________________________________________________________\n",
            "dropout (Dropout)            (None, 50)                0         \n",
            "_________________________________________________________________\n",
            "dense (Dense)                (None, 1)                 51        \n",
            "=================================================================\n",
            "Total params: 42,539\n",
            "Trainable params: 42,539\n",
            "Non-trainable params: 0\n",
            "_________________________________________________________________\n",
            "None\n"
          ],
          "name": "stdout"
        }
      ]
    },
    {
      "cell_type": "code",
      "metadata": {
        "colab": {
          "base_uri": "https://localhost:8080/",
          "height": 858,
          "referenced_widgets": [
            "2ab5c67ad55d4d33b40f829060d3c5ea",
            "bacc513ecd3540449fe69badc1270ce5",
            "0d66fd597e224275b9d06e36dbfa1990",
            "dd2d31dc091e4b099809ac7075228185",
            "87d7a5181e934eeda6c83fb4035ff877",
            "fdd51dad0c1c49afaa62959544f090e7",
            "6ba3b2e1e5194e4bab2754fc30f234d8",
            "d2c41f4ccc1c4c588a9ee9b01ac5238a"
          ]
        },
        "id": "24i0R8xI1Cx3",
        "outputId": "56a6affd-705b-4931-83c2-6f3511987e56"
      },
      "source": [
        "#fit the model\n",
        "history = model.fit(X_train_seq_padded,y_train,validation_split=0.2, epochs=5, batch_size=32,callbacks=[WandbCallback()])\n",
        "wandb.finish()"
      ],
      "execution_count": null,
      "outputs": [
        {
          "output_type": "stream",
          "text": [
            "Epoch 1/5\n",
            "3/3 [==============================] - 5s 469ms/step - loss: 0.6912 - accuracy: 0.6000 - val_loss: 0.6826 - val_accuracy: 0.8333\n",
            "Epoch 2/5\n",
            "3/3 [==============================] - 1s 258ms/step - loss: 0.6809 - accuracy: 0.8000 - val_loss: 0.6717 - val_accuracy: 0.8333\n",
            "Epoch 3/5\n",
            "3/3 [==============================] - 1s 257ms/step - loss: 0.6709 - accuracy: 0.8286 - val_loss: 0.6584 - val_accuracy: 0.8333\n",
            "Epoch 4/5\n",
            "3/3 [==============================] - 1s 262ms/step - loss: 0.6536 - accuracy: 0.8286 - val_loss: 0.6408 - val_accuracy: 0.8333\n",
            "Epoch 5/5\n",
            "3/3 [==============================] - 1s 262ms/step - loss: 0.6353 - accuracy: 0.8286 - val_loss: 0.6131 - val_accuracy: 0.8333\n"
          ],
          "name": "stdout"
        },
        {
          "output_type": "display_data",
          "data": {
            "text/html": [
              "<br/>Waiting for W&B process to finish, PID 794<br/>Program ended successfully."
            ],
            "text/plain": [
              "<IPython.core.display.HTML object>"
            ]
          },
          "metadata": {}
        },
        {
          "output_type": "display_data",
          "data": {
            "application/vnd.jupyter.widget-view+json": {
              "model_id": "2ab5c67ad55d4d33b40f829060d3c5ea",
              "version_minor": 0,
              "version_major": 2
            },
            "text/plain": [
              "VBox(children=(Label(value=' 0.74MB of 0.74MB uploaded (0.00MB deduped)\\r'), FloatProgress(value=1.0, max=1.0)…"
            ]
          },
          "metadata": {}
        },
        {
          "output_type": "display_data",
          "data": {
            "text/html": [
              "Find user logs for this run at: <code>/content/wandb/run-20210818_224938-1ycoherr/logs/debug.log</code>"
            ],
            "text/plain": [
              "<IPython.core.display.HTML object>"
            ]
          },
          "metadata": {}
        },
        {
          "output_type": "display_data",
          "data": {
            "text/html": [
              "Find internal logs for this run at: <code>/content/wandb/run-20210818_224938-1ycoherr/logs/debug-internal.log</code>"
            ],
            "text/plain": [
              "<IPython.core.display.HTML object>"
            ]
          },
          "metadata": {}
        },
        {
          "output_type": "display_data",
          "data": {
            "text/html": [
              "<h3>Run summary:</h3><br/><style>\n",
              "    table.wandb td:nth-child(1) { padding: 0 10px; text-align: right }\n",
              "    </style><table class=\"wandb\">\n",
              "<tr><td>epoch</td><td>4</td></tr><tr><td>loss</td><td>0.63525</td></tr><tr><td>accuracy</td><td>0.82857</td></tr><tr><td>val_loss</td><td>0.61311</td></tr><tr><td>val_accuracy</td><td>0.83333</td></tr><tr><td>_runtime</td><td>16</td></tr><tr><td>_timestamp</td><td>1629326994</td></tr><tr><td>_step</td><td>4</td></tr><tr><td>best_val_loss</td><td>0.61311</td></tr><tr><td>best_epoch</td><td>4</td></tr></table>"
            ],
            "text/plain": [
              "<IPython.core.display.HTML object>"
            ]
          },
          "metadata": {}
        },
        {
          "output_type": "display_data",
          "data": {
            "text/html": [
              "<h3>Run history:</h3><br/><style>\n",
              "    table.wandb td:nth-child(1) { padding: 0 10px; text-align: right }\n",
              "    </style><table class=\"wandb\">\n",
              "<tr><td>epoch</td><td>▁▃▅▆█</td></tr><tr><td>loss</td><td>█▇▅▃▁</td></tr><tr><td>accuracy</td><td>▁▇███</td></tr><tr><td>val_loss</td><td>█▇▆▄▁</td></tr><tr><td>val_accuracy</td><td>▁▁▁▁▁</td></tr><tr><td>_runtime</td><td>▁▁▃▆█</td></tr><tr><td>_timestamp</td><td>▁▁▃▆█</td></tr><tr><td>_step</td><td>▁▃▅▆█</td></tr></table><br/>"
            ],
            "text/plain": [
              "<IPython.core.display.HTML object>"
            ]
          },
          "metadata": {}
        },
        {
          "output_type": "display_data",
          "data": {
            "text/html": [
              "Synced 5 W&B file(s), 1 media file(s), 4 artifact file(s) and 2 other file(s)"
            ],
            "text/plain": [
              "<IPython.core.display.HTML object>"
            ]
          },
          "metadata": {}
        },
        {
          "output_type": "display_data",
          "data": {
            "text/html": [
              "\n",
              "                    <br/>Synced <strong style=\"color:#cdcd00\">floral-dust-11</strong>: <a href=\"https://wandb.ai/jack-analyst/Remote%20Learning/runs/1ycoherr\" target=\"_blank\">https://wandb.ai/jack-analyst/Remote%20Learning/runs/1ycoherr</a><br/>\n",
              "                "
            ],
            "text/plain": [
              "<IPython.core.display.HTML object>"
            ]
          },
          "metadata": {}
        }
      ]
    },
    {
      "cell_type": "markdown",
      "metadata": {
        "id": "AG2Y-mKl1XbG"
      },
      "source": [
        "### **RNN**"
      ]
    },
    {
      "cell_type": "code",
      "metadata": {
        "colab": {
          "base_uri": "https://localhost:8080/",
          "height": 579
        },
        "id": "Cxy_Uv3HnsEq",
        "outputId": "0a261f25-bfd1-41b9-80be-cde860db2485"
      },
      "source": [
        "#Intialize\n",
        "wandb.init(project=\"Remote Learning\",config=config)"
      ],
      "execution_count": null,
      "outputs": [
        {
          "output_type": "display_data",
          "data": {
            "text/html": [
              "\n",
              "                Tracking run with wandb version 0.12.0<br/>\n",
              "                Syncing run <strong style=\"color:#cdcd00\">still-water-12</strong> to <a href=\"https://wandb.ai\" target=\"_blank\">Weights & Biases</a> <a href=\"https://docs.wandb.com/integrations/jupyter.html\" target=\"_blank\">(Documentation)</a>.<br/>\n",
              "                Project page: <a href=\"https://wandb.ai/jack-analyst/Remote%20Learning\" target=\"_blank\">https://wandb.ai/jack-analyst/Remote%20Learning</a><br/>\n",
              "                Run page: <a href=\"https://wandb.ai/jack-analyst/Remote%20Learning/runs/1vasd9ss\" target=\"_blank\">https://wandb.ai/jack-analyst/Remote%20Learning/runs/1vasd9ss</a><br/>\n",
              "                Run data is saved locally in <code>/content/wandb/run-20210818_225000-1vasd9ss</code><br/><br/>\n",
              "            "
            ],
            "text/plain": [
              "<IPython.core.display.HTML object>"
            ]
          },
          "metadata": {}
        },
        {
          "output_type": "execute_result",
          "data": {
            "text/plain": [
              "<wandb.sdk.wandb_run.Run at 0x7fd8b68bb4d0>"
            ],
            "text/html": [
              "<h1>Run(1vasd9ss)</h1><iframe src=\"https://wandb.ai/jack-analyst/Remote%20Learning/runs/1vasd9ss\" style=\"border:none;width:100%;height:400px\"></iframe>"
            ]
          },
          "metadata": {},
          "execution_count": 50
        }
      ]
    },
    {
      "cell_type": "markdown",
      "metadata": {
        "id": "C6TO5jvEHmoG"
      },
      "source": [
        "**LSTM**"
      ]
    },
    {
      "cell_type": "code",
      "metadata": {
        "id": "VyfHLVThK2Bm"
      },
      "source": [
        "max_words = 5000\n",
        "max_len = 200"
      ],
      "execution_count": null,
      "outputs": []
    },
    {
      "cell_type": "code",
      "metadata": {
        "colab": {
          "base_uri": "https://localhost:8080/"
        },
        "id": "v7p4faiHHmME",
        "outputId": "47552cec-6e80-40f7-c893-462260da880b"
      },
      "source": [
        "model=tf.keras.Sequential([\n",
        "                           tf.keras.layers.Embedding(vocab_size,embedding_vector_length, input_length=max_len),\n",
        "                           tf.keras.layers.Bidirectional(tf.keras.layers.LSTM(64,dropout=0.5,return_sequences=True)),\n",
        "                           tf.keras.layers.Bidirectional(tf.keras.layers.LSTM(32)),\n",
        "                           tf.keras.layers.Dense(24,activation='relu'),\n",
        "                           tf.keras.layers.Dense(1,activation='sigmoid')\n",
        "])\n",
        "model.compile(loss='binary_crossentropy',optimizer='adam',metrics=['accuracy'])\n",
        "model.summary()"
      ],
      "execution_count": null,
      "outputs": [
        {
          "output_type": "stream",
          "text": [
            "Model: \"sequential_1\"\n",
            "_________________________________________________________________\n",
            "Layer (type)                 Output Shape              Param #   \n",
            "=================================================================\n",
            "embedding_1 (Embedding)      (None, 200, 32)           25888     \n",
            "_________________________________________________________________\n",
            "bidirectional (Bidirectional (None, 200, 128)          49664     \n",
            "_________________________________________________________________\n",
            "bidirectional_1 (Bidirection (None, 64)                41216     \n",
            "_________________________________________________________________\n",
            "dense_1 (Dense)              (None, 24)                1560      \n",
            "_________________________________________________________________\n",
            "dense_2 (Dense)              (None, 1)                 25        \n",
            "=================================================================\n",
            "Total params: 118,353\n",
            "Trainable params: 118,353\n",
            "Non-trainable params: 0\n",
            "_________________________________________________________________\n"
          ],
          "name": "stdout"
        }
      ]
    },
    {
      "cell_type": "code",
      "metadata": {
        "colab": {
          "base_uri": "https://localhost:8080/",
          "height": 858,
          "referenced_widgets": [
            "fdfb83a8649f49928a19bd64daca0894",
            "8064eb03f3f34745b278561f1b1ffd5c",
            "ec2d94faabbe4cf28c93ea1878b139ef",
            "bc08e7a453924bf4b153ea08d1b5ce65",
            "20117dd74a4c432fb65ed255bf4ef2b9",
            "8c307d77bd1741e3bcd291998cdeadfc",
            "508857ab7ed04eed8172a667229d2314",
            "c0ec2c88be13474c89bea82a4634d533"
          ]
        },
        "id": "5eOdDm6_JZan",
        "outputId": "3b4aa9b5-cedf-4194-da05-d2d9877c9cff"
      },
      "source": [
        "num_epochs=5\n",
        "history=model.fit(X_train_seq_padded,y_train,epochs=num_epochs,\n",
        "                  validation_data=(X_val_seq_padded,y_val),verbose=2,callbacks=[WandbCallback()])\n",
        "wandb.finish()"
      ],
      "execution_count": null,
      "outputs": [
        {
          "output_type": "stream",
          "text": [
            "Epoch 1/5\n",
            "3/3 - 10s - loss: 0.6875 - accuracy: 0.6136 - val_loss: 0.6632 - val_accuracy: 0.8636\n",
            "Epoch 2/5\n",
            "3/3 - 1s - loss: 0.6545 - accuracy: 0.8295 - val_loss: 0.6085 - val_accuracy: 0.8636\n",
            "Epoch 3/5\n",
            "3/3 - 1s - loss: 0.5977 - accuracy: 0.8295 - val_loss: 0.5184 - val_accuracy: 0.8636\n",
            "Epoch 4/5\n",
            "3/3 - 1s - loss: 0.5086 - accuracy: 0.8295 - val_loss: 0.4025 - val_accuracy: 0.8636\n",
            "Epoch 5/5\n",
            "3/3 - 1s - loss: 0.4394 - accuracy: 0.8295 - val_loss: 0.4143 - val_accuracy: 0.8636\n"
          ],
          "name": "stdout"
        },
        {
          "output_type": "display_data",
          "data": {
            "text/html": [
              "<br/>Waiting for W&B process to finish, PID 882<br/>Program ended successfully."
            ],
            "text/plain": [
              "<IPython.core.display.HTML object>"
            ]
          },
          "metadata": {}
        },
        {
          "output_type": "display_data",
          "data": {
            "application/vnd.jupyter.widget-view+json": {
              "model_id": "fdfb83a8649f49928a19bd64daca0894",
              "version_minor": 0,
              "version_major": 2
            },
            "text/plain": [
              "VBox(children=(Label(value=' 1.77MB of 1.77MB uploaded (0.00MB deduped)\\r'), FloatProgress(value=1.0, max=1.0)…"
            ]
          },
          "metadata": {}
        },
        {
          "output_type": "display_data",
          "data": {
            "text/html": [
              "Find user logs for this run at: <code>/content/wandb/run-20210818_225000-1vasd9ss/logs/debug.log</code>"
            ],
            "text/plain": [
              "<IPython.core.display.HTML object>"
            ]
          },
          "metadata": {}
        },
        {
          "output_type": "display_data",
          "data": {
            "text/html": [
              "Find internal logs for this run at: <code>/content/wandb/run-20210818_225000-1vasd9ss/logs/debug-internal.log</code>"
            ],
            "text/plain": [
              "<IPython.core.display.HTML object>"
            ]
          },
          "metadata": {}
        },
        {
          "output_type": "display_data",
          "data": {
            "text/html": [
              "<h3>Run summary:</h3><br/><style>\n",
              "    table.wandb td:nth-child(1) { padding: 0 10px; text-align: right }\n",
              "    </style><table class=\"wandb\">\n",
              "<tr><td>epoch</td><td>4</td></tr><tr><td>loss</td><td>0.43938</td></tr><tr><td>accuracy</td><td>0.82955</td></tr><tr><td>val_loss</td><td>0.4143</td></tr><tr><td>val_accuracy</td><td>0.86364</td></tr><tr><td>_runtime</td><td>24</td></tr><tr><td>_timestamp</td><td>1629327024</td></tr><tr><td>_step</td><td>4</td></tr><tr><td>best_val_loss</td><td>0.40247</td></tr><tr><td>best_epoch</td><td>3</td></tr></table>"
            ],
            "text/plain": [
              "<IPython.core.display.HTML object>"
            ]
          },
          "metadata": {}
        },
        {
          "output_type": "display_data",
          "data": {
            "text/html": [
              "<h3>Run history:</h3><br/><style>\n",
              "    table.wandb td:nth-child(1) { padding: 0 10px; text-align: right }\n",
              "    </style><table class=\"wandb\">\n",
              "<tr><td>epoch</td><td>▁▃▅▆█</td></tr><tr><td>loss</td><td>█▇▅▃▁</td></tr><tr><td>accuracy</td><td>▁████</td></tr><tr><td>val_loss</td><td>█▇▄▁▁</td></tr><tr><td>val_accuracy</td><td>▁▁▁▁▁</td></tr><tr><td>_runtime</td><td>▁▂▅▇█</td></tr><tr><td>_timestamp</td><td>▁▂▅▇█</td></tr><tr><td>_step</td><td>▁▃▅▆█</td></tr></table><br/>"
            ],
            "text/plain": [
              "<IPython.core.display.HTML object>"
            ]
          },
          "metadata": {}
        },
        {
          "output_type": "display_data",
          "data": {
            "text/html": [
              "Synced 5 W&B file(s), 0 media file(s), 5 artifact file(s) and 2 other file(s)"
            ],
            "text/plain": [
              "<IPython.core.display.HTML object>"
            ]
          },
          "metadata": {}
        },
        {
          "output_type": "display_data",
          "data": {
            "text/html": [
              "\n",
              "                    <br/>Synced <strong style=\"color:#cdcd00\">still-water-12</strong>: <a href=\"https://wandb.ai/jack-analyst/Remote%20Learning/runs/1vasd9ss\" target=\"_blank\">https://wandb.ai/jack-analyst/Remote%20Learning/runs/1vasd9ss</a><br/>\n",
              "                "
            ],
            "text/plain": [
              "<IPython.core.display.HTML object>"
            ]
          },
          "metadata": {}
        }
      ]
    },
    {
      "cell_type": "code",
      "metadata": {
        "colab": {
          "base_uri": "https://localhost:8080/",
          "height": 579
        },
        "id": "40Bb1uFYoXaw",
        "outputId": "e0eba90d-6216-458b-f9a8-1bbc18f7b93a"
      },
      "source": [
        "#Intialize\n",
        "wandb.init(project=\"Remote Learning\",config=config)"
      ],
      "execution_count": null,
      "outputs": [
        {
          "output_type": "display_data",
          "data": {
            "text/html": [
              "\n",
              "                Tracking run with wandb version 0.12.0<br/>\n",
              "                Syncing run <strong style=\"color:#cdcd00\">bumbling-field-13</strong> to <a href=\"https://wandb.ai\" target=\"_blank\">Weights & Biases</a> <a href=\"https://docs.wandb.com/integrations/jupyter.html\" target=\"_blank\">(Documentation)</a>.<br/>\n",
              "                Project page: <a href=\"https://wandb.ai/jack-analyst/Remote%20Learning\" target=\"_blank\">https://wandb.ai/jack-analyst/Remote%20Learning</a><br/>\n",
              "                Run page: <a href=\"https://wandb.ai/jack-analyst/Remote%20Learning/runs/2k67ffrv\" target=\"_blank\">https://wandb.ai/jack-analyst/Remote%20Learning/runs/2k67ffrv</a><br/>\n",
              "                Run data is saved locally in <code>/content/wandb/run-20210818_225031-2k67ffrv</code><br/><br/>\n",
              "            "
            ],
            "text/plain": [
              "<IPython.core.display.HTML object>"
            ]
          },
          "metadata": {}
        },
        {
          "output_type": "execute_result",
          "data": {
            "text/plain": [
              "<wandb.sdk.wandb_run.Run at 0x7fd89a464890>"
            ],
            "text/html": [
              "<h1>Run(2k67ffrv)</h1><iframe src=\"https://wandb.ai/jack-analyst/Remote%20Learning/runs/2k67ffrv\" style=\"border:none;width:100%;height:400px\"></iframe>"
            ]
          },
          "metadata": {},
          "execution_count": 54
        }
      ]
    },
    {
      "cell_type": "code",
      "metadata": {
        "colab": {
          "base_uri": "https://localhost:8080/",
          "height": 1000,
          "referenced_widgets": [
            "ecf0082f88c0492eae27b9f0adeac04d",
            "c03aef7b588a460c8efa280d40734dd0",
            "a26b3d7c49fb4d0181938cb30536765f",
            "0b105b68f6a347c59b1e672e8db1f4ed",
            "497f221d0c61498ca937e440111a669f",
            "02737ce5b94f4f12a68fd8667a56055e",
            "d8dcfe14b3ed412aa56fd8ffa099c269",
            "c4149daf2d16487495d3a0dde07a06d1"
          ]
        },
        "id": "xyPVt2ZlBnqG",
        "outputId": "62e1aca9-5670-4c7c-fb9e-85c713f55187"
      },
      "source": [
        "from keras.models import Sequential\n",
        "from keras import layers\n",
        "from keras import regularizers\n",
        "from keras import backend as K\n",
        "from keras.callbacks import ModelCheckpoint\n",
        "\n",
        "max_words = 5000\n",
        "max_len = 200\n",
        "\n",
        "X_train_seq_padded = pad_sequences(X_train_seq, maxlen=200)\n",
        "X_val_seq_padded  = pad_sequences(X_val_seq, maxlen=200)\n",
        "\n",
        "model1 = Sequential()\n",
        "model1.add(layers.Embedding(max_words, 20)) #The embedding layer\n",
        "model1.add(layers.LSTM(15,dropout=0.5)) #Our LSTM layer\n",
        "model1.add(layers.Dense(1,activation='sigmoid'))\n",
        "print(model1.summary())\n",
        "\n",
        "model1.compile(optimizer='rmsprop',loss='binary_crossentropy', metrics=['accuracy'])\n",
        "\n",
        "\n",
        "#model.fit(X_train, Y_train,validation_data = (X_test,y_test),epochs = 10, batch_size=32)\n",
        "\n",
        "history = model1.fit(X_train_seq_padded, y_train, epochs=10,batch_size=32,\n",
        "                     validation_data=(X_val_seq_padded, y_val),callbacks=[WandbCallback()])\n",
        "wandb.finish()"
      ],
      "execution_count": null,
      "outputs": [
        {
          "output_type": "stream",
          "text": [
            "Model: \"sequential_2\"\n",
            "_________________________________________________________________\n",
            "Layer (type)                 Output Shape              Param #   \n",
            "=================================================================\n",
            "embedding_2 (Embedding)      (None, None, 20)          100000    \n",
            "_________________________________________________________________\n",
            "lstm_3 (LSTM)                (None, 15)                2160      \n",
            "_________________________________________________________________\n",
            "dense_3 (Dense)              (None, 1)                 16        \n",
            "=================================================================\n",
            "Total params: 102,176\n",
            "Trainable params: 102,176\n",
            "Non-trainable params: 0\n",
            "_________________________________________________________________\n",
            "None\n",
            "Epoch 1/10\n",
            "3/3 [==============================] - 3s 394ms/step - loss: 0.6898 - accuracy: 0.7045 - val_loss: 0.6794 - val_accuracy: 0.8636\n",
            "Epoch 2/10\n",
            "3/3 [==============================] - 0s 112ms/step - loss: 0.6776 - accuracy: 0.8295 - val_loss: 0.6669 - val_accuracy: 0.8636\n",
            "Epoch 3/10\n",
            "3/3 [==============================] - 0s 95ms/step - loss: 0.6649 - accuracy: 0.8295 - val_loss: 0.6499 - val_accuracy: 0.8636\n",
            "Epoch 4/10\n",
            "3/3 [==============================] - 0s 97ms/step - loss: 0.6472 - accuracy: 0.8295 - val_loss: 0.6269 - val_accuracy: 0.8636\n",
            "Epoch 5/10\n",
            "3/3 [==============================] - 0s 98ms/step - loss: 0.6226 - accuracy: 0.8295 - val_loss: 0.5863 - val_accuracy: 0.8636\n",
            "Epoch 6/10\n",
            "3/3 [==============================] - 0s 102ms/step - loss: 0.5803 - accuracy: 0.8295 - val_loss: 0.5072 - val_accuracy: 0.8636\n",
            "Epoch 7/10\n",
            "3/3 [==============================] - 0s 97ms/step - loss: 0.4971 - accuracy: 0.8295 - val_loss: 0.4356 - val_accuracy: 0.8636\n",
            "Epoch 8/10\n",
            "3/3 [==============================] - 0s 98ms/step - loss: 0.4642 - accuracy: 0.8295 - val_loss: 0.4276 - val_accuracy: 0.8636\n",
            "Epoch 9/10\n",
            "3/3 [==============================] - 0s 99ms/step - loss: 0.4516 - accuracy: 0.8295 - val_loss: 0.4194 - val_accuracy: 0.8636\n",
            "Epoch 10/10\n",
            "3/3 [==============================] - 0s 103ms/step - loss: 0.4436 - accuracy: 0.8295 - val_loss: 0.4126 - val_accuracy: 0.8636\n"
          ],
          "name": "stdout"
        },
        {
          "output_type": "display_data",
          "data": {
            "text/html": [
              "<br/>Waiting for W&B process to finish, PID 962<br/>Program ended successfully."
            ],
            "text/plain": [
              "<IPython.core.display.HTML object>"
            ]
          },
          "metadata": {}
        },
        {
          "output_type": "display_data",
          "data": {
            "application/vnd.jupyter.widget-view+json": {
              "model_id": "ecf0082f88c0492eae27b9f0adeac04d",
              "version_minor": 0,
              "version_major": 2
            },
            "text/plain": [
              "VBox(children=(Label(value=' 1.02MB of 1.02MB uploaded (0.00MB deduped)\\r'), FloatProgress(value=1.0, max=1.0)…"
            ]
          },
          "metadata": {}
        },
        {
          "output_type": "display_data",
          "data": {
            "text/html": [
              "Find user logs for this run at: <code>/content/wandb/run-20210818_225031-2k67ffrv/logs/debug.log</code>"
            ],
            "text/plain": [
              "<IPython.core.display.HTML object>"
            ]
          },
          "metadata": {}
        },
        {
          "output_type": "display_data",
          "data": {
            "text/html": [
              "Find internal logs for this run at: <code>/content/wandb/run-20210818_225031-2k67ffrv/logs/debug-internal.log</code>"
            ],
            "text/plain": [
              "<IPython.core.display.HTML object>"
            ]
          },
          "metadata": {}
        },
        {
          "output_type": "display_data",
          "data": {
            "text/html": [
              "<h3>Run summary:</h3><br/><style>\n",
              "    table.wandb td:nth-child(1) { padding: 0 10px; text-align: right }\n",
              "    </style><table class=\"wandb\">\n",
              "<tr><td>epoch</td><td>9</td></tr><tr><td>loss</td><td>0.44363</td></tr><tr><td>accuracy</td><td>0.82955</td></tr><tr><td>val_loss</td><td>0.4126</td></tr><tr><td>val_accuracy</td><td>0.86364</td></tr><tr><td>_runtime</td><td>11</td></tr><tr><td>_timestamp</td><td>1629327042</td></tr><tr><td>_step</td><td>9</td></tr><tr><td>best_val_loss</td><td>0.4126</td></tr><tr><td>best_epoch</td><td>9</td></tr></table>"
            ],
            "text/plain": [
              "<IPython.core.display.HTML object>"
            ]
          },
          "metadata": {}
        },
        {
          "output_type": "display_data",
          "data": {
            "text/html": [
              "<h3>Run history:</h3><br/><style>\n",
              "    table.wandb td:nth-child(1) { padding: 0 10px; text-align: right }\n",
              "    </style><table class=\"wandb\">\n",
              "<tr><td>epoch</td><td>▁▂▃▃▄▅▆▆▇█</td></tr><tr><td>loss</td><td>██▇▇▆▅▃▂▁▁</td></tr><tr><td>accuracy</td><td>▁█████████</td></tr><tr><td>val_loss</td><td>██▇▇▆▃▂▁▁▁</td></tr><tr><td>val_accuracy</td><td>▁▁▁▁▁▁▁▁▁▁</td></tr><tr><td>_runtime</td><td>▁▃▃▃▆▆▆███</td></tr><tr><td>_timestamp</td><td>▁▃▃▃▆▆▆███</td></tr><tr><td>_step</td><td>▁▂▃▃▄▅▆▆▇█</td></tr></table><br/>"
            ],
            "text/plain": [
              "<IPython.core.display.HTML object>"
            ]
          },
          "metadata": {}
        },
        {
          "output_type": "display_data",
          "data": {
            "text/html": [
              "Synced 5 W&B file(s), 1 media file(s), 3 artifact file(s) and 2 other file(s)"
            ],
            "text/plain": [
              "<IPython.core.display.HTML object>"
            ]
          },
          "metadata": {}
        },
        {
          "output_type": "display_data",
          "data": {
            "text/html": [
              "\n",
              "                    <br/>Synced <strong style=\"color:#cdcd00\">bumbling-field-13</strong>: <a href=\"https://wandb.ai/jack-analyst/Remote%20Learning/runs/2k67ffrv\" target=\"_blank\">https://wandb.ai/jack-analyst/Remote%20Learning/runs/2k67ffrv</a><br/>\n",
              "                "
            ],
            "text/plain": [
              "<IPython.core.display.HTML object>"
            ]
          },
          "metadata": {}
        }
      ]
    },
    {
      "cell_type": "code",
      "metadata": {
        "colab": {
          "base_uri": "https://localhost:8080/"
        },
        "id": "CA83mDDw1ZX3",
        "outputId": "1503b68b-b1d1-4f91-da97-6e60eb93cdc9"
      },
      "source": [
        "#Evaluating the model using the test data\n",
        "# predict on the test dataset.\n",
        "\n",
        "# transform text to sequences.\n",
        "X_test_seq = tokenizer.texts_to_sequences(df_test['clean_tweet'].values)\n",
        "X_test_seq_padded = pad_sequences(X_test_seq, maxlen=200)\n",
        "y_test = df_test['class'].values\n",
        "\n",
        "y_test_pred = model1.predict(X_test_seq_padded)\n",
        "y_test_pred = y_test_pred.reshape(y_test_pred.shape[0],)\n",
        "from sklearn.metrics import roc_auc_score\n",
        "from sklearn.metrics import f1_score\n",
        "\n",
        "auc_lstm = roc_auc_score(y_test, y_test_pred)\n",
        "auc_lstm"
      ],
      "execution_count": null,
      "outputs": [
        {
          "output_type": "execute_result",
          "data": {
            "text/plain": [
              "0.7217391304347827"
            ]
          },
          "metadata": {},
          "execution_count": 56
        }
      ]
    },
    {
      "cell_type": "markdown",
      "metadata": {
        "id": "p1qOKsJZlGM_"
      },
      "source": [
        "**Bidirectional layers**"
      ]
    },
    {
      "cell_type": "code",
      "metadata": {
        "colab": {
          "base_uri": "https://localhost:8080/",
          "height": 579
        },
        "id": "dih0yhU2o4KG",
        "outputId": "510532ac-b77e-418a-ba23-68561138b13f"
      },
      "source": [
        "#Intialize\n",
        "wandb.init(project=\"Remote Learning\",config=config)"
      ],
      "execution_count": null,
      "outputs": [
        {
          "output_type": "display_data",
          "data": {
            "text/html": [
              "\n",
              "                Tracking run with wandb version 0.12.0<br/>\n",
              "                Syncing run <strong style=\"color:#cdcd00\">sunny-feather-14</strong> to <a href=\"https://wandb.ai\" target=\"_blank\">Weights & Biases</a> <a href=\"https://docs.wandb.com/integrations/jupyter.html\" target=\"_blank\">(Documentation)</a>.<br/>\n",
              "                Project page: <a href=\"https://wandb.ai/jack-analyst/Remote%20Learning\" target=\"_blank\">https://wandb.ai/jack-analyst/Remote%20Learning</a><br/>\n",
              "                Run page: <a href=\"https://wandb.ai/jack-analyst/Remote%20Learning/runs/3aqy7ogm\" target=\"_blank\">https://wandb.ai/jack-analyst/Remote%20Learning/runs/3aqy7ogm</a><br/>\n",
              "                Run data is saved locally in <code>/content/wandb/run-20210818_225048-3aqy7ogm</code><br/><br/>\n",
              "            "
            ],
            "text/plain": [
              "<IPython.core.display.HTML object>"
            ]
          },
          "metadata": {}
        },
        {
          "output_type": "execute_result",
          "data": {
            "text/plain": [
              "<wandb.sdk.wandb_run.Run at 0x7fd898d89890>"
            ],
            "text/html": [
              "<h1>Run(3aqy7ogm)</h1><iframe src=\"https://wandb.ai/jack-analyst/Remote%20Learning/runs/3aqy7ogm\" style=\"border:none;width:100%;height:400px\"></iframe>"
            ]
          },
          "metadata": {},
          "execution_count": 57
        }
      ]
    },
    {
      "cell_type": "code",
      "metadata": {
        "colab": {
          "base_uri": "https://localhost:8080/",
          "height": 1000,
          "referenced_widgets": [
            "7cc930f4dc5841c38c8bcec8c92d44f6",
            "8450f5dc8dee454ba9789f2387699837",
            "aa67496dfe314c3dbe37371b07579dd6",
            "1e99b96adcd3457e826ffd732498028a",
            "246cc9086141492fbe2387c644b5d983",
            "882ca6a979684eecab68efc5b0cfc9f2",
            "fa491b65f0f34880918dd505389bdbb9",
            "ba7f3e50f1a945b981933c5e176c6c7e"
          ]
        },
        "id": "z0mIv3FdL00S",
        "outputId": "b229021a-1ec9-460b-e383-22a3b6af33f2"
      },
      "source": [
        "#Intialize the model\n",
        "model2 = Sequential()\n",
        "model2.add(layers.Embedding(max_words, 40, input_length=max_len))\n",
        "model2.add(layers.Bidirectional(layers.LSTM(20,dropout=0.6)))\n",
        "model2.add(layers.Dense(1,activation='sigmoid'))\n",
        "#Call comipiler ab=nd the checkpoints\n",
        "\n",
        "model2.compile(optimizer='rmsprop',loss='binary_crossentropy', metrics=['accuracy'])\n",
        "\n",
        "#fit the model\n",
        "\n",
        "history = model2.fit(X_train_seq_padded, y_train, epochs=10,\n",
        "                     validation_data=(X_val_seq_padded, y_val),callbacks=[WandbCallback()])\n",
        "wandb.finish()"
      ],
      "execution_count": null,
      "outputs": [
        {
          "output_type": "stream",
          "text": [
            "Epoch 1/10\n",
            "3/3 [==============================] - 6s 700ms/step - loss: 0.6559 - accuracy: 0.8295 - val_loss: 0.6096 - val_accuracy: 0.8636\n",
            "Epoch 2/10\n",
            "3/3 [==============================] - 1s 182ms/step - loss: 0.6005 - accuracy: 0.8295 - val_loss: 0.5404 - val_accuracy: 0.8636\n",
            "Epoch 3/10\n",
            "3/3 [==============================] - 0s 160ms/step - loss: 0.5368 - accuracy: 0.8295 - val_loss: 0.4552 - val_accuracy: 0.8636\n",
            "Epoch 4/10\n",
            "3/3 [==============================] - 0s 166ms/step - loss: 0.4685 - accuracy: 0.8295 - val_loss: 0.4065 - val_accuracy: 0.8636\n",
            "Epoch 5/10\n",
            "3/3 [==============================] - 0s 160ms/step - loss: 0.4637 - accuracy: 0.8295 - val_loss: 0.3978 - val_accuracy: 0.8636\n",
            "Epoch 6/10\n",
            "3/3 [==============================] - 0s 161ms/step - loss: 0.4330 - accuracy: 0.8295 - val_loss: 0.3969 - val_accuracy: 0.8636\n",
            "Epoch 7/10\n",
            "3/3 [==============================] - 0s 168ms/step - loss: 0.4249 - accuracy: 0.8295 - val_loss: 0.3946 - val_accuracy: 0.8636\n",
            "Epoch 8/10\n",
            "3/3 [==============================] - 0s 163ms/step - loss: 0.4155 - accuracy: 0.8295 - val_loss: 0.3931 - val_accuracy: 0.8636\n",
            "Epoch 9/10\n",
            "3/3 [==============================] - 0s 173ms/step - loss: 0.4091 - accuracy: 0.8295 - val_loss: 0.3958 - val_accuracy: 0.8636\n",
            "Epoch 10/10\n",
            "3/3 [==============================] - 0s 159ms/step - loss: 0.3943 - accuracy: 0.8295 - val_loss: 0.3935 - val_accuracy: 0.8636\n"
          ],
          "name": "stdout"
        },
        {
          "output_type": "display_data",
          "data": {
            "text/html": [
              "<br/>Waiting for W&B process to finish, PID 1068<br/>Program ended successfully."
            ],
            "text/plain": [
              "<IPython.core.display.HTML object>"
            ]
          },
          "metadata": {}
        },
        {
          "output_type": "display_data",
          "data": {
            "application/vnd.jupyter.widget-view+json": {
              "model_id": "7cc930f4dc5841c38c8bcec8c92d44f6",
              "version_minor": 0,
              "version_major": 2
            },
            "text/plain": [
              "VBox(children=(Label(value=' 1.88MB of 1.88MB uploaded (0.00MB deduped)\\r'), FloatProgress(value=1.0, max=1.0)…"
            ]
          },
          "metadata": {}
        },
        {
          "output_type": "display_data",
          "data": {
            "text/html": [
              "Find user logs for this run at: <code>/content/wandb/run-20210818_225048-3aqy7ogm/logs/debug.log</code>"
            ],
            "text/plain": [
              "<IPython.core.display.HTML object>"
            ]
          },
          "metadata": {}
        },
        {
          "output_type": "display_data",
          "data": {
            "text/html": [
              "Find internal logs for this run at: <code>/content/wandb/run-20210818_225048-3aqy7ogm/logs/debug-internal.log</code>"
            ],
            "text/plain": [
              "<IPython.core.display.HTML object>"
            ]
          },
          "metadata": {}
        },
        {
          "output_type": "display_data",
          "data": {
            "text/html": [
              "<h3>Run summary:</h3><br/><style>\n",
              "    table.wandb td:nth-child(1) { padding: 0 10px; text-align: right }\n",
              "    </style><table class=\"wandb\">\n",
              "<tr><td>epoch</td><td>9</td></tr><tr><td>loss</td><td>0.3943</td></tr><tr><td>accuracy</td><td>0.82955</td></tr><tr><td>val_loss</td><td>0.3935</td></tr><tr><td>val_accuracy</td><td>0.86364</td></tr><tr><td>_runtime</td><td>17</td></tr><tr><td>_timestamp</td><td>1629327065</td></tr><tr><td>_step</td><td>9</td></tr><tr><td>best_val_loss</td><td>0.39308</td></tr><tr><td>best_epoch</td><td>7</td></tr></table>"
            ],
            "text/plain": [
              "<IPython.core.display.HTML object>"
            ]
          },
          "metadata": {}
        },
        {
          "output_type": "display_data",
          "data": {
            "text/html": [
              "<h3>Run history:</h3><br/><style>\n",
              "    table.wandb td:nth-child(1) { padding: 0 10px; text-align: right }\n",
              "    </style><table class=\"wandb\">\n",
              "<tr><td>epoch</td><td>▁▂▃▃▄▅▆▆▇█</td></tr><tr><td>loss</td><td>█▇▅▃▃▂▂▂▁▁</td></tr><tr><td>accuracy</td><td>▁▁▁▁▁▁▁▁▁▁</td></tr><tr><td>val_loss</td><td>█▆▃▁▁▁▁▁▁▁</td></tr><tr><td>val_accuracy</td><td>▁▁▁▁▁▁▁▁▁▁</td></tr><tr><td>_runtime</td><td>▁▁▃▃▅▅▆▆██</td></tr><tr><td>_timestamp</td><td>▁▁▃▃▅▅▆▆██</td></tr><tr><td>_step</td><td>▁▂▃▃▄▅▆▆▇█</td></tr></table><br/>"
            ],
            "text/plain": [
              "<IPython.core.display.HTML object>"
            ]
          },
          "metadata": {}
        },
        {
          "output_type": "display_data",
          "data": {
            "text/html": [
              "Synced 5 W&B file(s), 1 media file(s), 3 artifact file(s) and 2 other file(s)"
            ],
            "text/plain": [
              "<IPython.core.display.HTML object>"
            ]
          },
          "metadata": {}
        },
        {
          "output_type": "display_data",
          "data": {
            "text/html": [
              "\n",
              "                    <br/>Synced <strong style=\"color:#cdcd00\">sunny-feather-14</strong>: <a href=\"https://wandb.ai/jack-analyst/Remote%20Learning/runs/3aqy7ogm\" target=\"_blank\">https://wandb.ai/jack-analyst/Remote%20Learning/runs/3aqy7ogm</a><br/>\n",
              "                "
            ],
            "text/plain": [
              "<IPython.core.display.HTML object>"
            ]
          },
          "metadata": {}
        }
      ]
    },
    {
      "cell_type": "code",
      "metadata": {
        "colab": {
          "base_uri": "https://localhost:8080/"
        },
        "id": "2u6HpQ6ippGV",
        "outputId": "4e3cd40a-40ab-4c2a-ab70-cda874e3bb9e"
      },
      "source": [
        "#Evaluating the model using the test data\n",
        "# predict on the test dataset.\n",
        "\n",
        "# transform text to sequences.\n",
        "X_test_seq = tokenizer.texts_to_sequences(df_test['clean_tweet'].values)\n",
        "X_test_seq_padded = pad_sequences(X_test_seq, maxlen=200)\n",
        "y_test = df_test['class'].values\n",
        "\n",
        "y_test_pred = model2.predict(X_test_seq_padded)\n",
        "y_test_pred = y_test_pred.reshape(y_test_pred.shape[0],)\n",
        "from sklearn.metrics import roc_auc_score\n",
        "from sklearn.metrics import f1_score\n",
        "\n",
        "auc_lstm = roc_auc_score(y_test, y_test_pred)\n",
        "auc_lstm"
      ],
      "execution_count": null,
      "outputs": [
        {
          "output_type": "execute_result",
          "data": {
            "text/plain": [
              "0.7478260869565218"
            ]
          },
          "metadata": {},
          "execution_count": 59
        }
      ]
    },
    {
      "cell_type": "markdown",
      "metadata": {
        "id": "NoRWM3l5PH-B"
      },
      "source": [
        "# Transformers"
      ]
    },
    {
      "cell_type": "code",
      "metadata": {
        "colab": {
          "base_uri": "https://localhost:8080/"
        },
        "id": "Au_dBcLU9Ned",
        "outputId": "0a480bed-1a2f-47cc-b8ac-87916b6364ed"
      },
      "source": [
        "!pip install git+https://github.com/huggingface/transformers.git"
      ],
      "execution_count": null,
      "outputs": [
        {
          "output_type": "stream",
          "text": [
            "Collecting git+https://github.com/huggingface/transformers.git\n",
            "  Cloning https://github.com/huggingface/transformers.git to /tmp/pip-req-build-nd_xoiqa\n",
            "  Running command git clone -q https://github.com/huggingface/transformers.git /tmp/pip-req-build-nd_xoiqa\n",
            "  Installing build dependencies ... \u001b[?25l\u001b[?25hdone\n",
            "  Getting requirements to build wheel ... \u001b[?25l\u001b[?25hdone\n",
            "    Preparing wheel metadata ... \u001b[?25l\u001b[?25hdone\n",
            "Requirement already satisfied: sacremoses in /usr/local/lib/python3.7/dist-packages (from transformers==4.10.0.dev0) (0.0.45)\n",
            "Requirement already satisfied: numpy>=1.17 in /usr/local/lib/python3.7/dist-packages (from transformers==4.10.0.dev0) (1.19.5)\n",
            "Requirement already satisfied: filelock in /usr/local/lib/python3.7/dist-packages (from transformers==4.10.0.dev0) (3.0.12)\n",
            "Requirement already satisfied: pyyaml>=5.1 in /usr/local/lib/python3.7/dist-packages (from transformers==4.10.0.dev0) (5.4.1)\n",
            "Requirement already satisfied: tqdm>=4.27 in /usr/local/lib/python3.7/dist-packages (from transformers==4.10.0.dev0) (4.62.0)\n",
            "Requirement already satisfied: regex!=2019.12.17 in /usr/local/lib/python3.7/dist-packages (from transformers==4.10.0.dev0) (2019.12.20)\n",
            "Requirement already satisfied: importlib-metadata in /usr/local/lib/python3.7/dist-packages (from transformers==4.10.0.dev0) (4.6.4)\n",
            "Requirement already satisfied: huggingface-hub>=0.0.12 in /usr/local/lib/python3.7/dist-packages (from transformers==4.10.0.dev0) (0.0.15)\n",
            "Requirement already satisfied: tokenizers<0.11,>=0.10.1 in /usr/local/lib/python3.7/dist-packages (from transformers==4.10.0.dev0) (0.10.3)\n",
            "Requirement already satisfied: requests in /usr/local/lib/python3.7/dist-packages (from transformers==4.10.0.dev0) (2.23.0)\n",
            "Requirement already satisfied: packaging in /usr/local/lib/python3.7/dist-packages (from transformers==4.10.0.dev0) (21.0)\n",
            "Requirement already satisfied: typing-extensions in /usr/local/lib/python3.7/dist-packages (from huggingface-hub>=0.0.12->transformers==4.10.0.dev0) (3.7.4.3)\n",
            "Requirement already satisfied: pyparsing>=2.0.2 in /usr/local/lib/python3.7/dist-packages (from packaging->transformers==4.10.0.dev0) (2.4.7)\n",
            "Requirement already satisfied: zipp>=0.5 in /usr/local/lib/python3.7/dist-packages (from importlib-metadata->transformers==4.10.0.dev0) (3.5.0)\n",
            "Requirement already satisfied: certifi>=2017.4.17 in /usr/local/lib/python3.7/dist-packages (from requests->transformers==4.10.0.dev0) (2021.5.30)\n",
            "Requirement already satisfied: chardet<4,>=3.0.2 in /usr/local/lib/python3.7/dist-packages (from requests->transformers==4.10.0.dev0) (3.0.4)\n",
            "Requirement already satisfied: idna<3,>=2.5 in /usr/local/lib/python3.7/dist-packages (from requests->transformers==4.10.0.dev0) (2.10)\n",
            "Requirement already satisfied: urllib3!=1.25.0,!=1.25.1,<1.26,>=1.21.1 in /usr/local/lib/python3.7/dist-packages (from requests->transformers==4.10.0.dev0) (1.24.3)\n",
            "Requirement already satisfied: joblib in /usr/local/lib/python3.7/dist-packages (from sacremoses->transformers==4.10.0.dev0) (1.0.1)\n",
            "Requirement already satisfied: six in /usr/local/lib/python3.7/dist-packages (from sacremoses->transformers==4.10.0.dev0) (1.15.0)\n",
            "Requirement already satisfied: click in /usr/local/lib/python3.7/dist-packages (from sacremoses->transformers==4.10.0.dev0) (7.1.2)\n"
          ],
          "name": "stdout"
        }
      ]
    },
    {
      "cell_type": "code",
      "metadata": {
        "id": "rh4N55549PTt"
      },
      "source": [
        "from transformers import DistilBertTokenizer\n",
        "from transformers import TFDistilBertForSequenceClassification\n",
        "import tensorflow as tf\n",
        "import pandas as pd\n",
        "import json\n",
        "import gc\n",
        "\n",
        "#for warning\n",
        "import warnings\n",
        "warnings.filterwarnings(\"ignore\")"
      ],
      "execution_count": null,
      "outputs": []
    },
    {
      "cell_type": "code",
      "metadata": {
        "id": "u9Wgu5AY9bSj"
      },
      "source": [
        "data_texts = df[\"clean_tweet\"].to_list() # Features (not-tokenized yet)\n",
        "data_labels = df[\"class\"].to_list() # Lables"
      ],
      "execution_count": null,
      "outputs": []
    },
    {
      "cell_type": "code",
      "metadata": {
        "id": "0zCAlSuw9o9A"
      },
      "source": [
        "from sklearn.model_selection import train_test_split\n",
        "\n",
        "# Split Train and Validation data\n",
        "train_texts, val_texts, train_labels, val_labels = train_test_split(data_texts, data_labels, test_size=0.2, random_state=0)\n",
        "\n",
        "# Keep some data for inference (testing)\n",
        "train_texts, test_texts, train_labels, test_labels = train_test_split(train_texts, train_labels, test_size=0.01, random_state=0)"
      ],
      "execution_count": null,
      "outputs": []
    },
    {
      "cell_type": "code",
      "metadata": {
        "id": "EUOU-KQc91Jt"
      },
      "source": [
        "#Tokenizing\n",
        "tokenizer = DistilBertTokenizer.from_pretrained('distilbert-base-uncased')\n",
        "train_encodings = tokenizer(train_texts, truncation=True, padding=True)\n",
        "val_encodings = tokenizer(val_texts, truncation=True, padding=True)"
      ],
      "execution_count": null,
      "outputs": []
    },
    {
      "cell_type": "code",
      "metadata": {
        "id": "KRtM910g94NV"
      },
      "source": [
        "train_dataset = tf.data.Dataset.from_tensor_slices((\n",
        "    dict(train_encodings),\n",
        "    train_labels\n",
        "))\n",
        "val_dataset = tf.data.Dataset.from_tensor_slices((\n",
        "    dict(val_encodings),\n",
        "    val_labels\n",
        "))"
      ],
      "execution_count": null,
      "outputs": []
    },
    {
      "cell_type": "markdown",
      "metadata": {
        "id": "uuCLXFlo-KXB"
      },
      "source": [
        "**Building the model and compiling it**"
      ]
    },
    {
      "cell_type": "code",
      "metadata": {
        "colab": {
          "base_uri": "https://localhost:8080/",
          "height": 579
        },
        "id": "ZVhwlTTBpTQp",
        "outputId": "abafc5d4-eb43-4c4d-f917-e81cad5182dc"
      },
      "source": [
        "#Intialize\n",
        "wandb.init(project=\"Remote Learning\",config=config)"
      ],
      "execution_count": null,
      "outputs": [
        {
          "output_type": "display_data",
          "data": {
            "text/html": [
              "\n",
              "                Tracking run with wandb version 0.12.0<br/>\n",
              "                Syncing run <strong style=\"color:#cdcd00\">misty-wood-15</strong> to <a href=\"https://wandb.ai\" target=\"_blank\">Weights & Biases</a> <a href=\"https://docs.wandb.com/integrations/jupyter.html\" target=\"_blank\">(Documentation)</a>.<br/>\n",
              "                Project page: <a href=\"https://wandb.ai/jack-analyst/Remote%20Learning\" target=\"_blank\">https://wandb.ai/jack-analyst/Remote%20Learning</a><br/>\n",
              "                Run page: <a href=\"https://wandb.ai/jack-analyst/Remote%20Learning/runs/3o8ermj8\" target=\"_blank\">https://wandb.ai/jack-analyst/Remote%20Learning/runs/3o8ermj8</a><br/>\n",
              "                Run data is saved locally in <code>/content/wandb/run-20210818_225137-3o8ermj8</code><br/><br/>\n",
              "            "
            ],
            "text/plain": [
              "<IPython.core.display.HTML object>"
            ]
          },
          "metadata": {}
        },
        {
          "output_type": "execute_result",
          "data": {
            "text/plain": [
              "<wandb.sdk.wandb_run.Run at 0x7fd89842f5d0>"
            ],
            "text/html": [
              "<h1>Run(3o8ermj8)</h1><iframe src=\"https://wandb.ai/jack-analyst/Remote%20Learning/runs/3o8ermj8\" style=\"border:none;width:100%;height:400px\"></iframe>"
            ]
          },
          "metadata": {},
          "execution_count": 66
        }
      ]
    },
    {
      "cell_type": "code",
      "metadata": {
        "colab": {
          "base_uri": "https://localhost:8080/"
        },
        "id": "5t9HuAQX-GRZ",
        "outputId": "04398417-308e-4793-d5f5-6f30afaa4c30"
      },
      "source": [
        "model = TFDistilBertForSequenceClassification.from_pretrained('distilbert-base-uncased', num_labels=2)\n",
        "\n",
        "optimizer = tf.keras.optimizers.Adam(learning_rate=5e-5)\n",
        "model.compile(optimizer=optimizer, loss=model.compute_loss, metrics=['accuracy'])"
      ],
      "execution_count": null,
      "outputs": [
        {
          "output_type": "stream",
          "text": [
            "Some layers from the model checkpoint at distilbert-base-uncased were not used when initializing TFDistilBertForSequenceClassification: ['vocab_layer_norm', 'vocab_transform', 'vocab_projector', 'activation_13']\n",
            "- This IS expected if you are initializing TFDistilBertForSequenceClassification from the checkpoint of a model trained on another task or with another architecture (e.g. initializing a BertForSequenceClassification model from a BertForPreTraining model).\n",
            "- This IS NOT expected if you are initializing TFDistilBertForSequenceClassification from the checkpoint of a model that you expect to be exactly identical (initializing a BertForSequenceClassification model from a BertForSequenceClassification model).\n",
            "Some layers of TFDistilBertForSequenceClassification were not initialized from the model checkpoint at distilbert-base-uncased and are newly initialized: ['classifier', 'pre_classifier', 'dropout_20']\n",
            "You should probably TRAIN this model on a down-stream task to be able to use it for predictions and inference.\n"
          ],
          "name": "stderr"
        }
      ]
    },
    {
      "cell_type": "code",
      "metadata": {
        "colab": {
          "base_uri": "https://localhost:8080/",
          "height": 1000,
          "referenced_widgets": [
            "6d8e1e3be34d4bc187f298edce65447b",
            "1b0fb280fb4247c9942c0096b3e9731d",
            "8815e9c8abee48e2914d7454f8d3c533",
            "36f43f2fc4e8492db9c512388fcc74ed",
            "680e732af1fc4316a278fbd09e931bce",
            "cba7420a806d41f3a80648b54b90cee9",
            "38687a199fe7457a94953721bc27b547",
            "73a41561718c41508e3b9d8c074159af"
          ]
        },
        "id": "93NUiYRB-UiY",
        "outputId": "137cb16d-3149-428e-be5e-6e55be9948ed"
      },
      "source": [
        "model.fit(train_dataset.shuffle(1000).batch(16), epochs=3, batch_size=16,\n",
        "          validation_data=val_dataset.shuffle(1000).batch(16),callbacks=[WandbCallback()])\n",
        "wandb.finish()"
      ],
      "execution_count": null,
      "outputs": [
        {
          "output_type": "stream",
          "text": [
            "Epoch 1/3\n",
            "WARNING:tensorflow:The parameters `output_attentions`, `output_hidden_states` and `use_cache` cannot be updated when calling a model.They have to be set to True/False in the config object (i.e.: `config=XConfig.from_pretrained('name', output_attentions=True)`).\n",
            "WARNING:tensorflow:AutoGraph could not transform <bound method Socket.send of <zmq.Socket(zmq.PUSH) at 0x7fd9053a2050>> and will run it as-is.\n",
            "Please report this to the TensorFlow team. When filing the bug, set the verbosity to 10 (on Linux, `export AUTOGRAPH_VERBOSITY=10`) and attach the full output.\n",
            "Cause: module, class, method, function, traceback, frame, or code object was expected, got cython_function_or_method\n",
            "To silence this warning, decorate the function with @tf.autograph.experimental.do_not_convert\n",
            "WARNING: AutoGraph could not transform <bound method Socket.send of <zmq.Socket(zmq.PUSH) at 0x7fd9053a2050>> and will run it as-is.\n",
            "Please report this to the TensorFlow team. When filing the bug, set the verbosity to 10 (on Linux, `export AUTOGRAPH_VERBOSITY=10`) and attach the full output.\n",
            "Cause: module, class, method, function, traceback, frame, or code object was expected, got cython_function_or_method\n",
            "To silence this warning, decorate the function with @tf.autograph.experimental.do_not_convert\n",
            "WARNING:tensorflow:AutoGraph could not transform <function wrap at 0x7fd9205b2950> and will run it as-is.\n",
            "Cause: while/else statement not yet supported\n",
            "To silence this warning, decorate the function with @tf.autograph.experimental.do_not_convert\n",
            "WARNING: AutoGraph could not transform <function wrap at 0x7fd9205b2950> and will run it as-is.\n",
            "Cause: while/else statement not yet supported\n",
            "To silence this warning, decorate the function with @tf.autograph.experimental.do_not_convert\n",
            "WARNING:tensorflow:The parameter `return_dict` cannot be set in graph mode and will always be set to `True`.\n",
            "WARNING:tensorflow:The parameters `output_attentions`, `output_hidden_states` and `use_cache` cannot be updated when calling a model.They have to be set to True/False in the config object (i.e.: `config=XConfig.from_pretrained('name', output_attentions=True)`).\n",
            "WARNING:tensorflow:The parameter `return_dict` cannot be set in graph mode and will always be set to `True`.\n",
            "7/7 [==============================] - ETA: 0s - loss: 0.5524 - accuracy: 0.8426WARNING:tensorflow:The parameters `output_attentions`, `output_hidden_states` and `use_cache` cannot be updated when calling a model.They have to be set to True/False in the config object (i.e.: `config=XConfig.from_pretrained('name', output_attentions=True)`).\n",
            "WARNING:tensorflow:The parameter `return_dict` cannot be set in graph mode and will always be set to `True`.\n",
            "7/7 [==============================] - 98s 7s/step - loss: 0.5524 - accuracy: 0.8426 - val_loss: 0.4662 - val_accuracy: 0.8214\n"
          ],
          "name": "stdout"
        },
        {
          "output_type": "stream",
          "text": [
            "\u001b[34m\u001b[1mwandb\u001b[0m: \u001b[32m\u001b[41mERROR\u001b[0m Can't save model, h5py returned error: Saving the model to HDF5 format requires the model to be a Functional model or a Sequential model. It does not work for subclassed models, because such models are defined via the body of a Python method, which isn't safely serializable. Consider saving to the Tensorflow SavedModel format (by setting save_format=\"tf\") or using `save_weights`.\n"
          ],
          "name": "stderr"
        },
        {
          "output_type": "stream",
          "text": [
            "Epoch 2/3\n",
            "7/7 [==============================] - 47s 7s/step - loss: 0.4176 - accuracy: 0.8426 - val_loss: 0.4544 - val_accuracy: 0.8214\n",
            "Epoch 3/3\n",
            "7/7 [==============================] - 47s 7s/step - loss: 0.3696 - accuracy: 0.8426 - val_loss: 0.4409 - val_accuracy: 0.8214\n"
          ],
          "name": "stdout"
        },
        {
          "output_type": "display_data",
          "data": {
            "text/html": [
              "<br/>Waiting for W&B process to finish, PID 1209<br/>Program ended successfully."
            ],
            "text/plain": [
              "<IPython.core.display.HTML object>"
            ]
          },
          "metadata": {}
        },
        {
          "output_type": "display_data",
          "data": {
            "application/vnd.jupyter.widget-view+json": {
              "model_id": "6d8e1e3be34d4bc187f298edce65447b",
              "version_minor": 0,
              "version_major": 2
            },
            "text/plain": [
              "VBox(children=(Label(value=' 0.41MB of 0.41MB uploaded (0.00MB deduped)\\r'), FloatProgress(value=1.0, max=1.0)…"
            ]
          },
          "metadata": {}
        },
        {
          "output_type": "display_data",
          "data": {
            "text/html": [
              "Find user logs for this run at: <code>/content/wandb/run-20210818_225137-3o8ermj8/logs/debug.log</code>"
            ],
            "text/plain": [
              "<IPython.core.display.HTML object>"
            ]
          },
          "metadata": {}
        },
        {
          "output_type": "display_data",
          "data": {
            "text/html": [
              "Find internal logs for this run at: <code>/content/wandb/run-20210818_225137-3o8ermj8/logs/debug-internal.log</code>"
            ],
            "text/plain": [
              "<IPython.core.display.HTML object>"
            ]
          },
          "metadata": {}
        },
        {
          "output_type": "display_data",
          "data": {
            "text/html": [
              "<h3>Run summary:</h3><br/><style>\n",
              "    table.wandb td:nth-child(1) { padding: 0 10px; text-align: right }\n",
              "    </style><table class=\"wandb\">\n",
              "<tr><td>epoch</td><td>2</td></tr><tr><td>loss</td><td>0.36964</td></tr><tr><td>accuracy</td><td>0.84259</td></tr><tr><td>val_loss</td><td>0.44086</td></tr><tr><td>val_accuracy</td><td>0.82143</td></tr><tr><td>_runtime</td><td>209</td></tr><tr><td>_timestamp</td><td>1629327306</td></tr><tr><td>_step</td><td>2</td></tr><tr><td>best_val_loss</td><td>0.44086</td></tr><tr><td>best_epoch</td><td>2</td></tr></table>"
            ],
            "text/plain": [
              "<IPython.core.display.HTML object>"
            ]
          },
          "metadata": {}
        },
        {
          "output_type": "display_data",
          "data": {
            "text/html": [
              "<h3>Run history:</h3><br/><style>\n",
              "    table.wandb td:nth-child(1) { padding: 0 10px; text-align: right }\n",
              "    </style><table class=\"wandb\">\n",
              "<tr><td>epoch</td><td>▁▅█</td></tr><tr><td>loss</td><td>█▃▁</td></tr><tr><td>accuracy</td><td>▁▁▁</td></tr><tr><td>val_loss</td><td>█▅▁</td></tr><tr><td>val_accuracy</td><td>▁▁▁</td></tr><tr><td>_runtime</td><td>▁▅█</td></tr><tr><td>_timestamp</td><td>▁▅█</td></tr><tr><td>_step</td><td>▁▅█</td></tr></table><br/>"
            ],
            "text/plain": [
              "<IPython.core.display.HTML object>"
            ]
          },
          "metadata": {}
        },
        {
          "output_type": "display_data",
          "data": {
            "text/html": [
              "Synced 5 W&B file(s), 1 media file(s), 4 artifact file(s) and 1 other file(s)"
            ],
            "text/plain": [
              "<IPython.core.display.HTML object>"
            ]
          },
          "metadata": {}
        },
        {
          "output_type": "display_data",
          "data": {
            "text/html": [
              "\n",
              "                    <br/>Synced <strong style=\"color:#cdcd00\">misty-wood-15</strong>: <a href=\"https://wandb.ai/jack-analyst/Remote%20Learning/runs/3o8ermj8\" target=\"_blank\">https://wandb.ai/jack-analyst/Remote%20Learning/runs/3o8ermj8</a><br/>\n",
              "                "
            ],
            "text/plain": [
              "<IPython.core.display.HTML object>"
            ]
          },
          "metadata": {}
        }
      ]
    },
    {
      "cell_type": "markdown",
      "metadata": {
        "id": "vaI0FBNQ_1d7"
      },
      "source": [
        "**Make Prediction**"
      ]
    },
    {
      "cell_type": "code",
      "metadata": {
        "colab": {
          "base_uri": "https://localhost:8080/"
        },
        "id": "hJybNgCqBvCW",
        "outputId": "22ef6180-e342-4c9b-fd8c-0cd1f77d1960"
      },
      "source": [
        "save_directory = \"/saved_models\" # change this to your preferred location\n",
        "\n",
        "model.save_pretrained(save_directory)\n",
        "tokenizer.save_pretrained(save_directory)"
      ],
      "execution_count": null,
      "outputs": [
        {
          "output_type": "execute_result",
          "data": {
            "text/plain": [
              "('/saved_models/tokenizer_config.json',\n",
              " '/saved_models/special_tokens_map.json',\n",
              " '/saved_models/vocab.txt',\n",
              " '/saved_models/added_tokens.json')"
            ]
          },
          "metadata": {},
          "execution_count": 69
        }
      ]
    },
    {
      "cell_type": "code",
      "metadata": {
        "colab": {
          "base_uri": "https://localhost:8080/"
        },
        "id": "cFHsEMcQBojW",
        "outputId": "b57df9e6-4029-44f7-deb0-81d677fe63ba"
      },
      "source": [
        "loaded_tokenizer = DistilBertTokenizer.from_pretrained(save_directory)\n",
        "loaded_model = TFDistilBertForSequenceClassification.from_pretrained(save_directory)"
      ],
      "execution_count": null,
      "outputs": [
        {
          "output_type": "stream",
          "text": [
            "Some layers from the model checkpoint at /saved_models were not used when initializing TFDistilBertForSequenceClassification: ['dropout_20']\n",
            "- This IS expected if you are initializing TFDistilBertForSequenceClassification from the checkpoint of a model trained on another task or with another architecture (e.g. initializing a BertForSequenceClassification model from a BertForPreTraining model).\n",
            "- This IS NOT expected if you are initializing TFDistilBertForSequenceClassification from the checkpoint of a model that you expect to be exactly identical (initializing a BertForSequenceClassification model from a BertForSequenceClassification model).\n",
            "Some layers of TFDistilBertForSequenceClassification were not initialized from the model checkpoint at /saved_models and are newly initialized: ['dropout_40']\n",
            "You should probably TRAIN this model on a down-stream task to be able to use it for predictions and inference.\n"
          ],
          "name": "stderr"
        }
      ]
    },
    {
      "cell_type": "code",
      "metadata": {
        "colab": {
          "base_uri": "https://localhost:8080/"
        },
        "id": "sa7sd9ML_4q7",
        "outputId": "432349bf-29ba-4a6b-9281-5596c21470d0"
      },
      "source": [
        "test_text = test_texts[0]\n",
        "test_text"
      ],
      "execution_count": null,
      "outputs": [
        {
          "output_type": "execute_result",
          "data": {
            "application/vnd.google.colaboratory.intrinsic+json": {
              "type": "string"
            },
            "text/plain": [
              "'onlin learn amp onlin date feel like someth happen noth happen'"
            ]
          },
          "metadata": {},
          "execution_count": 71
        }
      ]
    },
    {
      "cell_type": "code",
      "metadata": {
        "colab": {
          "base_uri": "https://localhost:8080/"
        },
        "id": "6nVgG1Cp_1Dm",
        "outputId": "44168be0-4f6a-4ef6-9feb-0503c461a4ad"
      },
      "source": [
        "predict_input = loaded_tokenizer.encode(test_text,\n",
        "                                 truncation=True,\n",
        "                                 padding=True,\n",
        "                                 return_tensors=\"tf\")\n",
        "\n",
        "output = loaded_model(predict_input)[0]\n",
        "\n",
        "prediction_value = tf.argmax(output, axis=1).numpy()[0]\n",
        "prediction_value"
      ],
      "execution_count": null,
      "outputs": [
        {
          "output_type": "execute_result",
          "data": {
            "text/plain": [
              "1"
            ]
          },
          "metadata": {},
          "execution_count": 72
        }
      ]
    }
  ]
}